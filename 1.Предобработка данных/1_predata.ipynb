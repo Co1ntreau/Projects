{
 "cells": [
  {
   "cell_type": "markdown",
   "id": "c81daeeb",
   "metadata": {
    "deletable": false,
    "id": "c81daeeb"
   },
   "source": [
    "# Исследование надежности заемщиков\n"
   ]
  },
  {
   "cell_type": "markdown",
   "id": "53bfb87f",
   "metadata": {},
   "source": [
    "## Наш заказчик — кредитный отдел банка. Нужно разобраться, влияет ли семейное положение и количество детей клиента на факт погашения кредита в срок. Входные данные от банка — статистика о платёжеспособности клиентов. Результаты исследования будут учтены при построении модели кредитного скоринга — специальной системы, которая оценивает способность потенциального заёмщика вернуть кредит банку"
   ]
  },
  {
   "cell_type": "markdown",
   "id": "744d7639",
   "metadata": {
    "deletable": false,
    "id": "744d7639"
   },
   "source": [
    "### Откроем таблицу и изучим общую информацию о данных"
   ]
  },
  {
   "cell_type": "markdown",
   "id": "e7a14c31",
   "metadata": {
    "deletable": false,
    "id": "e7a14c31"
   },
   "source": [
    "**Импортируем библиотеку pandas. Считаем данные из csv-файла в датафрейм и сохраняем в переменную `data`. Путь к файлу:**\n",
    "\n",
    "`/datasets/data.csv`"
   ]
  },
  {
   "cell_type": "code",
   "execution_count": 1,
   "id": "7bcf75c9",
   "metadata": {
    "deletable": false,
    "id": "7bcf75c9"
   },
   "outputs": [],
   "source": [
    "import pandas as pd\n",
    "\n",
    "try:\n",
    "    data = pd.read_csv('/datasets/data.csv')\n",
    "except:\n",
    "    data = pd.read_csv('https://code.s3.yandex.net/datasets/data.csv')"
   ]
  },
  {
   "cell_type": "markdown",
   "id": "b8038fe3",
   "metadata": {
    "deletable": false,
    "id": "b8038fe3"
   },
   "source": [
    "**Выведем первые 20 строчек датафрейма `data` на экран.**"
   ]
  },
  {
   "cell_type": "code",
   "execution_count": 2,
   "id": "2a7cab99",
   "metadata": {
    "deletable": false,
    "id": "2a7cab99",
    "outputId": "1a8f3ef2-d323-4ec2-ddf7-89670b5944c4"
   },
   "outputs": [
    {
     "data": {
      "text/html": [
       "<div>\n",
       "<style scoped>\n",
       "    .dataframe tbody tr th:only-of-type {\n",
       "        vertical-align: middle;\n",
       "    }\n",
       "\n",
       "    .dataframe tbody tr th {\n",
       "        vertical-align: top;\n",
       "    }\n",
       "\n",
       "    .dataframe thead th {\n",
       "        text-align: right;\n",
       "    }\n",
       "</style>\n",
       "<table border=\"1\" class=\"dataframe\">\n",
       "  <thead>\n",
       "    <tr style=\"text-align: right;\">\n",
       "      <th></th>\n",
       "      <th>children</th>\n",
       "      <th>days_employed</th>\n",
       "      <th>dob_years</th>\n",
       "      <th>education</th>\n",
       "      <th>education_id</th>\n",
       "      <th>family_status</th>\n",
       "      <th>family_status_id</th>\n",
       "      <th>gender</th>\n",
       "      <th>income_type</th>\n",
       "      <th>debt</th>\n",
       "      <th>total_income</th>\n",
       "      <th>purpose</th>\n",
       "    </tr>\n",
       "  </thead>\n",
       "  <tbody>\n",
       "    <tr>\n",
       "      <th>0</th>\n",
       "      <td>1</td>\n",
       "      <td>-8437.673028</td>\n",
       "      <td>42</td>\n",
       "      <td>высшее</td>\n",
       "      <td>0</td>\n",
       "      <td>женат / замужем</td>\n",
       "      <td>0</td>\n",
       "      <td>F</td>\n",
       "      <td>сотрудник</td>\n",
       "      <td>0</td>\n",
       "      <td>253875.639453</td>\n",
       "      <td>покупка жилья</td>\n",
       "    </tr>\n",
       "    <tr>\n",
       "      <th>1</th>\n",
       "      <td>1</td>\n",
       "      <td>-4024.803754</td>\n",
       "      <td>36</td>\n",
       "      <td>среднее</td>\n",
       "      <td>1</td>\n",
       "      <td>женат / замужем</td>\n",
       "      <td>0</td>\n",
       "      <td>F</td>\n",
       "      <td>сотрудник</td>\n",
       "      <td>0</td>\n",
       "      <td>112080.014102</td>\n",
       "      <td>приобретение автомобиля</td>\n",
       "    </tr>\n",
       "    <tr>\n",
       "      <th>2</th>\n",
       "      <td>0</td>\n",
       "      <td>-5623.422610</td>\n",
       "      <td>33</td>\n",
       "      <td>Среднее</td>\n",
       "      <td>1</td>\n",
       "      <td>женат / замужем</td>\n",
       "      <td>0</td>\n",
       "      <td>M</td>\n",
       "      <td>сотрудник</td>\n",
       "      <td>0</td>\n",
       "      <td>145885.952297</td>\n",
       "      <td>покупка жилья</td>\n",
       "    </tr>\n",
       "    <tr>\n",
       "      <th>3</th>\n",
       "      <td>3</td>\n",
       "      <td>-4124.747207</td>\n",
       "      <td>32</td>\n",
       "      <td>среднее</td>\n",
       "      <td>1</td>\n",
       "      <td>женат / замужем</td>\n",
       "      <td>0</td>\n",
       "      <td>M</td>\n",
       "      <td>сотрудник</td>\n",
       "      <td>0</td>\n",
       "      <td>267628.550329</td>\n",
       "      <td>дополнительное образование</td>\n",
       "    </tr>\n",
       "    <tr>\n",
       "      <th>4</th>\n",
       "      <td>0</td>\n",
       "      <td>340266.072047</td>\n",
       "      <td>53</td>\n",
       "      <td>среднее</td>\n",
       "      <td>1</td>\n",
       "      <td>гражданский брак</td>\n",
       "      <td>1</td>\n",
       "      <td>F</td>\n",
       "      <td>пенсионер</td>\n",
       "      <td>0</td>\n",
       "      <td>158616.077870</td>\n",
       "      <td>сыграть свадьбу</td>\n",
       "    </tr>\n",
       "    <tr>\n",
       "      <th>5</th>\n",
       "      <td>0</td>\n",
       "      <td>-926.185831</td>\n",
       "      <td>27</td>\n",
       "      <td>высшее</td>\n",
       "      <td>0</td>\n",
       "      <td>гражданский брак</td>\n",
       "      <td>1</td>\n",
       "      <td>M</td>\n",
       "      <td>компаньон</td>\n",
       "      <td>0</td>\n",
       "      <td>255763.565419</td>\n",
       "      <td>покупка жилья</td>\n",
       "    </tr>\n",
       "    <tr>\n",
       "      <th>6</th>\n",
       "      <td>0</td>\n",
       "      <td>-2879.202052</td>\n",
       "      <td>43</td>\n",
       "      <td>высшее</td>\n",
       "      <td>0</td>\n",
       "      <td>женат / замужем</td>\n",
       "      <td>0</td>\n",
       "      <td>F</td>\n",
       "      <td>компаньон</td>\n",
       "      <td>0</td>\n",
       "      <td>240525.971920</td>\n",
       "      <td>операции с жильем</td>\n",
       "    </tr>\n",
       "    <tr>\n",
       "      <th>7</th>\n",
       "      <td>0</td>\n",
       "      <td>-152.779569</td>\n",
       "      <td>50</td>\n",
       "      <td>СРЕДНЕЕ</td>\n",
       "      <td>1</td>\n",
       "      <td>женат / замужем</td>\n",
       "      <td>0</td>\n",
       "      <td>M</td>\n",
       "      <td>сотрудник</td>\n",
       "      <td>0</td>\n",
       "      <td>135823.934197</td>\n",
       "      <td>образование</td>\n",
       "    </tr>\n",
       "    <tr>\n",
       "      <th>8</th>\n",
       "      <td>2</td>\n",
       "      <td>-6929.865299</td>\n",
       "      <td>35</td>\n",
       "      <td>ВЫСШЕЕ</td>\n",
       "      <td>0</td>\n",
       "      <td>гражданский брак</td>\n",
       "      <td>1</td>\n",
       "      <td>F</td>\n",
       "      <td>сотрудник</td>\n",
       "      <td>0</td>\n",
       "      <td>95856.832424</td>\n",
       "      <td>на проведение свадьбы</td>\n",
       "    </tr>\n",
       "    <tr>\n",
       "      <th>9</th>\n",
       "      <td>0</td>\n",
       "      <td>-2188.756445</td>\n",
       "      <td>41</td>\n",
       "      <td>среднее</td>\n",
       "      <td>1</td>\n",
       "      <td>женат / замужем</td>\n",
       "      <td>0</td>\n",
       "      <td>M</td>\n",
       "      <td>сотрудник</td>\n",
       "      <td>0</td>\n",
       "      <td>144425.938277</td>\n",
       "      <td>покупка жилья для семьи</td>\n",
       "    </tr>\n",
       "    <tr>\n",
       "      <th>10</th>\n",
       "      <td>2</td>\n",
       "      <td>-4171.483647</td>\n",
       "      <td>36</td>\n",
       "      <td>высшее</td>\n",
       "      <td>0</td>\n",
       "      <td>женат / замужем</td>\n",
       "      <td>0</td>\n",
       "      <td>M</td>\n",
       "      <td>компаньон</td>\n",
       "      <td>0</td>\n",
       "      <td>113943.491460</td>\n",
       "      <td>покупка недвижимости</td>\n",
       "    </tr>\n",
       "    <tr>\n",
       "      <th>11</th>\n",
       "      <td>0</td>\n",
       "      <td>-792.701887</td>\n",
       "      <td>40</td>\n",
       "      <td>среднее</td>\n",
       "      <td>1</td>\n",
       "      <td>женат / замужем</td>\n",
       "      <td>0</td>\n",
       "      <td>F</td>\n",
       "      <td>сотрудник</td>\n",
       "      <td>0</td>\n",
       "      <td>77069.234271</td>\n",
       "      <td>покупка коммерческой недвижимости</td>\n",
       "    </tr>\n",
       "    <tr>\n",
       "      <th>12</th>\n",
       "      <td>0</td>\n",
       "      <td>NaN</td>\n",
       "      <td>65</td>\n",
       "      <td>среднее</td>\n",
       "      <td>1</td>\n",
       "      <td>гражданский брак</td>\n",
       "      <td>1</td>\n",
       "      <td>M</td>\n",
       "      <td>пенсионер</td>\n",
       "      <td>0</td>\n",
       "      <td>NaN</td>\n",
       "      <td>сыграть свадьбу</td>\n",
       "    </tr>\n",
       "    <tr>\n",
       "      <th>13</th>\n",
       "      <td>0</td>\n",
       "      <td>-1846.641941</td>\n",
       "      <td>54</td>\n",
       "      <td>неоконченное высшее</td>\n",
       "      <td>2</td>\n",
       "      <td>женат / замужем</td>\n",
       "      <td>0</td>\n",
       "      <td>F</td>\n",
       "      <td>сотрудник</td>\n",
       "      <td>0</td>\n",
       "      <td>130458.228857</td>\n",
       "      <td>приобретение автомобиля</td>\n",
       "    </tr>\n",
       "    <tr>\n",
       "      <th>14</th>\n",
       "      <td>0</td>\n",
       "      <td>-1844.956182</td>\n",
       "      <td>56</td>\n",
       "      <td>высшее</td>\n",
       "      <td>0</td>\n",
       "      <td>гражданский брак</td>\n",
       "      <td>1</td>\n",
       "      <td>F</td>\n",
       "      <td>компаньон</td>\n",
       "      <td>1</td>\n",
       "      <td>165127.911772</td>\n",
       "      <td>покупка жилой недвижимости</td>\n",
       "    </tr>\n",
       "    <tr>\n",
       "      <th>15</th>\n",
       "      <td>1</td>\n",
       "      <td>-972.364419</td>\n",
       "      <td>26</td>\n",
       "      <td>среднее</td>\n",
       "      <td>1</td>\n",
       "      <td>женат / замужем</td>\n",
       "      <td>0</td>\n",
       "      <td>F</td>\n",
       "      <td>сотрудник</td>\n",
       "      <td>0</td>\n",
       "      <td>116820.904450</td>\n",
       "      <td>строительство собственной недвижимости</td>\n",
       "    </tr>\n",
       "    <tr>\n",
       "      <th>16</th>\n",
       "      <td>0</td>\n",
       "      <td>-1719.934226</td>\n",
       "      <td>35</td>\n",
       "      <td>среднее</td>\n",
       "      <td>1</td>\n",
       "      <td>женат / замужем</td>\n",
       "      <td>0</td>\n",
       "      <td>F</td>\n",
       "      <td>сотрудник</td>\n",
       "      <td>0</td>\n",
       "      <td>289202.704229</td>\n",
       "      <td>недвижимость</td>\n",
       "    </tr>\n",
       "    <tr>\n",
       "      <th>17</th>\n",
       "      <td>0</td>\n",
       "      <td>-2369.999720</td>\n",
       "      <td>33</td>\n",
       "      <td>высшее</td>\n",
       "      <td>0</td>\n",
       "      <td>гражданский брак</td>\n",
       "      <td>1</td>\n",
       "      <td>M</td>\n",
       "      <td>сотрудник</td>\n",
       "      <td>0</td>\n",
       "      <td>90410.586745</td>\n",
       "      <td>строительство недвижимости</td>\n",
       "    </tr>\n",
       "    <tr>\n",
       "      <th>18</th>\n",
       "      <td>0</td>\n",
       "      <td>400281.136913</td>\n",
       "      <td>53</td>\n",
       "      <td>среднее</td>\n",
       "      <td>1</td>\n",
       "      <td>вдовец / вдова</td>\n",
       "      <td>2</td>\n",
       "      <td>F</td>\n",
       "      <td>пенсионер</td>\n",
       "      <td>0</td>\n",
       "      <td>56823.777243</td>\n",
       "      <td>на покупку подержанного автомобиля</td>\n",
       "    </tr>\n",
       "    <tr>\n",
       "      <th>19</th>\n",
       "      <td>0</td>\n",
       "      <td>-10038.818549</td>\n",
       "      <td>48</td>\n",
       "      <td>СРЕДНЕЕ</td>\n",
       "      <td>1</td>\n",
       "      <td>в разводе</td>\n",
       "      <td>3</td>\n",
       "      <td>F</td>\n",
       "      <td>сотрудник</td>\n",
       "      <td>0</td>\n",
       "      <td>242831.107982</td>\n",
       "      <td>на покупку своего автомобиля</td>\n",
       "    </tr>\n",
       "  </tbody>\n",
       "</table>\n",
       "</div>"
      ],
      "text/plain": [
       "    children  days_employed  dob_years            education  education_id  \\\n",
       "0          1   -8437.673028         42               высшее             0   \n",
       "1          1   -4024.803754         36              среднее             1   \n",
       "2          0   -5623.422610         33              Среднее             1   \n",
       "3          3   -4124.747207         32              среднее             1   \n",
       "4          0  340266.072047         53              среднее             1   \n",
       "5          0    -926.185831         27               высшее             0   \n",
       "6          0   -2879.202052         43               высшее             0   \n",
       "7          0    -152.779569         50              СРЕДНЕЕ             1   \n",
       "8          2   -6929.865299         35               ВЫСШЕЕ             0   \n",
       "9          0   -2188.756445         41              среднее             1   \n",
       "10         2   -4171.483647         36               высшее             0   \n",
       "11         0    -792.701887         40              среднее             1   \n",
       "12         0            NaN         65              среднее             1   \n",
       "13         0   -1846.641941         54  неоконченное высшее             2   \n",
       "14         0   -1844.956182         56               высшее             0   \n",
       "15         1    -972.364419         26              среднее             1   \n",
       "16         0   -1719.934226         35              среднее             1   \n",
       "17         0   -2369.999720         33               высшее             0   \n",
       "18         0  400281.136913         53              среднее             1   \n",
       "19         0  -10038.818549         48              СРЕДНЕЕ             1   \n",
       "\n",
       "       family_status  family_status_id gender income_type  debt  \\\n",
       "0    женат / замужем                 0      F   сотрудник     0   \n",
       "1    женат / замужем                 0      F   сотрудник     0   \n",
       "2    женат / замужем                 0      M   сотрудник     0   \n",
       "3    женат / замужем                 0      M   сотрудник     0   \n",
       "4   гражданский брак                 1      F   пенсионер     0   \n",
       "5   гражданский брак                 1      M   компаньон     0   \n",
       "6    женат / замужем                 0      F   компаньон     0   \n",
       "7    женат / замужем                 0      M   сотрудник     0   \n",
       "8   гражданский брак                 1      F   сотрудник     0   \n",
       "9    женат / замужем                 0      M   сотрудник     0   \n",
       "10   женат / замужем                 0      M   компаньон     0   \n",
       "11   женат / замужем                 0      F   сотрудник     0   \n",
       "12  гражданский брак                 1      M   пенсионер     0   \n",
       "13   женат / замужем                 0      F   сотрудник     0   \n",
       "14  гражданский брак                 1      F   компаньон     1   \n",
       "15   женат / замужем                 0      F   сотрудник     0   \n",
       "16   женат / замужем                 0      F   сотрудник     0   \n",
       "17  гражданский брак                 1      M   сотрудник     0   \n",
       "18    вдовец / вдова                 2      F   пенсионер     0   \n",
       "19         в разводе                 3      F   сотрудник     0   \n",
       "\n",
       "     total_income                                 purpose  \n",
       "0   253875.639453                           покупка жилья  \n",
       "1   112080.014102                 приобретение автомобиля  \n",
       "2   145885.952297                           покупка жилья  \n",
       "3   267628.550329              дополнительное образование  \n",
       "4   158616.077870                         сыграть свадьбу  \n",
       "5   255763.565419                           покупка жилья  \n",
       "6   240525.971920                       операции с жильем  \n",
       "7   135823.934197                             образование  \n",
       "8    95856.832424                   на проведение свадьбы  \n",
       "9   144425.938277                 покупка жилья для семьи  \n",
       "10  113943.491460                    покупка недвижимости  \n",
       "11   77069.234271       покупка коммерческой недвижимости  \n",
       "12            NaN                         сыграть свадьбу  \n",
       "13  130458.228857                 приобретение автомобиля  \n",
       "14  165127.911772              покупка жилой недвижимости  \n",
       "15  116820.904450  строительство собственной недвижимости  \n",
       "16  289202.704229                            недвижимость  \n",
       "17   90410.586745              строительство недвижимости  \n",
       "18   56823.777243      на покупку подержанного автомобиля  \n",
       "19  242831.107982            на покупку своего автомобиля  "
      ]
     },
     "execution_count": 2,
     "metadata": {},
     "output_type": "execute_result"
    }
   ],
   "source": [
    "data.head(20)"
   ]
  },
  {
   "cell_type": "markdown",
   "id": "1c12e233",
   "metadata": {
    "deletable": false,
    "id": "1c12e233"
   },
   "source": [
    "**Выведем основную информацию о датафрейме с помощью метода `info()`.**"
   ]
  },
  {
   "cell_type": "code",
   "execution_count": 3,
   "id": "2b757bca",
   "metadata": {
    "deletable": false,
    "id": "2b757bca",
    "outputId": "15376089-8dad-46c9-b520-c05248d43158"
   },
   "outputs": [
    {
     "name": "stdout",
     "output_type": "stream",
     "text": [
      "<class 'pandas.core.frame.DataFrame'>\n",
      "RangeIndex: 21525 entries, 0 to 21524\n",
      "Data columns (total 12 columns):\n",
      " #   Column            Non-Null Count  Dtype  \n",
      "---  ------            --------------  -----  \n",
      " 0   children          21525 non-null  int64  \n",
      " 1   days_employed     19351 non-null  float64\n",
      " 2   dob_years         21525 non-null  int64  \n",
      " 3   education         21525 non-null  object \n",
      " 4   education_id      21525 non-null  int64  \n",
      " 5   family_status     21525 non-null  object \n",
      " 6   family_status_id  21525 non-null  int64  \n",
      " 7   gender            21525 non-null  object \n",
      " 8   income_type       21525 non-null  object \n",
      " 9   debt              21525 non-null  int64  \n",
      " 10  total_income      19351 non-null  float64\n",
      " 11  purpose           21525 non-null  object \n",
      "dtypes: float64(2), int64(5), object(5)\n",
      "memory usage: 2.0+ MB\n"
     ]
    }
   ],
   "source": [
    "data.info()"
   ]
  },
  {
   "cell_type": "markdown",
   "id": "333ec665",
   "metadata": {
    "deletable": false,
    "id": "333ec665"
   },
   "source": [
    "## Предобработка данных"
   ]
  },
  {
   "cell_type": "markdown",
   "id": "02d92d53",
   "metadata": {
    "deletable": false,
    "id": "02d92d53"
   },
   "source": [
    "### Удаление пропусков"
   ]
  },
  {
   "cell_type": "markdown",
   "id": "cd84967c",
   "metadata": {
    "deletable": false,
    "id": "cd84967c"
   },
   "source": [
    "**Выведем количество пропущенных значений для каждого столбца. Используем комбинацию двух методов.**"
   ]
  },
  {
   "cell_type": "code",
   "execution_count": 4,
   "id": "7f9b2309",
   "metadata": {
    "deletable": false,
    "id": "7f9b2309",
    "outputId": "81f4d817-781c-465c-ed15-91ce4446810d"
   },
   "outputs": [
    {
     "data": {
      "text/plain": [
       "children               0\n",
       "days_employed       2174\n",
       "dob_years              0\n",
       "education              0\n",
       "education_id           0\n",
       "family_status          0\n",
       "family_status_id       0\n",
       "gender                 0\n",
       "income_type            0\n",
       "debt                   0\n",
       "total_income        2174\n",
       "purpose                0\n",
       "dtype: int64"
      ]
     },
     "execution_count": 4,
     "metadata": {},
     "output_type": "execute_result"
    }
   ],
   "source": [
    "data.isna().sum()"
   ]
  },
  {
   "cell_type": "markdown",
   "id": "db86e27b",
   "metadata": {
    "deletable": false,
    "id": "db86e27b"
   },
   "source": [
    "**В двух столбцах есть пропущенные значения. Один из них — `days_employed`. Другой столбец с пропущенными значениями — `total_income` — хранит данные о доходах. На сумму дохода сильнее всего влияет тип занятости, поэтому заполнить пропуски в этом столбце нужно медианным значением по каждому типу из столбца `income_type`. Например, у человека с типом занятости `сотрудник` пропуск в столбце `total_income` должен быть заполнен медианным доходом среди всех записей с тем же типом.**"
   ]
  },
  {
   "cell_type": "code",
   "execution_count": 5,
   "id": "42006a93",
   "metadata": {
    "deletable": false,
    "id": "42006a93"
   },
   "outputs": [],
   "source": [
    "for t in data['income_type'].unique():\n",
    "    data.loc[(data['income_type'] == t) & (data['total_income'].isna()), 'total_income'] = \\\n",
    "    data.loc[(data['income_type'] == t), 'total_income'].median()"
   ]
  },
  {
   "cell_type": "markdown",
   "id": "89da5ece",
   "metadata": {
    "deletable": false,
    "id": "89da5ece"
   },
   "source": [
    "### Обработка аномальных значений"
   ]
  },
  {
   "cell_type": "markdown",
   "id": "57964554",
   "metadata": {
    "deletable": false,
    "id": "57964554"
   },
   "source": [
    "**В данных могут встречаться артефакты (аномалии) — значения, которые не отражают действительность и появились по какой-то ошибке. Таким артефактом будет отрицательное количество дней трудового стажа в столбце `days_employed`. Для реальных данных это нормально. Обработаем значения в этом столбце: заменим все отрицательные значения положительными с помощью метода `abs()`.**"
   ]
  },
  {
   "cell_type": "code",
   "execution_count": 6,
   "id": "f6f055bf",
   "metadata": {
    "deletable": false,
    "id": "f6f055bf"
   },
   "outputs": [],
   "source": [
    "data['days_employed'] = data['days_employed'].abs()"
   ]
  },
  {
   "cell_type": "markdown",
   "id": "6107dd2f",
   "metadata": {
    "deletable": false,
    "id": "6107dd2f"
   },
   "source": [
    "**Для каждого типа занятости выведем медианное значение трудового стажа `days_employed` в днях.**"
   ]
  },
  {
   "cell_type": "code",
   "execution_count": 7,
   "id": "85a5faf6",
   "metadata": {
    "deletable": false,
    "id": "85a5faf6",
    "outputId": "801ef80e-522b-4668-f34e-565af7432bcf"
   },
   "outputs": [
    {
     "data": {
      "text/plain": [
       "income_type\n",
       "безработный        366413.652744\n",
       "в декрете            3296.759962\n",
       "госслужащий          2689.368353\n",
       "компаньон            1547.382223\n",
       "пенсионер          365213.306266\n",
       "предприниматель       520.848083\n",
       "сотрудник            1574.202821\n",
       "студент               578.751554\n",
       "Name: days_employed, dtype: float64"
      ]
     },
     "execution_count": 7,
     "metadata": {},
     "output_type": "execute_result"
    }
   ],
   "source": [
    "data.groupby('income_type')['days_employed'].agg('median')"
   ]
  },
  {
   "cell_type": "markdown",
   "id": "38d1a030",
   "metadata": {
    "deletable": false,
    "id": "38d1a030"
   },
   "source": [
    "У двух типов (безработные и пенсионеры) получатся аномально большие значения. Исправить такие значения сложно, поэтому оставьте их как есть. Тем более этот столбец не понадобится вам для исследования."
   ]
  },
  {
   "cell_type": "markdown",
   "id": "d8a9f147",
   "metadata": {
    "deletable": false,
    "id": "d8a9f147"
   },
   "source": [
    "**Выведем перечень уникальных значений столбца `children`.**"
   ]
  },
  {
   "cell_type": "code",
   "execution_count": 8,
   "id": "ef5056eb",
   "metadata": {
    "deletable": false,
    "id": "ef5056eb",
    "outputId": "6975b15c-7f95-4697-d16d-a0c79b657b03"
   },
   "outputs": [
    {
     "data": {
      "text/plain": [
       "array([ 1,  0,  3,  2, -1,  4, 20,  5], dtype=int64)"
      ]
     },
     "execution_count": 8,
     "metadata": {},
     "output_type": "execute_result"
    }
   ],
   "source": [
    "data['children'].unique()"
   ]
  },
  {
   "cell_type": "markdown",
   "id": "40b9ebf2",
   "metadata": {
    "deletable": false,
    "id": "40b9ebf2"
   },
   "source": [
    "**В столбце `children` есть два аномальных значения. Удалим строки, в которых встречаются такие аномальные значения из датафрейма `data`.**"
   ]
  },
  {
   "cell_type": "code",
   "execution_count": 9,
   "id": "3ff9801d",
   "metadata": {
    "deletable": false,
    "id": "3ff9801d"
   },
   "outputs": [],
   "source": [
    "data = data[(data['children'] != -1) & (data['children'] != 20)]"
   ]
  },
  {
   "cell_type": "markdown",
   "id": "bbc4d0ce",
   "metadata": {
    "deletable": false,
    "id": "bbc4d0ce"
   },
   "source": [
    "**Ещё раз выведем перечень уникальных значений столбца `children`, чтобы убедиться, что артефакты удалены.**"
   ]
  },
  {
   "cell_type": "code",
   "execution_count": 10,
   "id": "ad4fa8b7",
   "metadata": {
    "deletable": false,
    "id": "ad4fa8b7",
    "outputId": "b2097101-d49d-44d9-901b-32a65c9463d1"
   },
   "outputs": [
    {
     "data": {
      "text/plain": [
       "array([1, 0, 3, 2, 4, 5], dtype=int64)"
      ]
     },
     "execution_count": 10,
     "metadata": {},
     "output_type": "execute_result"
    }
   ],
   "source": [
    "data['children'].unique()"
   ]
  },
  {
   "cell_type": "markdown",
   "id": "75440b63",
   "metadata": {
    "deletable": false,
    "id": "75440b63"
   },
   "source": [
    "### Удаление пропусков (продолжение)"
   ]
  },
  {
   "cell_type": "markdown",
   "id": "f4ea573f",
   "metadata": {
    "deletable": false,
    "id": "f4ea573f"
   },
   "source": [
    "**Заполним пропуски в столбце `days_employed` медианными значениями по каждого типа занятости `income_type`.**"
   ]
  },
  {
   "cell_type": "code",
   "execution_count": 11,
   "id": "af6b1a7e",
   "metadata": {
    "deletable": false,
    "id": "af6b1a7e"
   },
   "outputs": [],
   "source": [
    "for t in data['income_type'].unique():\n",
    "    data.loc[(data['income_type'] == t) & (data['days_employed'].isna()), 'days_employed'] = \\\n",
    "    data.loc[(data['income_type'] == t), 'days_employed'].median()"
   ]
  },
  {
   "cell_type": "markdown",
   "id": "2753f40d",
   "metadata": {
    "deletable": false,
    "id": "2753f40d"
   },
   "source": [
    "**Убедимся, что все пропуски заполнены. Проверим себя и ещё раз выведем количество пропущенных значений для каждого столбца с помощью двух методов.**"
   ]
  },
  {
   "cell_type": "code",
   "execution_count": 12,
   "id": "55f78bc2",
   "metadata": {
    "deletable": false,
    "id": "55f78bc2",
    "outputId": "8da1e4e1-358e-4e87-98c9-f261bce0a7b2"
   },
   "outputs": [
    {
     "data": {
      "text/plain": [
       "children            0\n",
       "days_employed       0\n",
       "dob_years           0\n",
       "education           0\n",
       "education_id        0\n",
       "family_status       0\n",
       "family_status_id    0\n",
       "gender              0\n",
       "income_type         0\n",
       "debt                0\n",
       "total_income        0\n",
       "purpose             0\n",
       "dtype: int64"
      ]
     },
     "execution_count": 12,
     "metadata": {},
     "output_type": "execute_result"
    }
   ],
   "source": [
    "data.isna().sum()"
   ]
  },
  {
   "cell_type": "markdown",
   "id": "ddc81e43",
   "metadata": {
    "deletable": false,
    "id": "ddc81e43"
   },
   "source": [
    "### Изменение типов данных"
   ]
  },
  {
   "cell_type": "markdown",
   "id": "42d19d24",
   "metadata": {
    "deletable": false,
    "id": "42d19d24"
   },
   "source": [
    "**Заменим вещественный тип данных в столбце `total_income` на целочисленный с помощью метода `astype()`.**"
   ]
  },
  {
   "cell_type": "code",
   "execution_count": 13,
   "id": "920b65ad",
   "metadata": {
    "deletable": false,
    "id": "920b65ad"
   },
   "outputs": [],
   "source": [
    "data['total_income'] = data['total_income'].astype(int)"
   ]
  },
  {
   "cell_type": "markdown",
   "id": "80c420ba",
   "metadata": {
    "deletable": false,
    "id": "80c420ba"
   },
   "source": [
    "### Обработка дубликатов"
   ]
  },
  {
   "cell_type": "markdown",
   "id": "dc587695",
   "metadata": {
    "deletable": false,
    "id": "dc587695"
   },
   "source": [
    "**Выведем на экран количество строк-дубликатов в данных. Если такие строки присутствуют, удалим их.**"
   ]
  },
  {
   "cell_type": "code",
   "execution_count": 14,
   "id": "3ee445e4",
   "metadata": {
    "deletable": false,
    "id": "3ee445e4",
    "outputId": "9684deba-1934-42d1-99e1-cda61740f822"
   },
   "outputs": [
    {
     "data": {
      "text/plain": [
       "54"
      ]
     },
     "execution_count": 14,
     "metadata": {},
     "output_type": "execute_result"
    }
   ],
   "source": [
    "data.duplicated().sum()"
   ]
  },
  {
   "cell_type": "code",
   "execution_count": 15,
   "id": "8575fe05",
   "metadata": {
    "deletable": false,
    "id": "8575fe05"
   },
   "outputs": [],
   "source": [
    "data = data.drop_duplicates()"
   ]
  },
  {
   "cell_type": "markdown",
   "id": "9771a76c",
   "metadata": {
    "deletable": false,
    "id": "9771a76c"
   },
   "source": [
    "**Обработаем неявные дубликаты в столбце `education`. В этом столбце есть одни и те же значения, но записанные по-разному: с использованием заглавных и строчных букв. Приведем их к нижнему регистру. Проверим остальные столбцы.**"
   ]
  },
  {
   "cell_type": "code",
   "execution_count": 16,
   "id": "a9f8e2bf",
   "metadata": {
    "deletable": false,
    "id": "a9f8e2bf"
   },
   "outputs": [],
   "source": [
    "data['education'] = data['education'].str.lower()"
   ]
  },
  {
   "cell_type": "markdown",
   "id": "9904cf55",
   "metadata": {
    "deletable": false,
    "id": "9904cf55"
   },
   "source": [
    "### Категоризация данных"
   ]
  },
  {
   "cell_type": "markdown",
   "id": "72fcc8a2",
   "metadata": {
    "deletable": false,
    "id": "72fcc8a2"
   },
   "source": [
    "**На основании диапазонов, указанных ниже, создадим в датафрейме `data` столбец `total_income_category` с категориями:**\n",
    "\n",
    "- 0–30000 — `'E'`;\n",
    "- 30001–50000 — `'D'`;\n",
    "- 50001–200000 — `'C'`;\n",
    "- 200001–1000000 — `'B'`;\n",
    "- 1000001 и выше — `'A'`.\n",
    "\n",
    "\n",
    "**Например, кредитополучателю с доходом 25000 назначим категорию `'E'`, а клиенту, получающему 235000, — `'B'`.**"
   ]
  },
  {
   "cell_type": "code",
   "execution_count": 17,
   "id": "e1771346",
   "metadata": {
    "deletable": false,
    "id": "e1771346"
   },
   "outputs": [],
   "source": [
    "def categorize_income(income):\n",
    "    try:\n",
    "        if 0 <= income <= 30000:\n",
    "            return 'E'\n",
    "        elif 30001 <= income <= 50000:\n",
    "            return 'D'\n",
    "        elif 50001 <= income <= 200000:\n",
    "            return 'C'\n",
    "        elif 200001 <= income <= 1000000:\n",
    "            return 'B'\n",
    "        elif income >= 1000001:\n",
    "            return 'A'\n",
    "    except:\n",
    "        pass"
   ]
  },
  {
   "cell_type": "code",
   "execution_count": 18,
   "id": "d5f3586d",
   "metadata": {
    "deletable": false,
    "id": "d5f3586d"
   },
   "outputs": [],
   "source": [
    "data['total_income_category'] = data['total_income'].apply(categorize_income)"
   ]
  },
  {
   "cell_type": "markdown",
   "id": "dde49b5c",
   "metadata": {
    "deletable": false,
    "id": "dde49b5c"
   },
   "source": [
    "**Выведем на экран перечень уникальных целей взятия кредита из столбца `purpose`.**"
   ]
  },
  {
   "cell_type": "code",
   "execution_count": 19,
   "id": "f67ce9b3",
   "metadata": {
    "deletable": false,
    "id": "f67ce9b3",
    "outputId": "673c12d9-7d7e-4ae0-9812-c622c89dd244"
   },
   "outputs": [
    {
     "data": {
      "text/plain": [
       "array(['покупка жилья', 'приобретение автомобиля',\n",
       "       'дополнительное образование', 'сыграть свадьбу',\n",
       "       'операции с жильем', 'образование', 'на проведение свадьбы',\n",
       "       'покупка жилья для семьи', 'покупка недвижимости',\n",
       "       'покупка коммерческой недвижимости', 'покупка жилой недвижимости',\n",
       "       'строительство собственной недвижимости', 'недвижимость',\n",
       "       'строительство недвижимости', 'на покупку подержанного автомобиля',\n",
       "       'на покупку своего автомобиля',\n",
       "       'операции с коммерческой недвижимостью',\n",
       "       'строительство жилой недвижимости', 'жилье',\n",
       "       'операции со своей недвижимостью', 'автомобили',\n",
       "       'заняться образованием', 'сделка с подержанным автомобилем',\n",
       "       'получение образования', 'автомобиль', 'свадьба',\n",
       "       'получение дополнительного образования', 'покупка своего жилья',\n",
       "       'операции с недвижимостью', 'получение высшего образования',\n",
       "       'свой автомобиль', 'сделка с автомобилем',\n",
       "       'профильное образование', 'высшее образование',\n",
       "       'покупка жилья для сдачи', 'на покупку автомобиля', 'ремонт жилью',\n",
       "       'заняться высшим образованием'], dtype=object)"
      ]
     },
     "execution_count": 19,
     "metadata": {},
     "output_type": "execute_result"
    }
   ],
   "source": [
    "data['purpose'].unique()"
   ]
  },
  {
   "cell_type": "markdown",
   "id": "85d0aef0",
   "metadata": {
    "deletable": false,
    "id": "85d0aef0"
   },
   "source": [
    "**Создали функцию, которая на основании данных из столбца `purpose` сформирует новый столбец `purpose_category`, в который войдут следующие категории:**\n",
    "\n",
    "- `'операции с автомобилем'`,\n",
    "- `'операции с недвижимостью'`,\n",
    "- `'проведение свадьбы'`,\n",
    "- `'получение образования'`.\n",
    "\n",
    "**Например, если в столбце `purpose` находится подстрока `'на покупку автомобиля'`, то в столбце `purpose_category` должна появиться строка `'операции с автомобилем'`.**"
   ]
  },
  {
   "cell_type": "code",
   "execution_count": 20,
   "id": "e149fab4",
   "metadata": {
    "deletable": false,
    "id": "e149fab4"
   },
   "outputs": [],
   "source": [
    "def categorize_purpose(row):\n",
    "    try:\n",
    "        if 'автом' in row:\n",
    "            return 'операции с автомобилем'\n",
    "        elif 'жил' in row or 'недвиж' in row:\n",
    "            return 'операции с недвижимостью'\n",
    "        elif 'свад' in row:\n",
    "            return 'проведение свадьбы'\n",
    "        elif 'образов' in row:\n",
    "            return 'получение образования'\n",
    "    except:\n",
    "        return 'нет категории'"
   ]
  },
  {
   "cell_type": "code",
   "execution_count": 21,
   "id": "bf36e69b",
   "metadata": {
    "deletable": false,
    "id": "bf36e69b"
   },
   "outputs": [],
   "source": [
    "data['purpose_category'] = data['purpose'].apply(categorize_purpose)"
   ]
  },
  {
   "cell_type": "markdown",
   "id": "09b242bf",
   "metadata": {
    "deletable": false,
    "editable": false,
    "id": "09b242bf"
   },
   "source": [
    "## Исследуйте данные и ответьте на вопросы"
   ]
  },
  {
   "cell_type": "markdown",
   "id": "c5d66278",
   "metadata": {
    "deletable": false,
    "editable": false,
    "id": "c5d66278"
   },
   "source": [
    "**Задание 19. Есть ли зависимость между количеством детей и возвратом кредита в срок?**"
   ]
  },
  {
   "cell_type": "code",
   "execution_count": 22,
   "id": "8531ae4e",
   "metadata": {},
   "outputs": [],
   "source": [
    "data = data.rename(columns={'debt': 'credit_repayment_status'})\n"
   ]
  },
  {
   "cell_type": "code",
   "execution_count": 23,
   "id": "9174937c",
   "metadata": {},
   "outputs": [
    {
     "data": {
      "text/html": [
       "<div>\n",
       "<style scoped>\n",
       "    .dataframe tbody tr th:only-of-type {\n",
       "        vertical-align: middle;\n",
       "    }\n",
       "\n",
       "    .dataframe tbody tr th {\n",
       "        vertical-align: top;\n",
       "    }\n",
       "\n",
       "    .dataframe thead th {\n",
       "        text-align: right;\n",
       "    }\n",
       "</style>\n",
       "<table border=\"1\" class=\"dataframe\">\n",
       "  <thead>\n",
       "    <tr style=\"text-align: right;\">\n",
       "      <th></th>\n",
       "      <th>children</th>\n",
       "      <th>days_employed</th>\n",
       "      <th>dob_years</th>\n",
       "      <th>education</th>\n",
       "      <th>education_id</th>\n",
       "      <th>family_status</th>\n",
       "      <th>family_status_id</th>\n",
       "      <th>gender</th>\n",
       "      <th>income_type</th>\n",
       "      <th>credit_repayment_status</th>\n",
       "      <th>total_income</th>\n",
       "      <th>purpose</th>\n",
       "      <th>total_income_category</th>\n",
       "      <th>purpose_category</th>\n",
       "    </tr>\n",
       "  </thead>\n",
       "  <tbody>\n",
       "    <tr>\n",
       "      <th>0</th>\n",
       "      <td>1</td>\n",
       "      <td>8437.673028</td>\n",
       "      <td>42</td>\n",
       "      <td>высшее</td>\n",
       "      <td>0</td>\n",
       "      <td>женат / замужем</td>\n",
       "      <td>0</td>\n",
       "      <td>F</td>\n",
       "      <td>сотрудник</td>\n",
       "      <td>0</td>\n",
       "      <td>253875</td>\n",
       "      <td>покупка жилья</td>\n",
       "      <td>B</td>\n",
       "      <td>операции с недвижимостью</td>\n",
       "    </tr>\n",
       "    <tr>\n",
       "      <th>1</th>\n",
       "      <td>1</td>\n",
       "      <td>4024.803754</td>\n",
       "      <td>36</td>\n",
       "      <td>среднее</td>\n",
       "      <td>1</td>\n",
       "      <td>женат / замужем</td>\n",
       "      <td>0</td>\n",
       "      <td>F</td>\n",
       "      <td>сотрудник</td>\n",
       "      <td>0</td>\n",
       "      <td>112080</td>\n",
       "      <td>приобретение автомобиля</td>\n",
       "      <td>C</td>\n",
       "      <td>операции с автомобилем</td>\n",
       "    </tr>\n",
       "    <tr>\n",
       "      <th>2</th>\n",
       "      <td>0</td>\n",
       "      <td>5623.422610</td>\n",
       "      <td>33</td>\n",
       "      <td>среднее</td>\n",
       "      <td>1</td>\n",
       "      <td>женат / замужем</td>\n",
       "      <td>0</td>\n",
       "      <td>M</td>\n",
       "      <td>сотрудник</td>\n",
       "      <td>0</td>\n",
       "      <td>145885</td>\n",
       "      <td>покупка жилья</td>\n",
       "      <td>C</td>\n",
       "      <td>операции с недвижимостью</td>\n",
       "    </tr>\n",
       "    <tr>\n",
       "      <th>3</th>\n",
       "      <td>3</td>\n",
       "      <td>4124.747207</td>\n",
       "      <td>32</td>\n",
       "      <td>среднее</td>\n",
       "      <td>1</td>\n",
       "      <td>женат / замужем</td>\n",
       "      <td>0</td>\n",
       "      <td>M</td>\n",
       "      <td>сотрудник</td>\n",
       "      <td>0</td>\n",
       "      <td>267628</td>\n",
       "      <td>дополнительное образование</td>\n",
       "      <td>B</td>\n",
       "      <td>получение образования</td>\n",
       "    </tr>\n",
       "    <tr>\n",
       "      <th>4</th>\n",
       "      <td>0</td>\n",
       "      <td>340266.072047</td>\n",
       "      <td>53</td>\n",
       "      <td>среднее</td>\n",
       "      <td>1</td>\n",
       "      <td>гражданский брак</td>\n",
       "      <td>1</td>\n",
       "      <td>F</td>\n",
       "      <td>пенсионер</td>\n",
       "      <td>0</td>\n",
       "      <td>158616</td>\n",
       "      <td>сыграть свадьбу</td>\n",
       "      <td>C</td>\n",
       "      <td>проведение свадьбы</td>\n",
       "    </tr>\n",
       "    <tr>\n",
       "      <th>5</th>\n",
       "      <td>0</td>\n",
       "      <td>926.185831</td>\n",
       "      <td>27</td>\n",
       "      <td>высшее</td>\n",
       "      <td>0</td>\n",
       "      <td>гражданский брак</td>\n",
       "      <td>1</td>\n",
       "      <td>M</td>\n",
       "      <td>компаньон</td>\n",
       "      <td>0</td>\n",
       "      <td>255763</td>\n",
       "      <td>покупка жилья</td>\n",
       "      <td>B</td>\n",
       "      <td>операции с недвижимостью</td>\n",
       "    </tr>\n",
       "    <tr>\n",
       "      <th>6</th>\n",
       "      <td>0</td>\n",
       "      <td>2879.202052</td>\n",
       "      <td>43</td>\n",
       "      <td>высшее</td>\n",
       "      <td>0</td>\n",
       "      <td>женат / замужем</td>\n",
       "      <td>0</td>\n",
       "      <td>F</td>\n",
       "      <td>компаньон</td>\n",
       "      <td>0</td>\n",
       "      <td>240525</td>\n",
       "      <td>операции с жильем</td>\n",
       "      <td>B</td>\n",
       "      <td>операции с недвижимостью</td>\n",
       "    </tr>\n",
       "    <tr>\n",
       "      <th>7</th>\n",
       "      <td>0</td>\n",
       "      <td>152.779569</td>\n",
       "      <td>50</td>\n",
       "      <td>среднее</td>\n",
       "      <td>1</td>\n",
       "      <td>женат / замужем</td>\n",
       "      <td>0</td>\n",
       "      <td>M</td>\n",
       "      <td>сотрудник</td>\n",
       "      <td>0</td>\n",
       "      <td>135823</td>\n",
       "      <td>образование</td>\n",
       "      <td>C</td>\n",
       "      <td>получение образования</td>\n",
       "    </tr>\n",
       "    <tr>\n",
       "      <th>8</th>\n",
       "      <td>2</td>\n",
       "      <td>6929.865299</td>\n",
       "      <td>35</td>\n",
       "      <td>высшее</td>\n",
       "      <td>0</td>\n",
       "      <td>гражданский брак</td>\n",
       "      <td>1</td>\n",
       "      <td>F</td>\n",
       "      <td>сотрудник</td>\n",
       "      <td>0</td>\n",
       "      <td>95856</td>\n",
       "      <td>на проведение свадьбы</td>\n",
       "      <td>C</td>\n",
       "      <td>проведение свадьбы</td>\n",
       "    </tr>\n",
       "    <tr>\n",
       "      <th>9</th>\n",
       "      <td>0</td>\n",
       "      <td>2188.756445</td>\n",
       "      <td>41</td>\n",
       "      <td>среднее</td>\n",
       "      <td>1</td>\n",
       "      <td>женат / замужем</td>\n",
       "      <td>0</td>\n",
       "      <td>M</td>\n",
       "      <td>сотрудник</td>\n",
       "      <td>0</td>\n",
       "      <td>144425</td>\n",
       "      <td>покупка жилья для семьи</td>\n",
       "      <td>C</td>\n",
       "      <td>операции с недвижимостью</td>\n",
       "    </tr>\n",
       "    <tr>\n",
       "      <th>10</th>\n",
       "      <td>2</td>\n",
       "      <td>4171.483647</td>\n",
       "      <td>36</td>\n",
       "      <td>высшее</td>\n",
       "      <td>0</td>\n",
       "      <td>женат / замужем</td>\n",
       "      <td>0</td>\n",
       "      <td>M</td>\n",
       "      <td>компаньон</td>\n",
       "      <td>0</td>\n",
       "      <td>113943</td>\n",
       "      <td>покупка недвижимости</td>\n",
       "      <td>C</td>\n",
       "      <td>операции с недвижимостью</td>\n",
       "    </tr>\n",
       "    <tr>\n",
       "      <th>11</th>\n",
       "      <td>0</td>\n",
       "      <td>792.701887</td>\n",
       "      <td>40</td>\n",
       "      <td>среднее</td>\n",
       "      <td>1</td>\n",
       "      <td>женат / замужем</td>\n",
       "      <td>0</td>\n",
       "      <td>F</td>\n",
       "      <td>сотрудник</td>\n",
       "      <td>0</td>\n",
       "      <td>77069</td>\n",
       "      <td>покупка коммерческой недвижимости</td>\n",
       "      <td>C</td>\n",
       "      <td>операции с недвижимостью</td>\n",
       "    </tr>\n",
       "    <tr>\n",
       "      <th>12</th>\n",
       "      <td>0</td>\n",
       "      <td>365286.622650</td>\n",
       "      <td>65</td>\n",
       "      <td>среднее</td>\n",
       "      <td>1</td>\n",
       "      <td>гражданский брак</td>\n",
       "      <td>1</td>\n",
       "      <td>M</td>\n",
       "      <td>пенсионер</td>\n",
       "      <td>0</td>\n",
       "      <td>118514</td>\n",
       "      <td>сыграть свадьбу</td>\n",
       "      <td>C</td>\n",
       "      <td>проведение свадьбы</td>\n",
       "    </tr>\n",
       "    <tr>\n",
       "      <th>13</th>\n",
       "      <td>0</td>\n",
       "      <td>1846.641941</td>\n",
       "      <td>54</td>\n",
       "      <td>неоконченное высшее</td>\n",
       "      <td>2</td>\n",
       "      <td>женат / замужем</td>\n",
       "      <td>0</td>\n",
       "      <td>F</td>\n",
       "      <td>сотрудник</td>\n",
       "      <td>0</td>\n",
       "      <td>130458</td>\n",
       "      <td>приобретение автомобиля</td>\n",
       "      <td>C</td>\n",
       "      <td>операции с автомобилем</td>\n",
       "    </tr>\n",
       "    <tr>\n",
       "      <th>14</th>\n",
       "      <td>0</td>\n",
       "      <td>1844.956182</td>\n",
       "      <td>56</td>\n",
       "      <td>высшее</td>\n",
       "      <td>0</td>\n",
       "      <td>гражданский брак</td>\n",
       "      <td>1</td>\n",
       "      <td>F</td>\n",
       "      <td>компаньон</td>\n",
       "      <td>1</td>\n",
       "      <td>165127</td>\n",
       "      <td>покупка жилой недвижимости</td>\n",
       "      <td>C</td>\n",
       "      <td>операции с недвижимостью</td>\n",
       "    </tr>\n",
       "    <tr>\n",
       "      <th>15</th>\n",
       "      <td>1</td>\n",
       "      <td>972.364419</td>\n",
       "      <td>26</td>\n",
       "      <td>среднее</td>\n",
       "      <td>1</td>\n",
       "      <td>женат / замужем</td>\n",
       "      <td>0</td>\n",
       "      <td>F</td>\n",
       "      <td>сотрудник</td>\n",
       "      <td>0</td>\n",
       "      <td>116820</td>\n",
       "      <td>строительство собственной недвижимости</td>\n",
       "      <td>C</td>\n",
       "      <td>операции с недвижимостью</td>\n",
       "    </tr>\n",
       "    <tr>\n",
       "      <th>16</th>\n",
       "      <td>0</td>\n",
       "      <td>1719.934226</td>\n",
       "      <td>35</td>\n",
       "      <td>среднее</td>\n",
       "      <td>1</td>\n",
       "      <td>женат / замужем</td>\n",
       "      <td>0</td>\n",
       "      <td>F</td>\n",
       "      <td>сотрудник</td>\n",
       "      <td>0</td>\n",
       "      <td>289202</td>\n",
       "      <td>недвижимость</td>\n",
       "      <td>B</td>\n",
       "      <td>операции с недвижимостью</td>\n",
       "    </tr>\n",
       "    <tr>\n",
       "      <th>17</th>\n",
       "      <td>0</td>\n",
       "      <td>2369.999720</td>\n",
       "      <td>33</td>\n",
       "      <td>высшее</td>\n",
       "      <td>0</td>\n",
       "      <td>гражданский брак</td>\n",
       "      <td>1</td>\n",
       "      <td>M</td>\n",
       "      <td>сотрудник</td>\n",
       "      <td>0</td>\n",
       "      <td>90410</td>\n",
       "      <td>строительство недвижимости</td>\n",
       "      <td>C</td>\n",
       "      <td>операции с недвижимостью</td>\n",
       "    </tr>\n",
       "    <tr>\n",
       "      <th>18</th>\n",
       "      <td>0</td>\n",
       "      <td>400281.136913</td>\n",
       "      <td>53</td>\n",
       "      <td>среднее</td>\n",
       "      <td>1</td>\n",
       "      <td>вдовец / вдова</td>\n",
       "      <td>2</td>\n",
       "      <td>F</td>\n",
       "      <td>пенсионер</td>\n",
       "      <td>0</td>\n",
       "      <td>56823</td>\n",
       "      <td>на покупку подержанного автомобиля</td>\n",
       "      <td>C</td>\n",
       "      <td>операции с автомобилем</td>\n",
       "    </tr>\n",
       "    <tr>\n",
       "      <th>19</th>\n",
       "      <td>0</td>\n",
       "      <td>10038.818549</td>\n",
       "      <td>48</td>\n",
       "      <td>среднее</td>\n",
       "      <td>1</td>\n",
       "      <td>в разводе</td>\n",
       "      <td>3</td>\n",
       "      <td>F</td>\n",
       "      <td>сотрудник</td>\n",
       "      <td>0</td>\n",
       "      <td>242831</td>\n",
       "      <td>на покупку своего автомобиля</td>\n",
       "      <td>B</td>\n",
       "      <td>операции с автомобилем</td>\n",
       "    </tr>\n",
       "  </tbody>\n",
       "</table>\n",
       "</div>"
      ],
      "text/plain": [
       "    children  days_employed  dob_years            education  education_id  \\\n",
       "0          1    8437.673028         42               высшее             0   \n",
       "1          1    4024.803754         36              среднее             1   \n",
       "2          0    5623.422610         33              среднее             1   \n",
       "3          3    4124.747207         32              среднее             1   \n",
       "4          0  340266.072047         53              среднее             1   \n",
       "5          0     926.185831         27               высшее             0   \n",
       "6          0    2879.202052         43               высшее             0   \n",
       "7          0     152.779569         50              среднее             1   \n",
       "8          2    6929.865299         35               высшее             0   \n",
       "9          0    2188.756445         41              среднее             1   \n",
       "10         2    4171.483647         36               высшее             0   \n",
       "11         0     792.701887         40              среднее             1   \n",
       "12         0  365286.622650         65              среднее             1   \n",
       "13         0    1846.641941         54  неоконченное высшее             2   \n",
       "14         0    1844.956182         56               высшее             0   \n",
       "15         1     972.364419         26              среднее             1   \n",
       "16         0    1719.934226         35              среднее             1   \n",
       "17         0    2369.999720         33               высшее             0   \n",
       "18         0  400281.136913         53              среднее             1   \n",
       "19         0   10038.818549         48              среднее             1   \n",
       "\n",
       "       family_status  family_status_id gender income_type  \\\n",
       "0    женат / замужем                 0      F   сотрудник   \n",
       "1    женат / замужем                 0      F   сотрудник   \n",
       "2    женат / замужем                 0      M   сотрудник   \n",
       "3    женат / замужем                 0      M   сотрудник   \n",
       "4   гражданский брак                 1      F   пенсионер   \n",
       "5   гражданский брак                 1      M   компаньон   \n",
       "6    женат / замужем                 0      F   компаньон   \n",
       "7    женат / замужем                 0      M   сотрудник   \n",
       "8   гражданский брак                 1      F   сотрудник   \n",
       "9    женат / замужем                 0      M   сотрудник   \n",
       "10   женат / замужем                 0      M   компаньон   \n",
       "11   женат / замужем                 0      F   сотрудник   \n",
       "12  гражданский брак                 1      M   пенсионер   \n",
       "13   женат / замужем                 0      F   сотрудник   \n",
       "14  гражданский брак                 1      F   компаньон   \n",
       "15   женат / замужем                 0      F   сотрудник   \n",
       "16   женат / замужем                 0      F   сотрудник   \n",
       "17  гражданский брак                 1      M   сотрудник   \n",
       "18    вдовец / вдова                 2      F   пенсионер   \n",
       "19         в разводе                 3      F   сотрудник   \n",
       "\n",
       "    credit_repayment_status  total_income  \\\n",
       "0                         0        253875   \n",
       "1                         0        112080   \n",
       "2                         0        145885   \n",
       "3                         0        267628   \n",
       "4                         0        158616   \n",
       "5                         0        255763   \n",
       "6                         0        240525   \n",
       "7                         0        135823   \n",
       "8                         0         95856   \n",
       "9                         0        144425   \n",
       "10                        0        113943   \n",
       "11                        0         77069   \n",
       "12                        0        118514   \n",
       "13                        0        130458   \n",
       "14                        1        165127   \n",
       "15                        0        116820   \n",
       "16                        0        289202   \n",
       "17                        0         90410   \n",
       "18                        0         56823   \n",
       "19                        0        242831   \n",
       "\n",
       "                                   purpose total_income_category  \\\n",
       "0                            покупка жилья                     B   \n",
       "1                  приобретение автомобиля                     C   \n",
       "2                            покупка жилья                     C   \n",
       "3               дополнительное образование                     B   \n",
       "4                          сыграть свадьбу                     C   \n",
       "5                            покупка жилья                     B   \n",
       "6                        операции с жильем                     B   \n",
       "7                              образование                     C   \n",
       "8                    на проведение свадьбы                     C   \n",
       "9                  покупка жилья для семьи                     C   \n",
       "10                    покупка недвижимости                     C   \n",
       "11       покупка коммерческой недвижимости                     C   \n",
       "12                         сыграть свадьбу                     C   \n",
       "13                 приобретение автомобиля                     C   \n",
       "14              покупка жилой недвижимости                     C   \n",
       "15  строительство собственной недвижимости                     C   \n",
       "16                            недвижимость                     B   \n",
       "17              строительство недвижимости                     C   \n",
       "18      на покупку подержанного автомобиля                     C   \n",
       "19            на покупку своего автомобиля                     B   \n",
       "\n",
       "            purpose_category  \n",
       "0   операции с недвижимостью  \n",
       "1     операции с автомобилем  \n",
       "2   операции с недвижимостью  \n",
       "3      получение образования  \n",
       "4         проведение свадьбы  \n",
       "5   операции с недвижимостью  \n",
       "6   операции с недвижимостью  \n",
       "7      получение образования  \n",
       "8         проведение свадьбы  \n",
       "9   операции с недвижимостью  \n",
       "10  операции с недвижимостью  \n",
       "11  операции с недвижимостью  \n",
       "12        проведение свадьбы  \n",
       "13    операции с автомобилем  \n",
       "14  операции с недвижимостью  \n",
       "15  операции с недвижимостью  \n",
       "16  операции с недвижимостью  \n",
       "17  операции с недвижимостью  \n",
       "18    операции с автомобилем  \n",
       "19    операции с автомобилем  "
      ]
     },
     "execution_count": 23,
     "metadata": {},
     "output_type": "execute_result"
    }
   ],
   "source": [
    "data.head(20)"
   ]
  },
  {
   "cell_type": "code",
   "execution_count": 24,
   "id": "2cacfc4a",
   "metadata": {
    "id": "2cacfc4a"
   },
   "outputs": [
    {
     "name": "stdout",
     "output_type": "stream",
     "text": [
      "         credit_repayment_status      \n",
      "                           count   sum\n",
      "children                              \n",
      "0                          14107  1063\n",
      "1                           4809   444\n",
      "2                           2052   194\n",
      "3                            330    27\n",
      "4                             41     4\n",
      "5                              9     0\n"
     ]
    }
   ],
   "source": [
    "children_debt = data.groupby('children').agg({'credit_repayment_status':['count','sum']}) # агрегированная функция зависимости просрочки по кредиту от количества детей\n",
    "print(children_debt)"
   ]
  },
  {
   "cell_type": "code",
   "execution_count": 25,
   "id": "d79abbdd",
   "metadata": {},
   "outputs": [
    {
     "name": "stdout",
     "output_type": "stream",
     "text": [
      "children\n",
      "4    9.76\n",
      "2    9.45\n",
      "1    9.23\n",
      "3    8.18\n",
      "0    7.54\n",
      "5    0.00\n",
      "dtype: float64\n"
     ]
    }
   ],
   "source": [
    "children_fail = children_debt['credit_repayment_status']['sum'] / children_debt['credit_repayment_status']['count'] *100 #конверсия просрочки кредита по количеству детей\n",
    "print(children_fail.sort_values(ascending=False).round(2))"
   ]
  },
  {
   "cell_type": "code",
   "execution_count": 26,
   "id": "e26352d7",
   "metadata": {},
   "outputs": [
    {
     "data": {
      "text/html": [
       "<div>\n",
       "<style scoped>\n",
       "    .dataframe tbody tr th:only-of-type {\n",
       "        vertical-align: middle;\n",
       "    }\n",
       "\n",
       "    .dataframe tbody tr th {\n",
       "        vertical-align: top;\n",
       "    }\n",
       "\n",
       "    .dataframe thead th {\n",
       "        text-align: right;\n",
       "    }\n",
       "</style>\n",
       "<table border=\"1\" class=\"dataframe\">\n",
       "  <thead>\n",
       "    <tr style=\"text-align: right;\">\n",
       "      <th>credit_repayment_status</th>\n",
       "      <th>0</th>\n",
       "      <th>1</th>\n",
       "      <th>ratio %</th>\n",
       "    </tr>\n",
       "    <tr>\n",
       "      <th>children</th>\n",
       "      <th></th>\n",
       "      <th></th>\n",
       "      <th></th>\n",
       "    </tr>\n",
       "  </thead>\n",
       "  <tbody>\n",
       "    <tr>\n",
       "      <th>0</th>\n",
       "      <td>13044.0</td>\n",
       "      <td>1063.0</td>\n",
       "      <td>7.54</td>\n",
       "    </tr>\n",
       "    <tr>\n",
       "      <th>1</th>\n",
       "      <td>4365.0</td>\n",
       "      <td>444.0</td>\n",
       "      <td>9.23</td>\n",
       "    </tr>\n",
       "    <tr>\n",
       "      <th>2</th>\n",
       "      <td>1858.0</td>\n",
       "      <td>194.0</td>\n",
       "      <td>9.45</td>\n",
       "    </tr>\n",
       "    <tr>\n",
       "      <th>3</th>\n",
       "      <td>303.0</td>\n",
       "      <td>27.0</td>\n",
       "      <td>8.18</td>\n",
       "    </tr>\n",
       "    <tr>\n",
       "      <th>4</th>\n",
       "      <td>37.0</td>\n",
       "      <td>4.0</td>\n",
       "      <td>9.76</td>\n",
       "    </tr>\n",
       "    <tr>\n",
       "      <th>5</th>\n",
       "      <td>9.0</td>\n",
       "      <td>NaN</td>\n",
       "      <td>NaN</td>\n",
       "    </tr>\n",
       "  </tbody>\n",
       "</table>\n",
       "</div>"
      ],
      "text/plain": [
       "credit_repayment_status        0       1  ratio %\n",
       "children                                         \n",
       "0                        13044.0  1063.0     7.54\n",
       "1                         4365.0   444.0     9.23\n",
       "2                         1858.0   194.0     9.45\n",
       "3                          303.0    27.0     8.18\n",
       "4                           37.0     4.0     9.76\n",
       "5                            9.0     NaN      NaN"
      ]
     },
     "execution_count": 26,
     "metadata": {},
     "output_type": "execute_result"
    }
   ],
   "source": [
    "children_pivot = data.pivot_table(index = ['children'], \\\n",
    "                                columns = ['credit_repayment_status'], \\\n",
    "                                values = 'purpose_category', aggfunc='count')\n",
    "\n",
    "children_pivot['ratio %'] = children_pivot[1] / (children_pivot[0]+children_pivot[1]) * 100\n",
    "children_pivot.round(2)"
   ]
  },
  {
   "cell_type": "markdown",
   "id": "3a6b99ec",
   "metadata": {
    "deletable": false,
    "id": "3a6b99ec"
   },
   "source": [
    "**Вывод:** \n",
    "*Заемщики, не имеющие детей, менее склонны к просрочке по выплатам кредита.*\n",
    "*С увеличением количества детей мы видим и увеличение количества просроченных кредитов, однако, люди с 3 детьми чаще платят в срок, чем люди с 1 ребенком.*\n"
   ]
  },
  {
   "cell_type": "markdown",
   "id": "97be82ca",
   "metadata": {
    "deletable": false,
    "editable": false,
    "id": "97be82ca"
   },
   "source": [
    "**Задание 20. Есть ли зависимость между семейным положением и возвратом кредита в срок?**"
   ]
  },
  {
   "cell_type": "code",
   "execution_count": 27,
   "id": "dc3f7ee8",
   "metadata": {
    "id": "dc3f7ee8"
   },
   "outputs": [
    {
     "name": "stdout",
     "output_type": "stream",
     "text": [
      "                      credit_repayment_status     \n",
      "                                        count  sum\n",
      "family_status                                     \n",
      "Не женат / не замужем                    2796  273\n",
      "в разводе                                1189   84\n",
      "вдовец / вдова                            951   63\n",
      "гражданский брак                         4146  385\n",
      "женат / замужем                         12266  927\n"
     ]
    }
   ],
   "source": [
    "family_grouped = data.groupby('family_status').agg({'credit_repayment_status':['count','sum']}) #агг.функция зависимости просрочки по кредиту от семейного положения\n",
    "print(family_grouped)"
   ]
  },
  {
   "cell_type": "code",
   "execution_count": 28,
   "id": "b80dd9c1",
   "metadata": {},
   "outputs": [
    {
     "name": "stdout",
     "output_type": "stream",
     "text": [
      "family_status\n",
      "Не женат / не замужем    9.76\n",
      "гражданский брак         9.29\n",
      "женат / замужем          7.56\n",
      "в разводе                7.06\n",
      "вдовец / вдова           6.62\n",
      "dtype: float64\n"
     ]
    }
   ],
   "source": [
    "family_debt_fail = family_grouped['credit_repayment_status']['sum'] / family_grouped['credit_repayment_status']['count'] * 100 #конверсия просрочки по сем.положению\n",
    "print(family_debt_fail.sort_values(ascending=False).round(2))"
   ]
  },
  {
   "cell_type": "code",
   "execution_count": 29,
   "id": "0c9cb63c",
   "metadata": {},
   "outputs": [
    {
     "data": {
      "text/html": [
       "<div>\n",
       "<style scoped>\n",
       "    .dataframe tbody tr th:only-of-type {\n",
       "        vertical-align: middle;\n",
       "    }\n",
       "\n",
       "    .dataframe tbody tr th {\n",
       "        vertical-align: top;\n",
       "    }\n",
       "\n",
       "    .dataframe thead th {\n",
       "        text-align: right;\n",
       "    }\n",
       "</style>\n",
       "<table border=\"1\" class=\"dataframe\">\n",
       "  <thead>\n",
       "    <tr style=\"text-align: right;\">\n",
       "      <th>credit_repayment_status</th>\n",
       "      <th>0</th>\n",
       "      <th>1</th>\n",
       "      <th>ratio %</th>\n",
       "    </tr>\n",
       "    <tr>\n",
       "      <th>family_status</th>\n",
       "      <th></th>\n",
       "      <th></th>\n",
       "      <th></th>\n",
       "    </tr>\n",
       "  </thead>\n",
       "  <tbody>\n",
       "    <tr>\n",
       "      <th>Не женат / не замужем</th>\n",
       "      <td>2523</td>\n",
       "      <td>273</td>\n",
       "      <td>9.76</td>\n",
       "    </tr>\n",
       "    <tr>\n",
       "      <th>в разводе</th>\n",
       "      <td>1105</td>\n",
       "      <td>84</td>\n",
       "      <td>7.06</td>\n",
       "    </tr>\n",
       "    <tr>\n",
       "      <th>вдовец / вдова</th>\n",
       "      <td>888</td>\n",
       "      <td>63</td>\n",
       "      <td>6.62</td>\n",
       "    </tr>\n",
       "    <tr>\n",
       "      <th>гражданский брак</th>\n",
       "      <td>3761</td>\n",
       "      <td>385</td>\n",
       "      <td>9.29</td>\n",
       "    </tr>\n",
       "    <tr>\n",
       "      <th>женат / замужем</th>\n",
       "      <td>11339</td>\n",
       "      <td>927</td>\n",
       "      <td>7.56</td>\n",
       "    </tr>\n",
       "  </tbody>\n",
       "</table>\n",
       "</div>"
      ],
      "text/plain": [
       "credit_repayment_status      0    1  ratio %\n",
       "family_status                               \n",
       "Не женат / не замужем     2523  273     9.76\n",
       "в разводе                 1105   84     7.06\n",
       "вдовец / вдова             888   63     6.62\n",
       "гражданский брак          3761  385     9.29\n",
       "женат / замужем          11339  927     7.56"
      ]
     },
     "execution_count": 29,
     "metadata": {},
     "output_type": "execute_result"
    }
   ],
   "source": [
    "family_status_pivot = data.pivot_table(index=['family_status'], \\\n",
    "                                       columns = 'credit_repayment_status', \\\n",
    "                                       values='family_status_id', aggfunc='count')\n",
    "family_status_pivot['ratio %'] = family_status_pivot[1] / (family_status_pivot[0]+family_status_pivot[1]) * 100\n",
    "family_status_pivot.round(2)"
   ]
  },
  {
   "cell_type": "markdown",
   "id": "1cef7837",
   "metadata": {
    "deletable": false,
    "id": "1cef7837"
   },
   "source": [
    "**Вывод:** \n",
    "*Зависимость есть.*\n",
    "*Люди* **не в браке или в гражданском браке** *имеют бОльший процент невозвратов в срок. А те, кто развелись или овдовели чаще платят в срок, чем люди в браке*"
   ]
  },
  {
   "cell_type": "markdown",
   "id": "1e8b2fca",
   "metadata": {
    "deletable": false,
    "editable": false,
    "id": "1e8b2fca"
   },
   "source": [
    "**Задание 21. Есть ли зависимость между уровнем дохода и возвратом кредита в срок?**"
   ]
  },
  {
   "cell_type": "markdown",
   "id": "8ea346dc",
   "metadata": {},
   "source": [
    "**Высчитываю конверсию просрочки по уровню дохода**"
   ]
  },
  {
   "cell_type": "code",
   "execution_count": 30,
   "id": "6ffe3fde",
   "metadata": {},
   "outputs": [],
   "source": [
    "income_set = data.groupby('total_income_category')['credit_repayment_status'].sum() / \\\n",
    "      data.groupby('total_income_category')['credit_repayment_status'].count() * 100"
   ]
  },
  {
   "cell_type": "code",
   "execution_count": 31,
   "id": "dc7eca75",
   "metadata": {},
   "outputs": [
    {
     "data": {
      "text/plain": [
       "total_income_category\n",
       "D    6.02\n",
       "B    7.06\n",
       "A    8.00\n",
       "C    8.49\n",
       "E    9.09\n",
       "Name: credit_repayment_status, dtype: float64"
      ]
     },
     "execution_count": 31,
     "metadata": {},
     "output_type": "execute_result"
    }
   ],
   "source": [
    "income_set.sort_values().round(2)"
   ]
  },
  {
   "cell_type": "markdown",
   "id": "8e6f8832",
   "metadata": {},
   "source": [
    "**Создаю сводную таблицу по уровням дохода, округляю до двух знаков**"
   ]
  },
  {
   "cell_type": "code",
   "execution_count": 32,
   "id": "7e06b3ec",
   "metadata": {},
   "outputs": [
    {
     "data": {
      "text/html": [
       "<div>\n",
       "<style scoped>\n",
       "    .dataframe tbody tr th:only-of-type {\n",
       "        vertical-align: middle;\n",
       "    }\n",
       "\n",
       "    .dataframe tbody tr th {\n",
       "        vertical-align: top;\n",
       "    }\n",
       "\n",
       "    .dataframe thead th {\n",
       "        text-align: right;\n",
       "    }\n",
       "</style>\n",
       "<table border=\"1\" class=\"dataframe\">\n",
       "  <thead>\n",
       "    <tr style=\"text-align: right;\">\n",
       "      <th>credit_repayment_status</th>\n",
       "      <th>0</th>\n",
       "      <th>1</th>\n",
       "      <th>ratio %</th>\n",
       "    </tr>\n",
       "    <tr>\n",
       "      <th>total_income_category</th>\n",
       "      <th></th>\n",
       "      <th></th>\n",
       "      <th></th>\n",
       "    </tr>\n",
       "  </thead>\n",
       "  <tbody>\n",
       "    <tr>\n",
       "      <th>A</th>\n",
       "      <td>23</td>\n",
       "      <td>2</td>\n",
       "      <td>8.00</td>\n",
       "    </tr>\n",
       "    <tr>\n",
       "      <th>B</th>\n",
       "      <td>4660</td>\n",
       "      <td>354</td>\n",
       "      <td>7.06</td>\n",
       "    </tr>\n",
       "    <tr>\n",
       "      <th>C</th>\n",
       "      <td>14585</td>\n",
       "      <td>1353</td>\n",
       "      <td>8.49</td>\n",
       "    </tr>\n",
       "    <tr>\n",
       "      <th>D</th>\n",
       "      <td>328</td>\n",
       "      <td>21</td>\n",
       "      <td>6.02</td>\n",
       "    </tr>\n",
       "    <tr>\n",
       "      <th>E</th>\n",
       "      <td>20</td>\n",
       "      <td>2</td>\n",
       "      <td>9.09</td>\n",
       "    </tr>\n",
       "  </tbody>\n",
       "</table>\n",
       "</div>"
      ],
      "text/plain": [
       "credit_repayment_status      0     1  ratio %\n",
       "total_income_category                        \n",
       "A                           23     2     8.00\n",
       "B                         4660   354     7.06\n",
       "C                        14585  1353     8.49\n",
       "D                          328    21     6.02\n",
       "E                           20     2     9.09"
      ]
     },
     "execution_count": 32,
     "metadata": {},
     "output_type": "execute_result"
    }
   ],
   "source": [
    "total_income_pivot = data.pivot_table(index=['total_income_category'], \\\n",
    "                                      columns = 'credit_repayment_status', \\\n",
    "                                      values='family_status_id', aggfunc='count')\n",
    "\n",
    "total_income_pivot['ratio %'] = total_income_pivot[1] / (total_income_pivot[0]+total_income_pivot[1]) * 100\n",
    "\n",
    "total_income_pivot.round(2)\n"
   ]
  },
  {
   "cell_type": "markdown",
   "id": "e8593def",
   "metadata": {
    "deletable": false,
    "id": "e8593def"
   },
   "source": [
    "**Можно сделать вывод, что хуже всего покатель у людей с очень низкими доходами, но есть проблема по выборке, недостаточно людей в этой группе, чтобы делать какие-то заключения, такая же ситуация у людей с очень высокими доходами. Выраженной зависимости между уровнем дохода и возвратом кредита в срок обнаружить не удалось. Но можно предположить, что лучше всего дела обстоят у людей с доходом чуть выше низкого в группе D**"
   ]
  },
  {
   "cell_type": "markdown",
   "id": "99ecbd1f",
   "metadata": {
    "deletable": false,
    "editable": false,
    "id": "99ecbd1f"
   },
   "source": [
    "**Задание 22. Как разные цели кредита влияют на его возврат в срок?**"
   ]
  },
  {
   "cell_type": "markdown",
   "id": "b0869c9c",
   "metadata": {},
   "source": [
    "**Создаю сводную таблицу для разных категорий целей кредита**"
   ]
  },
  {
   "cell_type": "code",
   "execution_count": 33,
   "id": "5f202afe",
   "metadata": {},
   "outputs": [
    {
     "data": {
      "text/html": [
       "<div>\n",
       "<style scoped>\n",
       "    .dataframe tbody tr th:only-of-type {\n",
       "        vertical-align: middle;\n",
       "    }\n",
       "\n",
       "    .dataframe tbody tr th {\n",
       "        vertical-align: top;\n",
       "    }\n",
       "\n",
       "    .dataframe thead th {\n",
       "        text-align: right;\n",
       "    }\n",
       "</style>\n",
       "<table border=\"1\" class=\"dataframe\">\n",
       "  <thead>\n",
       "    <tr style=\"text-align: right;\">\n",
       "      <th>credit_repayment_status</th>\n",
       "      <th>0</th>\n",
       "      <th>1</th>\n",
       "      <th>ratio %</th>\n",
       "    </tr>\n",
       "    <tr>\n",
       "      <th>purpose_category</th>\n",
       "      <th></th>\n",
       "      <th></th>\n",
       "      <th></th>\n",
       "    </tr>\n",
       "  </thead>\n",
       "  <tbody>\n",
       "    <tr>\n",
       "      <th>операции с автомобилем</th>\n",
       "      <td>3881</td>\n",
       "      <td>400</td>\n",
       "      <td>9.34</td>\n",
       "    </tr>\n",
       "    <tr>\n",
       "      <th>операции с недвижимостью</th>\n",
       "      <td>9974</td>\n",
       "      <td>780</td>\n",
       "      <td>7.25</td>\n",
       "    </tr>\n",
       "    <tr>\n",
       "      <th>получение образования</th>\n",
       "      <td>3620</td>\n",
       "      <td>369</td>\n",
       "      <td>9.25</td>\n",
       "    </tr>\n",
       "    <tr>\n",
       "      <th>проведение свадьбы</th>\n",
       "      <td>2141</td>\n",
       "      <td>183</td>\n",
       "      <td>7.87</td>\n",
       "    </tr>\n",
       "  </tbody>\n",
       "</table>\n",
       "</div>"
      ],
      "text/plain": [
       "credit_repayment_status      0    1  ratio %\n",
       "purpose_category                            \n",
       "операции с автомобилем    3881  400     9.34\n",
       "операции с недвижимостью  9974  780     7.25\n",
       "получение образования     3620  369     9.25\n",
       "проведение свадьбы        2141  183     7.87"
      ]
     },
     "execution_count": 33,
     "metadata": {},
     "output_type": "execute_result"
    }
   ],
   "source": [
    "credit_purpose_pivot = data.pivot_table(index=['purpose_category'], \\\n",
    "                                        columns=['credit_repayment_status'], \\\n",
    "                                        values='education_id', aggfunc='count')\n",
    "credit_purpose_pivot['ratio %'] = credit_purpose_pivot[1] / (credit_purpose_pivot[0]+credit_purpose_pivot[1]) * 100\n",
    "credit_purpose_pivot.round(2)"
   ]
  },
  {
   "cell_type": "markdown",
   "id": "b4bb2ce6",
   "metadata": {
    "deletable": false,
    "id": "b4bb2ce6"
   },
   "source": [
    "**Вывод:** \n",
    "*Люди с большей вероятностью выплачивают кредит, если он взят на операции с недвижимостью или на свадьбу, нежели на автомобиль или образование*"
   ]
  },
  {
   "cell_type": "markdown",
   "id": "09c3ac4c",
   "metadata": {
    "deletable": false,
    "editable": false,
    "id": "09c3ac4c"
   },
   "source": [
    "**Задание 23. Приведите возможные причины появления пропусков в исходных данных.**"
   ]
  },
  {
   "cell_type": "markdown",
   "id": "9da2ceda",
   "metadata": {
    "deletable": false,
    "id": "9da2ceda"
   },
   "source": [
    "*-Ошибки в оборудовании при сборе информации,*\n",
    "\n",
    "*-Человеческий фактор при заполнении данных*\n"
   ]
  },
  {
   "cell_type": "markdown",
   "id": "7b0487d6",
   "metadata": {
    "deletable": false,
    "editable": false,
    "id": "7b0487d6"
   },
   "source": [
    "**Задание 24. Объясните, почему заполнить пропуски медианным значением — лучшее решение для количественных переменных.**"
   ]
  },
  {
   "cell_type": "markdown",
   "id": "7ecf2b8e",
   "metadata": {
    "deletable": false,
    "id": "7ecf2b8e"
   },
   "source": [
    "*Так как значения могут разительно отличаться друг от друга и среднее арифметическое будет не объективно для заполнения пропусков, то применяют медианное значение* "
   ]
  },
  {
   "cell_type": "markdown",
   "id": "6db5255a",
   "metadata": {
    "deletable": false,
    "editable": false,
    "id": "6db5255a"
   },
   "source": [
    "## Общий вывод."
   ]
  },
  {
   "cell_type": "markdown",
   "id": "59988856",
   "metadata": {
    "id": "bad65432"
   },
   "source": [
    "<div class=\"alert alert-info\">\n",
    "    \n",
    "В ходе работы искали зависимость между:\n",
    "\n",
    "1) Наличием, количеством детей и возвратом кредита в срок - должников с детьми больше, чем бездетных, следовательно, наличие детей негативно влияет на возврат кредита в срок.\n",
    "\n",
    "2) Семейным положением и возвратом кредита в срок - зависимость есть, чаще всего становятся должниками люди с семейным положением не женат / не замужем.\n",
    "\n",
    "3) Уровнем дохода и возвратом кредита в срок - выраженной зависимости между уровнем дохода и возвратом кредита в срок обнаружено не было, хоть и зарабатывающие ниже среднего лучше других возвращают долги.\n",
    "\n",
    "4) Целью кредита и возвратом кредита в срок - зависимость есть, значительная доля должников взяла кредит на автомобиль или образование. На свадьбу или недвижимость - должников меньше.\n",
    "<b>\n",
    "    \n",
    "Подытожив, можно предположить, что надежные заёмщики - это люди: \\\n",
    "    в браке, либо гражданском браке \\\n",
    "    без детей, \\\n",
    "    с доходами ниже среднего, \\\n",
    "    либо которые берут кредит на недвижимость или свадьбу\n",
    "    \n",
    "</div>"
   ]
  }
 ],
 "metadata": {
  "ExecuteTimeLog": [
   {
    "duration": 492,
    "start_time": "2022-06-05T15:03:19.752Z"
   },
   {
    "duration": 691,
    "start_time": "2022-06-06T15:31:30.961Z"
   },
   {
    "duration": 20,
    "start_time": "2022-06-06T15:31:39.098Z"
   },
   {
    "duration": 15,
    "start_time": "2022-06-06T15:31:43.612Z"
   },
   {
    "duration": 13,
    "start_time": "2022-06-06T15:31:47.603Z"
   },
   {
    "duration": 10,
    "start_time": "2022-06-06T15:31:52.725Z"
   },
   {
    "duration": 36,
    "start_time": "2022-06-06T15:31:55.889Z"
   },
   {
    "duration": 3,
    "start_time": "2022-06-06T15:31:58.352Z"
   },
   {
    "duration": 8,
    "start_time": "2022-06-06T15:32:00.512Z"
   },
   {
    "duration": 4,
    "start_time": "2022-06-06T15:32:03.585Z"
   },
   {
    "duration": 6,
    "start_time": "2022-06-06T15:32:07.165Z"
   },
   {
    "duration": 13,
    "start_time": "2022-06-06T15:32:09.258Z"
   },
   {
    "duration": 34,
    "start_time": "2022-06-06T15:32:19.595Z"
   },
   {
    "duration": 9,
    "start_time": "2022-06-06T15:32:23.864Z"
   },
   {
    "duration": 4,
    "start_time": "2022-06-06T15:32:26.269Z"
   },
   {
    "duration": 17,
    "start_time": "2022-06-06T15:32:28.108Z"
   },
   {
    "duration": 24,
    "start_time": "2022-06-06T15:32:29.954Z"
   },
   {
    "duration": 11,
    "start_time": "2022-06-06T15:32:34.171Z"
   },
   {
    "duration": 4,
    "start_time": "2022-06-06T15:32:35.791Z"
   },
   {
    "duration": 5,
    "start_time": "2022-06-06T15:32:37.968Z"
   },
   {
    "duration": 4,
    "start_time": "2022-06-06T15:32:41.260Z"
   },
   {
    "duration": 8,
    "start_time": "2022-06-06T15:32:44.700Z"
   },
   {
    "duration": 12,
    "start_time": "2022-06-06T16:00:42.370Z"
   },
   {
    "duration": 17,
    "start_time": "2022-06-06T16:04:06.251Z"
   },
   {
    "duration": 14,
    "start_time": "2022-06-06T16:05:04.573Z"
   },
   {
    "duration": 16,
    "start_time": "2022-06-06T16:05:37.397Z"
   },
   {
    "duration": 18,
    "start_time": "2022-06-06T16:05:47.559Z"
   },
   {
    "duration": 6,
    "start_time": "2022-06-06T16:08:56.361Z"
   },
   {
    "duration": 9,
    "start_time": "2022-06-06T16:09:17.183Z"
   },
   {
    "duration": 10,
    "start_time": "2022-06-06T16:23:53.755Z"
   },
   {
    "duration": 10,
    "start_time": "2022-06-06T16:26:00.162Z"
   },
   {
    "duration": 9,
    "start_time": "2022-06-06T16:27:01.975Z"
   },
   {
    "duration": 426,
    "start_time": "2022-06-06T16:27:33.250Z"
   },
   {
    "duration": 357,
    "start_time": "2022-06-06T16:28:14.046Z"
   },
   {
    "duration": 313,
    "start_time": "2022-06-06T16:28:38.309Z"
   },
   {
    "duration": 9,
    "start_time": "2022-06-06T16:28:53.727Z"
   },
   {
    "duration": 338,
    "start_time": "2022-06-06T16:38:29.317Z"
   },
   {
    "duration": 10,
    "start_time": "2022-06-06T16:39:06.561Z"
   },
   {
    "duration": 9,
    "start_time": "2022-06-06T16:39:20.222Z"
   },
   {
    "duration": 13,
    "start_time": "2022-06-06T16:40:33.258Z"
   },
   {
    "duration": 13,
    "start_time": "2022-06-06T16:40:49.802Z"
   },
   {
    "duration": 14,
    "start_time": "2022-06-06T16:40:55.598Z"
   },
   {
    "duration": 13,
    "start_time": "2022-06-06T16:40:58.579Z"
   },
   {
    "duration": 10,
    "start_time": "2022-06-06T16:41:06.625Z"
   },
   {
    "duration": 8,
    "start_time": "2022-06-06T16:41:58.116Z"
   },
   {
    "duration": 14,
    "start_time": "2022-06-06T16:49:18.979Z"
   },
   {
    "duration": 12,
    "start_time": "2022-06-06T16:49:32.723Z"
   },
   {
    "duration": 15,
    "start_time": "2022-06-06T16:53:55.816Z"
   },
   {
    "duration": 13,
    "start_time": "2022-06-06T17:01:09.948Z"
   },
   {
    "duration": 9,
    "start_time": "2022-06-06T17:06:46.480Z"
   },
   {
    "duration": 14,
    "start_time": "2022-06-06T17:19:44.109Z"
   },
   {
    "duration": 9,
    "start_time": "2022-06-06T17:21:06.751Z"
   },
   {
    "duration": 11,
    "start_time": "2022-06-06T17:21:42.254Z"
   },
   {
    "duration": 15,
    "start_time": "2022-06-06T17:22:53.251Z"
   },
   {
    "duration": 44,
    "start_time": "2022-06-06T17:23:01.347Z"
   },
   {
    "duration": 13,
    "start_time": "2022-06-06T17:23:05.401Z"
   },
   {
    "duration": 15,
    "start_time": "2022-06-06T17:24:53.453Z"
   },
   {
    "duration": 144,
    "start_time": "2022-06-06T17:28:43.523Z"
   },
   {
    "duration": 13,
    "start_time": "2022-06-06T17:29:23.147Z"
   },
   {
    "duration": 134,
    "start_time": "2022-06-06T17:29:28.599Z"
   },
   {
    "duration": 139,
    "start_time": "2022-06-06T17:30:55.570Z"
   },
   {
    "duration": 88,
    "start_time": "2022-06-06T17:31:18.691Z"
   },
   {
    "duration": 20,
    "start_time": "2022-06-06T17:34:24.725Z"
   },
   {
    "duration": 15,
    "start_time": "2022-06-06T17:34:41.545Z"
   },
   {
    "duration": 5,
    "start_time": "2022-06-06T17:36:00.349Z"
   },
   {
    "duration": 4,
    "start_time": "2022-06-06T17:36:03.163Z"
   },
   {
    "duration": 96,
    "start_time": "2022-06-06T17:36:32.901Z"
   },
   {
    "duration": 5,
    "start_time": "2022-06-06T17:39:42.611Z"
   },
   {
    "duration": 92,
    "start_time": "2022-06-06T17:39:46.720Z"
   },
   {
    "duration": 30,
    "start_time": "2022-06-06T17:40:24.968Z"
   },
   {
    "duration": 102,
    "start_time": "2022-06-06T17:41:00.218Z"
   },
   {
    "duration": 11,
    "start_time": "2022-06-06T17:42:33.666Z"
   },
   {
    "duration": 12,
    "start_time": "2022-06-06T17:42:47.206Z"
   },
   {
    "duration": 5,
    "start_time": "2022-06-06T17:42:57.481Z"
   },
   {
    "duration": 22,
    "start_time": "2022-06-06T17:43:03.697Z"
   },
   {
    "duration": 6,
    "start_time": "2022-06-06T17:43:06.509Z"
   },
   {
    "duration": 5,
    "start_time": "2022-06-06T17:43:10.705Z"
   },
   {
    "duration": 12,
    "start_time": "2022-06-06T17:43:12.801Z"
   },
   {
    "duration": 25,
    "start_time": "2022-06-06T17:43:15.297Z"
   },
   {
    "duration": 11,
    "start_time": "2022-06-06T17:43:37.159Z"
   },
   {
    "duration": 11,
    "start_time": "2022-06-06T17:43:42.896Z"
   },
   {
    "duration": 13,
    "start_time": "2022-06-06T17:43:45.855Z"
   },
   {
    "duration": 104,
    "start_time": "2022-06-06T17:43:50.489Z"
   },
   {
    "duration": 14,
    "start_time": "2022-06-06T17:43:55.102Z"
   },
   {
    "duration": 15,
    "start_time": "2022-06-06T17:52:29.398Z"
   },
   {
    "duration": 19,
    "start_time": "2022-06-06T17:55:47.518Z"
   },
   {
    "duration": 6,
    "start_time": "2022-06-06T17:58:07.435Z"
   },
   {
    "duration": 6,
    "start_time": "2022-06-06T18:03:27.812Z"
   },
   {
    "duration": 15,
    "start_time": "2022-06-06T18:04:59.946Z"
   },
   {
    "duration": 6,
    "start_time": "2022-06-06T18:05:05.793Z"
   },
   {
    "duration": 16,
    "start_time": "2022-06-06T18:05:14.980Z"
   },
   {
    "duration": 6,
    "start_time": "2022-06-06T18:05:17.559Z"
   },
   {
    "duration": 84,
    "start_time": "2022-06-06T18:12:35.002Z"
   },
   {
    "duration": 21,
    "start_time": "2022-06-06T18:12:48.007Z"
   },
   {
    "duration": 22,
    "start_time": "2022-06-06T18:16:53.573Z"
   },
   {
    "duration": 14,
    "start_time": "2022-06-06T18:17:01.358Z"
   },
   {
    "duration": 11,
    "start_time": "2022-06-06T18:17:20.858Z"
   },
   {
    "duration": 15,
    "start_time": "2022-06-06T18:17:24.769Z"
   },
   {
    "duration": 6,
    "start_time": "2022-06-06T18:17:28.181Z"
   },
   {
    "duration": 19,
    "start_time": "2022-06-06T18:30:36.861Z"
   },
   {
    "duration": 5,
    "start_time": "2022-06-06T18:33:44.034Z"
   },
   {
    "duration": 6,
    "start_time": "2022-06-06T18:38:53.547Z"
   },
   {
    "duration": 17,
    "start_time": "2022-06-06T18:41:56.588Z"
   },
   {
    "duration": 14,
    "start_time": "2022-06-06T18:42:03.687Z"
   },
   {
    "duration": 36,
    "start_time": "2022-06-07T06:40:10.762Z"
   },
   {
    "duration": 63,
    "start_time": "2022-06-07T18:50:14.182Z"
   },
   {
    "duration": 712,
    "start_time": "2022-06-07T18:50:36.192Z"
   },
   {
    "duration": 28,
    "start_time": "2022-06-07T18:50:36.906Z"
   },
   {
    "duration": 20,
    "start_time": "2022-06-07T18:50:36.936Z"
   },
   {
    "duration": 9,
    "start_time": "2022-06-07T18:50:36.958Z"
   },
   {
    "duration": 46,
    "start_time": "2022-06-07T18:50:36.969Z"
   },
   {
    "duration": 3,
    "start_time": "2022-06-07T18:50:37.017Z"
   },
   {
    "duration": 31,
    "start_time": "2022-06-07T18:50:37.021Z"
   },
   {
    "duration": 20,
    "start_time": "2022-06-07T18:50:37.053Z"
   },
   {
    "duration": 12,
    "start_time": "2022-06-07T18:50:37.074Z"
   },
   {
    "duration": 4,
    "start_time": "2022-06-07T18:50:37.088Z"
   },
   {
    "duration": 40,
    "start_time": "2022-06-07T18:50:37.094Z"
   },
   {
    "duration": 14,
    "start_time": "2022-06-07T18:50:37.137Z"
   },
   {
    "duration": 5,
    "start_time": "2022-06-07T18:50:37.153Z"
   },
   {
    "duration": 21,
    "start_time": "2022-06-07T18:50:37.161Z"
   },
   {
    "duration": 15,
    "start_time": "2022-06-07T18:50:37.184Z"
   },
   {
    "duration": 39,
    "start_time": "2022-06-07T18:50:37.201Z"
   },
   {
    "duration": 10,
    "start_time": "2022-06-07T18:50:37.241Z"
   },
   {
    "duration": 12,
    "start_time": "2022-06-07T18:50:37.253Z"
   },
   {
    "duration": 23,
    "start_time": "2022-06-07T18:50:37.266Z"
   },
   {
    "duration": 4,
    "start_time": "2022-06-07T18:50:37.290Z"
   },
   {
    "duration": 16,
    "start_time": "2022-06-07T18:50:37.296Z"
   },
   {
    "duration": 31,
    "start_time": "2022-06-07T18:50:37.314Z"
   },
   {
    "duration": 17,
    "start_time": "2022-06-07T18:50:37.346Z"
   },
   {
    "duration": 30,
    "start_time": "2022-06-07T18:50:37.365Z"
   },
   {
    "duration": 56,
    "start_time": "2022-06-07T18:50:37.397Z"
   },
   {
    "duration": 14,
    "start_time": "2022-06-07T18:50:37.455Z"
   },
   {
    "duration": 7,
    "start_time": "2022-06-07T18:50:37.471Z"
   },
   {
    "duration": 19,
    "start_time": "2022-06-07T18:50:37.480Z"
   },
   {
    "duration": 31,
    "start_time": "2022-06-07T18:50:37.501Z"
   },
   {
    "duration": 4,
    "start_time": "2022-06-07T18:51:17.876Z"
   },
   {
    "duration": 3,
    "start_time": "2022-06-07T18:51:27.811Z"
   },
   {
    "duration": 29,
    "start_time": "2022-06-07T18:51:59.457Z"
   },
   {
    "duration": 28,
    "start_time": "2022-06-07T18:53:50.448Z"
   },
   {
    "duration": 635,
    "start_time": "2022-06-08T16:12:51.375Z"
   },
   {
    "duration": 48,
    "start_time": "2022-06-08T16:12:52.013Z"
   },
   {
    "duration": 22,
    "start_time": "2022-06-08T16:12:52.063Z"
   },
   {
    "duration": 12,
    "start_time": "2022-06-08T16:12:52.088Z"
   },
   {
    "duration": 59,
    "start_time": "2022-06-08T16:12:52.103Z"
   },
   {
    "duration": 6,
    "start_time": "2022-06-08T16:12:52.165Z"
   },
   {
    "duration": 17,
    "start_time": "2022-06-08T16:12:52.173Z"
   },
   {
    "duration": 9,
    "start_time": "2022-06-08T16:12:52.192Z"
   },
   {
    "duration": 26,
    "start_time": "2022-06-08T16:12:52.203Z"
   },
   {
    "duration": 22,
    "start_time": "2022-06-08T16:12:52.234Z"
   },
   {
    "duration": 49,
    "start_time": "2022-06-08T16:12:52.259Z"
   },
   {
    "duration": 13,
    "start_time": "2022-06-08T16:12:52.311Z"
   },
   {
    "duration": 20,
    "start_time": "2022-06-08T16:12:52.333Z"
   },
   {
    "duration": 32,
    "start_time": "2022-06-08T16:12:52.356Z"
   },
   {
    "duration": 22,
    "start_time": "2022-06-08T16:12:52.391Z"
   },
   {
    "duration": 15,
    "start_time": "2022-06-08T16:12:52.415Z"
   },
   {
    "duration": 32,
    "start_time": "2022-06-08T16:12:52.431Z"
   },
   {
    "duration": 19,
    "start_time": "2022-06-08T16:12:52.465Z"
   },
   {
    "duration": 11,
    "start_time": "2022-06-08T16:12:52.486Z"
   },
   {
    "duration": 5,
    "start_time": "2022-06-08T16:12:52.499Z"
   },
   {
    "duration": 24,
    "start_time": "2022-06-08T16:12:52.506Z"
   },
   {
    "duration": 41,
    "start_time": "2022-06-08T16:12:52.532Z"
   },
   {
    "duration": 17,
    "start_time": "2022-06-08T16:12:52.575Z"
   },
   {
    "duration": 24,
    "start_time": "2022-06-08T16:12:52.593Z"
   },
   {
    "duration": 25,
    "start_time": "2022-06-08T16:12:52.619Z"
   },
   {
    "duration": 20,
    "start_time": "2022-06-08T16:12:52.646Z"
   },
   {
    "duration": 28,
    "start_time": "2022-06-08T16:12:52.668Z"
   },
   {
    "duration": 7,
    "start_time": "2022-06-08T16:12:52.700Z"
   },
   {
    "duration": 30,
    "start_time": "2022-06-08T16:21:50.730Z"
   },
   {
    "duration": 13,
    "start_time": "2022-06-08T16:27:34.497Z"
   },
   {
    "duration": 28,
    "start_time": "2022-06-08T16:27:55.132Z"
   },
   {
    "duration": 13,
    "start_time": "2022-06-08T16:28:57.758Z"
   },
   {
    "duration": 6,
    "start_time": "2022-06-08T16:28:59.994Z"
   },
   {
    "duration": 11,
    "start_time": "2022-06-08T16:29:04.943Z"
   },
   {
    "duration": 33,
    "start_time": "2022-06-08T16:33:39.142Z"
   },
   {
    "duration": 14,
    "start_time": "2022-06-08T16:35:35.891Z"
   },
   {
    "duration": 9,
    "start_time": "2022-06-08T16:35:43.645Z"
   },
   {
    "duration": 31,
    "start_time": "2022-06-08T16:37:11.309Z"
   },
   {
    "duration": 4,
    "start_time": "2022-06-08T16:46:44.649Z"
   },
   {
    "duration": 4,
    "start_time": "2022-06-08T16:46:47.560Z"
   },
   {
    "duration": 103,
    "start_time": "2022-06-08T16:48:37.707Z"
   },
   {
    "duration": 50,
    "start_time": "2022-06-08T16:48:51.430Z"
   },
   {
    "duration": 24,
    "start_time": "2022-06-08T16:49:02.716Z"
   },
   {
    "duration": 29,
    "start_time": "2022-06-08T16:52:02.343Z"
   },
   {
    "duration": 28,
    "start_time": "2022-06-08T16:52:54.804Z"
   },
   {
    "duration": 30,
    "start_time": "2022-06-08T16:53:43.916Z"
   },
   {
    "duration": 43,
    "start_time": "2022-06-08T16:54:12.659Z"
   },
   {
    "duration": 44,
    "start_time": "2022-06-08T16:54:37.153Z"
   },
   {
    "duration": 26,
    "start_time": "2022-06-08T16:54:44.443Z"
   },
   {
    "duration": 52,
    "start_time": "2022-06-08T16:55:12.616Z"
   },
   {
    "duration": 21,
    "start_time": "2022-06-08T16:55:25.382Z"
   },
   {
    "duration": 10,
    "start_time": "2022-06-08T16:55:29.390Z"
   },
   {
    "duration": 3,
    "start_time": "2022-06-08T16:56:18.879Z"
   },
   {
    "duration": 6,
    "start_time": "2022-06-08T16:56:19.867Z"
   },
   {
    "duration": 23,
    "start_time": "2022-06-08T16:56:31.285Z"
   },
   {
    "duration": 13,
    "start_time": "2022-06-08T17:00:52.909Z"
   },
   {
    "duration": 11,
    "start_time": "2022-06-08T17:00:59.679Z"
   },
   {
    "duration": 9,
    "start_time": "2022-06-08T17:01:01.859Z"
   },
   {
    "duration": 6,
    "start_time": "2022-06-08T17:01:08.646Z"
   },
   {
    "duration": 34,
    "start_time": "2022-06-08T17:03:30.007Z"
   },
   {
    "duration": 27,
    "start_time": "2022-06-08T17:03:40.550Z"
   },
   {
    "duration": 27,
    "start_time": "2022-06-08T17:05:08.495Z"
   },
   {
    "duration": 43,
    "start_time": "2022-06-08T17:05:19.006Z"
   },
   {
    "duration": 47,
    "start_time": "2022-06-08T17:09:44.275Z"
   },
   {
    "duration": 941,
    "start_time": "2022-06-08T17:10:11.562Z"
   },
   {
    "duration": 873,
    "start_time": "2022-06-08T17:10:29.049Z"
   },
   {
    "duration": 23,
    "start_time": "2022-06-08T17:10:57.762Z"
   },
   {
    "duration": 27,
    "start_time": "2022-06-08T17:11:09.462Z"
   },
   {
    "duration": 24,
    "start_time": "2022-06-08T17:12:38.986Z"
   },
   {
    "duration": 595,
    "start_time": "2022-06-08T17:12:49.348Z"
   },
   {
    "duration": 34,
    "start_time": "2022-06-08T17:12:49.946Z"
   },
   {
    "duration": 20,
    "start_time": "2022-06-08T17:12:49.982Z"
   },
   {
    "duration": 13,
    "start_time": "2022-06-08T17:12:50.005Z"
   },
   {
    "duration": 50,
    "start_time": "2022-06-08T17:12:50.030Z"
   },
   {
    "duration": 4,
    "start_time": "2022-06-08T17:12:50.082Z"
   },
   {
    "duration": 15,
    "start_time": "2022-06-08T17:12:50.088Z"
   },
   {
    "duration": 22,
    "start_time": "2022-06-08T17:12:50.105Z"
   },
   {
    "duration": 10,
    "start_time": "2022-06-08T17:12:50.129Z"
   },
   {
    "duration": 23,
    "start_time": "2022-06-08T17:12:50.142Z"
   },
   {
    "duration": 43,
    "start_time": "2022-06-08T17:12:50.167Z"
   },
   {
    "duration": 18,
    "start_time": "2022-06-08T17:12:50.212Z"
   },
   {
    "duration": 15,
    "start_time": "2022-06-08T17:12:50.233Z"
   },
   {
    "duration": 39,
    "start_time": "2022-06-08T17:12:50.253Z"
   },
   {
    "duration": 21,
    "start_time": "2022-06-08T17:12:50.294Z"
   },
   {
    "duration": 18,
    "start_time": "2022-06-08T17:12:50.317Z"
   },
   {
    "duration": 27,
    "start_time": "2022-06-08T17:12:50.337Z"
   },
   {
    "duration": 12,
    "start_time": "2022-06-08T17:12:50.366Z"
   },
   {
    "duration": 10,
    "start_time": "2022-06-08T17:12:50.379Z"
   },
   {
    "duration": 7,
    "start_time": "2022-06-08T17:12:50.390Z"
   },
   {
    "duration": 11,
    "start_time": "2022-06-08T17:12:50.399Z"
   },
   {
    "duration": 37,
    "start_time": "2022-06-08T17:12:50.411Z"
   },
   {
    "duration": 29,
    "start_time": "2022-06-08T17:12:50.449Z"
   },
   {
    "duration": 7,
    "start_time": "2022-06-08T17:12:50.479Z"
   },
   {
    "duration": 31,
    "start_time": "2022-06-08T17:12:50.487Z"
   },
   {
    "duration": 11,
    "start_time": "2022-06-08T17:12:50.520Z"
   },
   {
    "duration": 32,
    "start_time": "2022-06-08T17:12:50.535Z"
   },
   {
    "duration": 21,
    "start_time": "2022-06-08T17:12:50.569Z"
   },
   {
    "duration": 3,
    "start_time": "2022-06-08T17:12:50.592Z"
   },
   {
    "duration": 10,
    "start_time": "2022-06-08T17:12:50.596Z"
   },
   {
    "duration": 13,
    "start_time": "2022-06-08T17:12:50.608Z"
   },
   {
    "duration": 32,
    "start_time": "2022-06-08T17:12:50.622Z"
   },
   {
    "duration": 30,
    "start_time": "2022-06-08T17:12:50.656Z"
   },
   {
    "duration": 17,
    "start_time": "2022-06-08T17:12:50.687Z"
   },
   {
    "duration": 6,
    "start_time": "2022-06-08T17:12:50.705Z"
   },
   {
    "duration": 27,
    "start_time": "2022-06-08T17:17:49.490Z"
   },
   {
    "duration": 20,
    "start_time": "2022-06-08T17:18:00.251Z"
   },
   {
    "duration": 27,
    "start_time": "2022-06-08T17:21:57.105Z"
   },
   {
    "duration": 25,
    "start_time": "2022-06-08T17:22:15.365Z"
   },
   {
    "duration": 32,
    "start_time": "2022-06-08T17:22:45.450Z"
   },
   {
    "duration": 27,
    "start_time": "2022-06-08T17:22:54.072Z"
   },
   {
    "duration": 31,
    "start_time": "2022-06-08T17:23:06.567Z"
   },
   {
    "duration": 11,
    "start_time": "2022-06-08T17:25:47.347Z"
   },
   {
    "duration": 6,
    "start_time": "2022-06-08T17:26:21.990Z"
   },
   {
    "duration": 27,
    "start_time": "2022-06-08T17:31:45.083Z"
   },
   {
    "duration": 33,
    "start_time": "2022-06-08T17:31:51.955Z"
   },
   {
    "duration": 24,
    "start_time": "2022-06-08T17:32:02.878Z"
   },
   {
    "duration": 26,
    "start_time": "2022-06-08T17:32:32.568Z"
   },
   {
    "duration": 28,
    "start_time": "2022-06-08T17:41:25.021Z"
   },
   {
    "duration": 62,
    "start_time": "2022-06-08T17:41:33.334Z"
   },
   {
    "duration": 93,
    "start_time": "2022-06-08T17:46:18.015Z"
   },
   {
    "duration": 28,
    "start_time": "2022-06-08T17:46:55.813Z"
   },
   {
    "duration": 25,
    "start_time": "2022-06-08T17:55:02.150Z"
   },
   {
    "duration": 3,
    "start_time": "2022-06-08T17:55:42.908Z"
   },
   {
    "duration": 40,
    "start_time": "2022-06-08T17:57:54.146Z"
   },
   {
    "duration": 43,
    "start_time": "2022-06-08T17:58:04.025Z"
   },
   {
    "duration": 29,
    "start_time": "2022-06-08T17:58:53.250Z"
   },
   {
    "duration": 22,
    "start_time": "2022-06-08T17:59:14.101Z"
   },
   {
    "duration": 46,
    "start_time": "2022-06-08T18:11:19.420Z"
   },
   {
    "duration": 33,
    "start_time": "2022-06-08T18:11:24.162Z"
   },
   {
    "duration": 509,
    "start_time": "2022-06-08T18:32:32.142Z"
   },
   {
    "duration": 36,
    "start_time": "2022-06-08T18:32:32.653Z"
   },
   {
    "duration": 23,
    "start_time": "2022-06-08T18:32:32.690Z"
   },
   {
    "duration": 19,
    "start_time": "2022-06-08T18:32:32.714Z"
   },
   {
    "duration": 83,
    "start_time": "2022-06-08T18:32:32.747Z"
   },
   {
    "duration": 7,
    "start_time": "2022-06-08T18:32:32.832Z"
   },
   {
    "duration": 59,
    "start_time": "2022-06-08T18:32:32.841Z"
   },
   {
    "duration": 5,
    "start_time": "2022-06-08T18:32:32.902Z"
   },
   {
    "duration": 13,
    "start_time": "2022-06-08T18:32:32.908Z"
   },
   {
    "duration": 9,
    "start_time": "2022-06-08T18:32:32.923Z"
   },
   {
    "duration": 78,
    "start_time": "2022-06-08T18:32:32.934Z"
   },
   {
    "duration": 9,
    "start_time": "2022-06-08T18:32:33.014Z"
   },
   {
    "duration": 39,
    "start_time": "2022-06-08T18:32:33.024Z"
   },
   {
    "duration": 29,
    "start_time": "2022-06-08T18:32:33.070Z"
   },
   {
    "duration": 17,
    "start_time": "2022-06-08T18:32:33.100Z"
   },
   {
    "duration": 20,
    "start_time": "2022-06-08T18:32:33.118Z"
   },
   {
    "duration": 39,
    "start_time": "2022-06-08T18:32:33.144Z"
   },
   {
    "duration": 15,
    "start_time": "2022-06-08T18:32:33.185Z"
   },
   {
    "duration": 6,
    "start_time": "2022-06-08T18:32:33.202Z"
   },
   {
    "duration": 4,
    "start_time": "2022-06-08T18:32:33.210Z"
   },
   {
    "duration": 12,
    "start_time": "2022-06-08T18:32:33.216Z"
   },
   {
    "duration": 36,
    "start_time": "2022-06-08T18:32:33.229Z"
   },
   {
    "duration": 20,
    "start_time": "2022-06-08T18:32:33.271Z"
   },
   {
    "duration": 27,
    "start_time": "2022-06-08T18:32:33.294Z"
   },
   {
    "duration": 17,
    "start_time": "2022-06-08T18:32:33.322Z"
   },
   {
    "duration": 43,
    "start_time": "2022-06-08T18:32:33.346Z"
   },
   {
    "duration": 19,
    "start_time": "2022-06-08T18:32:33.391Z"
   },
   {
    "duration": 2,
    "start_time": "2022-06-08T18:32:33.411Z"
   },
   {
    "duration": 6,
    "start_time": "2022-06-08T18:32:33.415Z"
   },
   {
    "duration": 44,
    "start_time": "2022-06-08T18:32:33.422Z"
   },
   {
    "duration": 22,
    "start_time": "2022-06-08T18:32:33.468Z"
   },
   {
    "duration": 20,
    "start_time": "2022-06-08T18:32:33.492Z"
   },
   {
    "duration": 3,
    "start_time": "2022-06-08T18:32:33.514Z"
   },
   {
    "duration": 34,
    "start_time": "2022-06-08T18:32:33.519Z"
   },
   {
    "duration": 30,
    "start_time": "2022-06-08T18:32:33.556Z"
   },
   {
    "duration": 68,
    "start_time": "2022-06-08T18:34:34.715Z"
   },
   {
    "duration": 32,
    "start_time": "2022-06-08T18:34:43.110Z"
   },
   {
    "duration": 25,
    "start_time": "2022-06-08T19:13:37.695Z"
   },
   {
    "duration": 24,
    "start_time": "2022-06-08T19:15:44.883Z"
   },
   {
    "duration": 48,
    "start_time": "2022-06-08T19:16:29.124Z"
   },
   {
    "duration": 31,
    "start_time": "2022-06-09T16:45:57.144Z"
   },
   {
    "duration": 43,
    "start_time": "2022-06-09T16:46:17.771Z"
   },
   {
    "duration": 13,
    "start_time": "2022-06-09T16:46:31.622Z"
   },
   {
    "duration": 6,
    "start_time": "2022-06-09T16:46:37.525Z"
   },
   {
    "duration": 688,
    "start_time": "2022-06-09T16:46:45.000Z"
   },
   {
    "duration": 23,
    "start_time": "2022-06-09T16:46:45.690Z"
   },
   {
    "duration": 26,
    "start_time": "2022-06-09T16:46:45.715Z"
   },
   {
    "duration": 22,
    "start_time": "2022-06-09T16:46:45.743Z"
   },
   {
    "duration": 60,
    "start_time": "2022-06-09T16:46:45.767Z"
   },
   {
    "duration": 4,
    "start_time": "2022-06-09T16:46:45.829Z"
   },
   {
    "duration": 37,
    "start_time": "2022-06-09T16:46:45.834Z"
   },
   {
    "duration": 25,
    "start_time": "2022-06-09T16:46:45.873Z"
   },
   {
    "duration": 34,
    "start_time": "2022-06-09T16:46:45.899Z"
   },
   {
    "duration": 22,
    "start_time": "2022-06-09T16:46:45.935Z"
   },
   {
    "duration": 50,
    "start_time": "2022-06-09T16:46:45.958Z"
   },
   {
    "duration": 9,
    "start_time": "2022-06-09T16:46:46.010Z"
   },
   {
    "duration": 34,
    "start_time": "2022-06-09T16:46:46.020Z"
   },
   {
    "duration": 54,
    "start_time": "2022-06-09T16:46:46.056Z"
   },
   {
    "duration": 25,
    "start_time": "2022-06-09T16:46:46.112Z"
   },
   {
    "duration": 20,
    "start_time": "2022-06-09T16:46:46.139Z"
   },
   {
    "duration": 17,
    "start_time": "2022-06-09T16:46:46.161Z"
   },
   {
    "duration": 29,
    "start_time": "2022-06-09T16:46:46.180Z"
   },
   {
    "duration": 22,
    "start_time": "2022-06-09T16:46:46.211Z"
   },
   {
    "duration": 28,
    "start_time": "2022-06-09T16:46:46.234Z"
   },
   {
    "duration": 35,
    "start_time": "2022-06-09T16:46:46.264Z"
   },
   {
    "duration": 43,
    "start_time": "2022-06-09T16:46:46.301Z"
   },
   {
    "duration": 22,
    "start_time": "2022-06-09T16:46:46.346Z"
   },
   {
    "duration": 15,
    "start_time": "2022-06-09T16:46:46.370Z"
   },
   {
    "duration": 32,
    "start_time": "2022-06-09T16:46:46.387Z"
   },
   {
    "duration": 26,
    "start_time": "2022-06-09T16:46:46.421Z"
   },
   {
    "duration": 18,
    "start_time": "2022-06-09T16:46:46.449Z"
   },
   {
    "duration": 28,
    "start_time": "2022-06-09T16:46:46.470Z"
   },
   {
    "duration": 4,
    "start_time": "2022-06-09T16:46:46.499Z"
   },
   {
    "duration": 15,
    "start_time": "2022-06-09T16:46:46.505Z"
   },
   {
    "duration": 26,
    "start_time": "2022-06-09T16:46:46.522Z"
   },
   {
    "duration": 12,
    "start_time": "2022-06-09T16:46:46.550Z"
   },
   {
    "duration": 23,
    "start_time": "2022-06-09T16:46:46.563Z"
   },
   {
    "duration": 3,
    "start_time": "2022-06-09T16:46:46.587Z"
   },
   {
    "duration": 30,
    "start_time": "2022-06-09T16:46:46.591Z"
   },
   {
    "duration": 10,
    "start_time": "2022-06-09T16:46:46.623Z"
   },
   {
    "duration": 4,
    "start_time": "2022-06-09T16:47:07.422Z"
   },
   {
    "duration": 73,
    "start_time": "2022-06-09T16:47:35.165Z"
   },
   {
    "duration": 19,
    "start_time": "2022-06-09T16:47:48.908Z"
   },
   {
    "duration": 19,
    "start_time": "2022-06-09T16:47:53.063Z"
   },
   {
    "duration": 29,
    "start_time": "2022-06-09T16:47:57.251Z"
   },
   {
    "duration": 371,
    "start_time": "2022-06-09T16:49:07.425Z"
   },
   {
    "duration": 317,
    "start_time": "2022-06-09T16:52:39.535Z"
   },
   {
    "duration": 341,
    "start_time": "2022-06-09T16:54:46.127Z"
   },
   {
    "duration": 16,
    "start_time": "2022-06-09T16:54:57.745Z"
   },
   {
    "duration": 13,
    "start_time": "2022-06-09T16:55:01.323Z"
   },
   {
    "duration": 13,
    "start_time": "2022-06-09T16:55:05.086Z"
   },
   {
    "duration": 14,
    "start_time": "2022-06-09T16:55:12.647Z"
   },
   {
    "duration": 15,
    "start_time": "2022-06-09T16:55:17.681Z"
   },
   {
    "duration": 13,
    "start_time": "2022-06-09T16:55:24.662Z"
   },
   {
    "duration": 20,
    "start_time": "2022-06-09T16:55:30.568Z"
   },
   {
    "duration": 36,
    "start_time": "2022-06-09T16:55:43.836Z"
   },
   {
    "duration": 19,
    "start_time": "2022-06-09T16:56:16.740Z"
   },
   {
    "duration": 20,
    "start_time": "2022-06-09T17:00:03.308Z"
   },
   {
    "duration": 18,
    "start_time": "2022-06-09T17:00:33.142Z"
   },
   {
    "duration": 17,
    "start_time": "2022-06-09T17:01:17.027Z"
   },
   {
    "duration": 43,
    "start_time": "2022-06-09T17:02:13.009Z"
   },
   {
    "duration": 18,
    "start_time": "2022-06-09T17:02:20.649Z"
   },
   {
    "duration": 18,
    "start_time": "2022-06-09T17:02:49.602Z"
   },
   {
    "duration": 25,
    "start_time": "2022-06-09T17:04:26.718Z"
   },
   {
    "duration": 17,
    "start_time": "2022-06-09T17:06:49.205Z"
   },
   {
    "duration": 376,
    "start_time": "2022-06-09T17:07:04.410Z"
   },
   {
    "duration": 404,
    "start_time": "2022-06-09T17:07:18.528Z"
   },
   {
    "duration": 32,
    "start_time": "2022-06-09T17:08:34.997Z"
   },
   {
    "duration": 21,
    "start_time": "2022-06-09T17:08:41.543Z"
   },
   {
    "duration": 17,
    "start_time": "2022-06-09T17:08:45.807Z"
   },
   {
    "duration": 20,
    "start_time": "2022-06-09T17:09:03.211Z"
   },
   {
    "duration": 19,
    "start_time": "2022-06-09T17:09:17.106Z"
   },
   {
    "duration": 18,
    "start_time": "2022-06-09T17:09:31.008Z"
   },
   {
    "duration": 19,
    "start_time": "2022-06-09T17:09:40.700Z"
   },
   {
    "duration": 19,
    "start_time": "2022-06-09T17:14:05.047Z"
   },
   {
    "duration": 18,
    "start_time": "2022-06-09T17:15:34.494Z"
   },
   {
    "duration": 28,
    "start_time": "2022-06-09T17:15:50.301Z"
   },
   {
    "duration": 18,
    "start_time": "2022-06-09T17:15:56.803Z"
   },
   {
    "duration": 27,
    "start_time": "2022-06-09T17:17:10.527Z"
   },
   {
    "duration": 28,
    "start_time": "2022-06-09T17:17:30.242Z"
   },
   {
    "duration": 26,
    "start_time": "2022-06-09T17:17:44.139Z"
   },
   {
    "duration": 26,
    "start_time": "2022-06-09T17:17:51.552Z"
   },
   {
    "duration": 18,
    "start_time": "2022-06-09T17:18:16.117Z"
   },
   {
    "duration": 371,
    "start_time": "2022-06-09T17:19:48.445Z"
   },
   {
    "duration": 420,
    "start_time": "2022-06-09T17:20:33.993Z"
   },
   {
    "duration": 17,
    "start_time": "2022-06-09T17:20:55.909Z"
   },
   {
    "duration": 326,
    "start_time": "2022-06-09T17:21:48.298Z"
   },
   {
    "duration": 8,
    "start_time": "2022-06-09T17:22:30.014Z"
   },
   {
    "duration": 34,
    "start_time": "2022-06-09T17:22:37.820Z"
   },
   {
    "duration": 17,
    "start_time": "2022-06-09T17:22:52.459Z"
   },
   {
    "duration": 15,
    "start_time": "2022-06-09T17:23:36.742Z"
   },
   {
    "duration": 18,
    "start_time": "2022-06-09T17:23:50.473Z"
   },
   {
    "duration": 252,
    "start_time": "2022-06-09T17:24:24.659Z"
   },
   {
    "duration": 19,
    "start_time": "2022-06-09T17:24:31.239Z"
   },
   {
    "duration": 20,
    "start_time": "2022-06-09T17:24:36.495Z"
   },
   {
    "duration": 19,
    "start_time": "2022-06-09T17:25:08.307Z"
   },
   {
    "duration": 18,
    "start_time": "2022-06-09T17:25:27.621Z"
   },
   {
    "duration": 251,
    "start_time": "2022-06-09T17:29:42.700Z"
   },
   {
    "duration": 266,
    "start_time": "2022-06-09T17:29:59.308Z"
   },
   {
    "duration": 20,
    "start_time": "2022-06-09T17:30:27.892Z"
   },
   {
    "duration": 261,
    "start_time": "2022-06-09T17:30:37.558Z"
   },
   {
    "duration": 14,
    "start_time": "2022-06-09T17:31:10.803Z"
   },
   {
    "duration": 23,
    "start_time": "2022-06-09T17:31:15.863Z"
   },
   {
    "duration": 59,
    "start_time": "2022-06-09T17:31:29.846Z"
   },
   {
    "duration": 21,
    "start_time": "2022-06-09T17:32:01.900Z"
   },
   {
    "duration": 21,
    "start_time": "2022-06-09T17:32:05.731Z"
   },
   {
    "duration": 16,
    "start_time": "2022-06-09T17:39:06.749Z"
   },
   {
    "duration": 19,
    "start_time": "2022-06-09T17:40:26.187Z"
   },
   {
    "duration": 14,
    "start_time": "2022-06-09T17:40:41.390Z"
   },
   {
    "duration": 18,
    "start_time": "2022-06-09T17:41:49.118Z"
   },
   {
    "duration": 19,
    "start_time": "2022-06-09T17:42:57.535Z"
   },
   {
    "duration": 8,
    "start_time": "2022-06-09T17:46:21.659Z"
   },
   {
    "duration": 8,
    "start_time": "2022-06-09T17:50:25.298Z"
   },
   {
    "duration": 389,
    "start_time": "2022-06-09T17:50:41.043Z"
   },
   {
    "duration": 404,
    "start_time": "2022-06-09T17:51:09.400Z"
   },
   {
    "duration": 334,
    "start_time": "2022-06-09T17:51:38.082Z"
   },
   {
    "duration": 364,
    "start_time": "2022-06-09T17:51:44.393Z"
   },
   {
    "duration": 19,
    "start_time": "2022-06-09T17:51:50.317Z"
   },
   {
    "duration": 17,
    "start_time": "2022-06-09T18:00:43.128Z"
   },
   {
    "duration": 24,
    "start_time": "2022-06-09T18:01:02.417Z"
   },
   {
    "duration": 33,
    "start_time": "2022-06-09T18:01:06.303Z"
   },
   {
    "duration": 17,
    "start_time": "2022-06-09T18:01:22.610Z"
   },
   {
    "duration": 263,
    "start_time": "2022-06-09T18:01:51.308Z"
   },
   {
    "duration": 19,
    "start_time": "2022-06-09T18:02:02.209Z"
   },
   {
    "duration": 28,
    "start_time": "2022-06-09T18:04:16.051Z"
   },
   {
    "duration": 30,
    "start_time": "2022-06-09T18:04:24.011Z"
   },
   {
    "duration": 33,
    "start_time": "2022-06-09T18:04:57.005Z"
   },
   {
    "duration": 327,
    "start_time": "2022-06-09T18:05:11.436Z"
   },
   {
    "duration": 392,
    "start_time": "2022-06-09T18:05:13.203Z"
   },
   {
    "duration": 345,
    "start_time": "2022-06-09T18:05:23.830Z"
   },
   {
    "duration": 344,
    "start_time": "2022-06-09T18:05:25.985Z"
   },
   {
    "duration": 418,
    "start_time": "2022-06-09T18:05:30.529Z"
   },
   {
    "duration": 309,
    "start_time": "2022-06-09T18:05:47.037Z"
   },
   {
    "duration": 6,
    "start_time": "2022-06-09T18:05:56.619Z"
   },
   {
    "duration": 373,
    "start_time": "2022-06-09T18:05:57.910Z"
   },
   {
    "duration": 481,
    "start_time": "2022-06-09T18:06:08.621Z"
   },
   {
    "duration": 21,
    "start_time": "2022-06-09T18:06:09.104Z"
   },
   {
    "duration": 14,
    "start_time": "2022-06-09T18:06:09.126Z"
   },
   {
    "duration": 9,
    "start_time": "2022-06-09T18:06:09.141Z"
   },
   {
    "duration": 33,
    "start_time": "2022-06-09T18:06:09.152Z"
   },
   {
    "duration": 4,
    "start_time": "2022-06-09T18:06:09.186Z"
   },
   {
    "duration": 36,
    "start_time": "2022-06-09T18:06:09.191Z"
   },
   {
    "duration": 4,
    "start_time": "2022-06-09T18:06:09.229Z"
   },
   {
    "duration": 12,
    "start_time": "2022-06-09T18:06:09.235Z"
   },
   {
    "duration": 4,
    "start_time": "2022-06-09T18:06:09.248Z"
   },
   {
    "duration": 36,
    "start_time": "2022-06-09T18:06:09.254Z"
   },
   {
    "duration": 14,
    "start_time": "2022-06-09T18:06:09.291Z"
   },
   {
    "duration": 9,
    "start_time": "2022-06-09T18:06:09.327Z"
   },
   {
    "duration": 19,
    "start_time": "2022-06-09T18:06:09.339Z"
   },
   {
    "duration": 15,
    "start_time": "2022-06-09T18:06:09.359Z"
   },
   {
    "duration": 10,
    "start_time": "2022-06-09T18:06:09.376Z"
   },
   {
    "duration": 11,
    "start_time": "2022-06-09T18:06:09.388Z"
   },
   {
    "duration": 12,
    "start_time": "2022-06-09T18:06:09.400Z"
   },
   {
    "duration": 7,
    "start_time": "2022-06-09T18:06:09.426Z"
   },
   {
    "duration": 9,
    "start_time": "2022-06-09T18:06:09.434Z"
   },
   {
    "duration": 12,
    "start_time": "2022-06-09T18:06:09.445Z"
   },
   {
    "duration": 20,
    "start_time": "2022-06-09T18:06:09.459Z"
   },
   {
    "duration": 11,
    "start_time": "2022-06-09T18:06:09.480Z"
   },
   {
    "duration": 6,
    "start_time": "2022-06-09T18:06:09.492Z"
   },
   {
    "duration": 42,
    "start_time": "2022-06-09T18:06:09.499Z"
   },
   {
    "duration": 8,
    "start_time": "2022-06-09T18:06:09.542Z"
   },
   {
    "duration": 8,
    "start_time": "2022-06-09T18:06:09.551Z"
   },
   {
    "duration": 20,
    "start_time": "2022-06-09T18:06:09.561Z"
   },
   {
    "duration": 2,
    "start_time": "2022-06-09T18:06:09.583Z"
   },
   {
    "duration": 5,
    "start_time": "2022-06-09T18:06:09.587Z"
   },
   {
    "duration": 36,
    "start_time": "2022-06-09T18:06:09.593Z"
   },
   {
    "duration": 5,
    "start_time": "2022-06-09T18:06:09.631Z"
   },
   {
    "duration": 19,
    "start_time": "2022-06-09T18:06:09.638Z"
   },
   {
    "duration": 3,
    "start_time": "2022-06-09T18:06:09.658Z"
   },
   {
    "duration": 24,
    "start_time": "2022-06-09T18:06:09.663Z"
   },
   {
    "duration": 2,
    "start_time": "2022-06-09T18:06:09.689Z"
   },
   {
    "duration": 18,
    "start_time": "2022-06-09T18:09:37.489Z"
   },
   {
    "duration": 17,
    "start_time": "2022-06-09T18:09:53.120Z"
   },
   {
    "duration": 18,
    "start_time": "2022-06-09T18:12:23.725Z"
   },
   {
    "duration": 24,
    "start_time": "2022-06-09T18:12:34.435Z"
   },
   {
    "duration": 18,
    "start_time": "2022-06-09T18:13:24.234Z"
   },
   {
    "duration": 19,
    "start_time": "2022-06-09T18:13:49.805Z"
   },
   {
    "duration": 20,
    "start_time": "2022-06-09T18:18:38.946Z"
   },
   {
    "duration": 19,
    "start_time": "2022-06-09T18:19:01.710Z"
   },
   {
    "duration": 18,
    "start_time": "2022-06-09T18:20:41.839Z"
   },
   {
    "duration": 20,
    "start_time": "2022-06-09T18:21:13.191Z"
   },
   {
    "duration": 19,
    "start_time": "2022-06-09T18:21:20.743Z"
   },
   {
    "duration": 21,
    "start_time": "2022-06-09T18:21:24.831Z"
   },
   {
    "duration": 21,
    "start_time": "2022-06-09T18:21:27.334Z"
   },
   {
    "duration": 20,
    "start_time": "2022-06-09T18:21:31.857Z"
   },
   {
    "duration": 19,
    "start_time": "2022-06-09T18:21:34.903Z"
   },
   {
    "duration": 18,
    "start_time": "2022-06-09T18:21:38.731Z"
   },
   {
    "duration": 6,
    "start_time": "2022-06-09T18:22:01.705Z"
   },
   {
    "duration": 5,
    "start_time": "2022-06-09T18:22:05.411Z"
   },
   {
    "duration": 6,
    "start_time": "2022-06-09T18:22:07.918Z"
   },
   {
    "duration": 5,
    "start_time": "2022-06-09T18:22:30.942Z"
   },
   {
    "duration": 5,
    "start_time": "2022-06-09T18:22:36.887Z"
   },
   {
    "duration": 29,
    "start_time": "2022-06-09T18:22:41.987Z"
   },
   {
    "duration": 20,
    "start_time": "2022-06-09T18:22:45.249Z"
   },
   {
    "duration": 6,
    "start_time": "2022-06-09T18:22:52.490Z"
   },
   {
    "duration": 19,
    "start_time": "2022-06-09T18:23:09.387Z"
   },
   {
    "duration": 63,
    "start_time": "2022-06-09T18:24:24.029Z"
   },
   {
    "duration": 6,
    "start_time": "2022-06-09T18:24:31.544Z"
   },
   {
    "duration": 6,
    "start_time": "2022-06-09T18:24:37.911Z"
   },
   {
    "duration": 22,
    "start_time": "2022-06-09T18:24:59.452Z"
   },
   {
    "duration": 6,
    "start_time": "2022-06-09T18:25:58.647Z"
   },
   {
    "duration": 6,
    "start_time": "2022-06-09T18:26:18.744Z"
   },
   {
    "duration": 4,
    "start_time": "2022-06-09T18:30:01.288Z"
   },
   {
    "duration": 3,
    "start_time": "2022-06-09T18:30:08.132Z"
   },
   {
    "duration": 18,
    "start_time": "2022-06-09T18:30:10.191Z"
   },
   {
    "duration": 5,
    "start_time": "2022-06-09T18:31:36.515Z"
   },
   {
    "duration": 6,
    "start_time": "2022-06-09T18:31:41.644Z"
   },
   {
    "duration": 5,
    "start_time": "2022-06-09T18:31:58.079Z"
   },
   {
    "duration": 19,
    "start_time": "2022-06-09T18:32:02.075Z"
   },
   {
    "duration": 8,
    "start_time": "2022-06-09T18:33:36.751Z"
   },
   {
    "duration": 7,
    "start_time": "2022-06-09T18:33:41.983Z"
   },
   {
    "duration": 20,
    "start_time": "2022-06-09T18:33:52.611Z"
   },
   {
    "duration": 9,
    "start_time": "2022-06-09T18:34:05.787Z"
   },
   {
    "duration": 7,
    "start_time": "2022-06-09T18:34:07.123Z"
   },
   {
    "duration": 19,
    "start_time": "2022-06-09T18:34:14.324Z"
   },
   {
    "duration": 8,
    "start_time": "2022-06-09T18:34:44.542Z"
   },
   {
    "duration": 11,
    "start_time": "2022-06-09T18:34:53.227Z"
   },
   {
    "duration": 6,
    "start_time": "2022-06-09T18:34:54.095Z"
   },
   {
    "duration": 19,
    "start_time": "2022-06-09T18:35:15.795Z"
   },
   {
    "duration": 16,
    "start_time": "2022-06-09T18:39:08.460Z"
   },
   {
    "duration": 8,
    "start_time": "2022-06-09T18:39:31.207Z"
   },
   {
    "duration": 7,
    "start_time": "2022-06-09T18:41:24.132Z"
   },
   {
    "duration": 5,
    "start_time": "2022-06-09T18:41:25.291Z"
   },
   {
    "duration": 19,
    "start_time": "2022-06-09T18:41:30.303Z"
   },
   {
    "duration": 17,
    "start_time": "2022-06-09T18:47:23.147Z"
   },
   {
    "duration": 18,
    "start_time": "2022-06-09T18:48:53.731Z"
   },
   {
    "duration": 20,
    "start_time": "2022-06-09T18:49:05.899Z"
   },
   {
    "duration": 18,
    "start_time": "2022-06-09T18:49:31.184Z"
   },
   {
    "duration": 28,
    "start_time": "2022-06-09T18:49:34.852Z"
   },
   {
    "duration": 19,
    "start_time": "2022-06-09T18:49:39.750Z"
   }
  ],
  "colab": {
   "name": "dpp_template_part2.ipynb",
   "provenance": []
  },
  "kernelspec": {
   "display_name": "Python 3 (ipykernel)",
   "language": "python",
   "name": "python3"
  },
  "language_info": {
   "codemirror_mode": {
    "name": "ipython",
    "version": 3
   },
   "file_extension": ".py",
   "mimetype": "text/x-python",
   "name": "python",
   "nbconvert_exporter": "python",
   "pygments_lexer": "ipython3",
   "version": "3.9.12"
  },
  "toc": {
   "base_numbering": 1,
   "nav_menu": {},
   "number_sections": true,
   "sideBar": true,
   "skip_h1_title": true,
   "title_cell": "Table of Contents",
   "title_sidebar": "Contents",
   "toc_cell": false,
   "toc_position": {},
   "toc_section_display": true,
   "toc_window_display": false
  }
 },
 "nbformat": 4,
 "nbformat_minor": 5
}
