{
 "cells": [
  {
   "cell_type": "markdown",
   "id": "c1480073",
   "metadata": {},
   "source": [
    "# Мобильное приложение «Ненужные вещи» — Выделение групп пользователей на основе поведения\n",
    "\n",
    "# Описание проекта:\n",
    "\n",
    "***Пользователи нашего приложения совершают в нём много действий и в этих данных есть инсайты, которые позволят нам стать лучшим приложением для продажи ненужных вещей.***\n",
    "\n",
    "***«Ненужные вещи» — ваши ненужные вещи нужны кому-то другому!***\n",
    "\n",
    "# Основные задачи:\n",
    "\n",
    "- ***Выбрать методику сегментации пользователей***\n",
    "\n",
    "- ***Пользователи какой группы склонны часто возвращаться в мобильное приложение (Retention rate)?***\n",
    "\n",
    "- ***Пользователи какой группы часто делают целевое событие (конверсия в целевое действие)?***\n",
    "\n",
    "<a class=\"anchor\" id=\"description\"></a>"
   ]
  },
  {
   "cell_type": "markdown",
   "id": "e6b3dab9",
   "metadata": {},
   "source": [
    "## Знакомство с данными и их предобработка\n",
    "\n",
    "### Описание данных\n",
    "\n",
    "Датасет содержит данные о событиях, совершенных в мобильном приложении \"Ненужные вещи\". В нем пользователи продают свои ненужные вещи, размещая их на доске объявлений.\n",
    "\n",
    "В датасете содержатся данные пользователей, впервые совершивших действия в приложении после 7 октября 2019 года.\n",
    "\n",
    "Датасет **mobile_dataset.csv** содержит колонки:\n",
    "- `event.time` — время совершения\n",
    "- `event.name` — название события\n",
    "- `user.id` — идентификатор пользователя\n",
    "\n",
    "Датасет **mobile_sources.csv** содержит колонки:\n",
    "- `userId` — идентификатор пользователя\n",
    "- `source` — источник, с которого пользователь установил приложение\n",
    "\n",
    "Расшифровки событий:\n",
    "- `advert_open` — открытие карточки объявления\n",
    "- `photos_show` — просмотр фотографий в объявлении\n",
    "- `tips_show` — пользователь увидел рекомендованные объявления\n",
    "- `tips_click` — пользователь кликнул по рекомендованному объявлению\n",
    "- `contacts_show` и `show_contacts` — пользователь нажал на кнопку \"посмотреть номер телефона\" на карточке объявления\n",
    "- `contacts_call` — пользователь позвонил по номеру телефона на карточке объявления\n",
    "- `map` — пользователь открыл карту размещенных объявлений\n",
    "- `search_1` — `search_7` — разные события, связанные с поиском по сайту\n",
    "- `favorites_add` — добавление объявления в избранное"
   ]
  },
  {
   "cell_type": "markdown",
   "id": "388efdbe",
   "metadata": {},
   "source": [
    "### Подключение библиотек"
   ]
  },
  {
   "cell_type": "code",
   "execution_count": 1,
   "id": "b19197c3",
   "metadata": {},
   "outputs": [],
   "source": [
    "import pandas as pd\n",
    "import numpy as np\n",
    "import seaborn as sns\n",
    "sns.set(rc={'figure.figsize':(14, 7)})\n",
    "import plotly.express as px\n",
    "import math as mth\n",
    "import matplotlib.pyplot as plt\n",
    "import warnings\n",
    "warnings.filterwarnings('ignore')\n",
    "import datetime as dt\n",
    "from scipy import stats as st"
   ]
  },
  {
   "cell_type": "markdown",
   "id": "42e6a5d6",
   "metadata": {},
   "source": [
    "### Загрузка данных и первичный осмотр <a class=\"anchor\" id=\"dataload\"></a>"
   ]
  },
  {
   "cell_type": "code",
   "execution_count": 2,
   "id": "4d7f1186",
   "metadata": {},
   "outputs": [],
   "source": [
    "mobile_sourсes = pd.read_csv('https://code.s3.yandex.net/datasets/mobile_sources.csv')\n",
    "mobile_dataset = pd.read_csv('https://code.s3.yandex.net/datasets/mobile_dataset.csv')"
   ]
  },
  {
   "cell_type": "markdown",
   "id": "7a368ecf",
   "metadata": {},
   "source": [
    "### Проверка на корректность наименований <a class=\"anchor\" id=\"rightnames\"></a>"
   ]
  },
  {
   "cell_type": "code",
   "execution_count": 3,
   "id": "d97b1bfc",
   "metadata": {},
   "outputs": [
    {
     "data": {
      "text/html": [
       "<div>\n",
       "<style scoped>\n",
       "    .dataframe tbody tr th:only-of-type {\n",
       "        vertical-align: middle;\n",
       "    }\n",
       "\n",
       "    .dataframe tbody tr th {\n",
       "        vertical-align: top;\n",
       "    }\n",
       "\n",
       "    .dataframe thead th {\n",
       "        text-align: right;\n",
       "    }\n",
       "</style>\n",
       "<table border=\"1\" class=\"dataframe\">\n",
       "  <thead>\n",
       "    <tr style=\"text-align: right;\">\n",
       "      <th></th>\n",
       "      <th>userId</th>\n",
       "      <th>source</th>\n",
       "    </tr>\n",
       "  </thead>\n",
       "  <tbody>\n",
       "    <tr>\n",
       "      <th>0</th>\n",
       "      <td>020292ab-89bc-4156-9acf-68bc2783f894</td>\n",
       "      <td>other</td>\n",
       "    </tr>\n",
       "    <tr>\n",
       "      <th>1</th>\n",
       "      <td>cf7eda61-9349-469f-ac27-e5b6f5ec475c</td>\n",
       "      <td>yandex</td>\n",
       "    </tr>\n",
       "    <tr>\n",
       "      <th>2</th>\n",
       "      <td>8c356c42-3ba9-4cb6-80b8-3f868d0192c3</td>\n",
       "      <td>yandex</td>\n",
       "    </tr>\n",
       "    <tr>\n",
       "      <th>3</th>\n",
       "      <td>d9b06b47-0f36-419b-bbb0-3533e582a6cb</td>\n",
       "      <td>other</td>\n",
       "    </tr>\n",
       "    <tr>\n",
       "      <th>4</th>\n",
       "      <td>f32e1e2a-3027-4693-b793-b7b3ff274439</td>\n",
       "      <td>google</td>\n",
       "    </tr>\n",
       "  </tbody>\n",
       "</table>\n",
       "</div>"
      ],
      "text/plain": [
       "                                 userId  source\n",
       "0  020292ab-89bc-4156-9acf-68bc2783f894   other\n",
       "1  cf7eda61-9349-469f-ac27-e5b6f5ec475c  yandex\n",
       "2  8c356c42-3ba9-4cb6-80b8-3f868d0192c3  yandex\n",
       "3  d9b06b47-0f36-419b-bbb0-3533e582a6cb   other\n",
       "4  f32e1e2a-3027-4693-b793-b7b3ff274439  google"
      ]
     },
     "execution_count": 3,
     "metadata": {},
     "output_type": "execute_result"
    }
   ],
   "source": [
    "mobile_sourсes.head()"
   ]
  },
  {
   "cell_type": "code",
   "execution_count": 4,
   "id": "ab9bf9b9",
   "metadata": {},
   "outputs": [
    {
     "name": "stdout",
     "output_type": "stream",
     "text": [
      "<class 'pandas.core.frame.DataFrame'>\n",
      "RangeIndex: 4293 entries, 0 to 4292\n",
      "Data columns (total 2 columns):\n",
      " #   Column  Non-Null Count  Dtype \n",
      "---  ------  --------------  ----- \n",
      " 0   userId  4293 non-null   object\n",
      " 1   source  4293 non-null   object\n",
      "dtypes: object(2)\n",
      "memory usage: 67.2+ KB\n"
     ]
    }
   ],
   "source": [
    "mobile_sourсes.info()"
   ]
  },
  {
   "cell_type": "markdown",
   "id": "3ea46614",
   "metadata": {},
   "source": [
    "4293 строки, 2 столбца"
   ]
  },
  {
   "cell_type": "code",
   "execution_count": 5,
   "id": "c3aa3fcf",
   "metadata": {},
   "outputs": [
    {
     "data": {
      "text/html": [
       "<div>\n",
       "<style scoped>\n",
       "    .dataframe tbody tr th:only-of-type {\n",
       "        vertical-align: middle;\n",
       "    }\n",
       "\n",
       "    .dataframe tbody tr th {\n",
       "        vertical-align: top;\n",
       "    }\n",
       "\n",
       "    .dataframe thead th {\n",
       "        text-align: right;\n",
       "    }\n",
       "</style>\n",
       "<table border=\"1\" class=\"dataframe\">\n",
       "  <thead>\n",
       "    <tr style=\"text-align: right;\">\n",
       "      <th></th>\n",
       "      <th>event.time</th>\n",
       "      <th>event.name</th>\n",
       "      <th>user.id</th>\n",
       "    </tr>\n",
       "  </thead>\n",
       "  <tbody>\n",
       "    <tr>\n",
       "      <th>0</th>\n",
       "      <td>2019-10-07 00:00:00.431357</td>\n",
       "      <td>advert_open</td>\n",
       "      <td>020292ab-89bc-4156-9acf-68bc2783f894</td>\n",
       "    </tr>\n",
       "    <tr>\n",
       "      <th>1</th>\n",
       "      <td>2019-10-07 00:00:01.236320</td>\n",
       "      <td>tips_show</td>\n",
       "      <td>020292ab-89bc-4156-9acf-68bc2783f894</td>\n",
       "    </tr>\n",
       "    <tr>\n",
       "      <th>2</th>\n",
       "      <td>2019-10-07 00:00:02.245341</td>\n",
       "      <td>tips_show</td>\n",
       "      <td>cf7eda61-9349-469f-ac27-e5b6f5ec475c</td>\n",
       "    </tr>\n",
       "    <tr>\n",
       "      <th>3</th>\n",
       "      <td>2019-10-07 00:00:07.039334</td>\n",
       "      <td>tips_show</td>\n",
       "      <td>020292ab-89bc-4156-9acf-68bc2783f894</td>\n",
       "    </tr>\n",
       "    <tr>\n",
       "      <th>4</th>\n",
       "      <td>2019-10-07 00:00:56.319813</td>\n",
       "      <td>advert_open</td>\n",
       "      <td>cf7eda61-9349-469f-ac27-e5b6f5ec475c</td>\n",
       "    </tr>\n",
       "  </tbody>\n",
       "</table>\n",
       "</div>"
      ],
      "text/plain": [
       "                   event.time   event.name  \\\n",
       "0  2019-10-07 00:00:00.431357  advert_open   \n",
       "1  2019-10-07 00:00:01.236320    tips_show   \n",
       "2  2019-10-07 00:00:02.245341    tips_show   \n",
       "3  2019-10-07 00:00:07.039334    tips_show   \n",
       "4  2019-10-07 00:00:56.319813  advert_open   \n",
       "\n",
       "                                user.id  \n",
       "0  020292ab-89bc-4156-9acf-68bc2783f894  \n",
       "1  020292ab-89bc-4156-9acf-68bc2783f894  \n",
       "2  cf7eda61-9349-469f-ac27-e5b6f5ec475c  \n",
       "3  020292ab-89bc-4156-9acf-68bc2783f894  \n",
       "4  cf7eda61-9349-469f-ac27-e5b6f5ec475c  "
      ]
     },
     "execution_count": 5,
     "metadata": {},
     "output_type": "execute_result"
    }
   ],
   "source": [
    "mobile_dataset.head()"
   ]
  },
  {
   "cell_type": "code",
   "execution_count": 6,
   "id": "ac7c8c57",
   "metadata": {},
   "outputs": [
    {
     "name": "stdout",
     "output_type": "stream",
     "text": [
      "<class 'pandas.core.frame.DataFrame'>\n",
      "RangeIndex: 74197 entries, 0 to 74196\n",
      "Data columns (total 3 columns):\n",
      " #   Column      Non-Null Count  Dtype \n",
      "---  ------      --------------  ----- \n",
      " 0   event.time  74197 non-null  object\n",
      " 1   event.name  74197 non-null  object\n",
      " 2   user.id     74197 non-null  object\n",
      "dtypes: object(3)\n",
      "memory usage: 1.7+ MB\n"
     ]
    }
   ],
   "source": [
    "mobile_dataset.info()"
   ]
  },
  {
   "cell_type": "markdown",
   "id": "3a0c2b68",
   "metadata": {},
   "source": [
    "74197 строк, 3 столбца"
   ]
  },
  {
   "cell_type": "markdown",
   "id": "7f20041f",
   "metadata": {},
   "source": [
    "Приведем названия столбцов в датасетах к стандарту"
   ]
  },
  {
   "cell_type": "code",
   "execution_count": 7,
   "id": "e7165156",
   "metadata": {},
   "outputs": [],
   "source": [
    "mobile_sourсes.columns = ['user_id', 'source']\n",
    "mobile_dataset.columns = ['event_time', 'event_name', 'user_id']"
   ]
  },
  {
   "cell_type": "markdown",
   "id": "f7922d66",
   "metadata": {},
   "source": [
    "### Проверка на типы данных, приведение их в соответствие <a class=\"anchor\" id=\"types\"></a>"
   ]
  },
  {
   "cell_type": "markdown",
   "id": "27cb228b",
   "metadata": {},
   "source": [
    "Типы данных все подходят, кроме event_time, приведем его к datetime формату и избавимся от милисекунд"
   ]
  },
  {
   "cell_type": "code",
   "execution_count": 8,
   "id": "3cb39cba",
   "metadata": {},
   "outputs": [
    {
     "data": {
      "text/html": [
       "<div>\n",
       "<style scoped>\n",
       "    .dataframe tbody tr th:only-of-type {\n",
       "        vertical-align: middle;\n",
       "    }\n",
       "\n",
       "    .dataframe tbody tr th {\n",
       "        vertical-align: top;\n",
       "    }\n",
       "\n",
       "    .dataframe thead th {\n",
       "        text-align: right;\n",
       "    }\n",
       "</style>\n",
       "<table border=\"1\" class=\"dataframe\">\n",
       "  <thead>\n",
       "    <tr style=\"text-align: right;\">\n",
       "      <th></th>\n",
       "      <th>event_time</th>\n",
       "      <th>event_name</th>\n",
       "      <th>user_id</th>\n",
       "    </tr>\n",
       "  </thead>\n",
       "  <tbody>\n",
       "    <tr>\n",
       "      <th>0</th>\n",
       "      <td>2019-10-07 00:00:00</td>\n",
       "      <td>advert_open</td>\n",
       "      <td>020292ab-89bc-4156-9acf-68bc2783f894</td>\n",
       "    </tr>\n",
       "    <tr>\n",
       "      <th>1</th>\n",
       "      <td>2019-10-07 00:00:01</td>\n",
       "      <td>tips_show</td>\n",
       "      <td>020292ab-89bc-4156-9acf-68bc2783f894</td>\n",
       "    </tr>\n",
       "    <tr>\n",
       "      <th>2</th>\n",
       "      <td>2019-10-07 00:00:02</td>\n",
       "      <td>tips_show</td>\n",
       "      <td>cf7eda61-9349-469f-ac27-e5b6f5ec475c</td>\n",
       "    </tr>\n",
       "    <tr>\n",
       "      <th>3</th>\n",
       "      <td>2019-10-07 00:00:07</td>\n",
       "      <td>tips_show</td>\n",
       "      <td>020292ab-89bc-4156-9acf-68bc2783f894</td>\n",
       "    </tr>\n",
       "    <tr>\n",
       "      <th>4</th>\n",
       "      <td>2019-10-07 00:00:56</td>\n",
       "      <td>advert_open</td>\n",
       "      <td>cf7eda61-9349-469f-ac27-e5b6f5ec475c</td>\n",
       "    </tr>\n",
       "  </tbody>\n",
       "</table>\n",
       "</div>"
      ],
      "text/plain": [
       "           event_time   event_name                               user_id\n",
       "0 2019-10-07 00:00:00  advert_open  020292ab-89bc-4156-9acf-68bc2783f894\n",
       "1 2019-10-07 00:00:01    tips_show  020292ab-89bc-4156-9acf-68bc2783f894\n",
       "2 2019-10-07 00:00:02    tips_show  cf7eda61-9349-469f-ac27-e5b6f5ec475c\n",
       "3 2019-10-07 00:00:07    tips_show  020292ab-89bc-4156-9acf-68bc2783f894\n",
       "4 2019-10-07 00:00:56  advert_open  cf7eda61-9349-469f-ac27-e5b6f5ec475c"
      ]
     },
     "execution_count": 8,
     "metadata": {},
     "output_type": "execute_result"
    }
   ],
   "source": [
    "mobile_dataset['event_time'] = pd.to_datetime(mobile_dataset['event_time']).dt.floor(\"S\")\n",
    "mobile_dataset.head()"
   ]
  },
  {
   "cell_type": "markdown",
   "id": "06df5458",
   "metadata": {},
   "source": [
    "### Проверка на дубликаты и пропуски <a class=\"anchor\" id=\"dublicates\"></a>"
   ]
  },
  {
   "cell_type": "code",
   "execution_count": 9,
   "id": "7f31c46c",
   "metadata": {},
   "outputs": [
    {
     "data": {
      "text/plain": [
       "user_id    0\n",
       "source     0\n",
       "dtype: int64"
      ]
     },
     "execution_count": 9,
     "metadata": {},
     "output_type": "execute_result"
    }
   ],
   "source": [
    "mobile_sourсes.isna().sum()"
   ]
  },
  {
   "cell_type": "code",
   "execution_count": 10,
   "id": "64055dd3",
   "metadata": {},
   "outputs": [
    {
     "data": {
      "text/plain": [
       "event_time    0\n",
       "event_name    0\n",
       "user_id       0\n",
       "dtype: int64"
      ]
     },
     "execution_count": 10,
     "metadata": {},
     "output_type": "execute_result"
    }
   ],
   "source": [
    "mobile_dataset.isna().sum()"
   ]
  },
  {
   "cell_type": "code",
   "execution_count": 11,
   "id": "a52c170e",
   "metadata": {},
   "outputs": [
    {
     "data": {
      "text/plain": [
       "0"
      ]
     },
     "execution_count": 11,
     "metadata": {},
     "output_type": "execute_result"
    }
   ],
   "source": [
    "mobile_sourсes.duplicated().sum()"
   ]
  },
  {
   "cell_type": "code",
   "execution_count": 12,
   "id": "67af1647",
   "metadata": {},
   "outputs": [
    {
     "data": {
      "text/plain": [
       "1143"
      ]
     },
     "execution_count": 12,
     "metadata": {},
     "output_type": "execute_result"
    }
   ],
   "source": [
    "mobile_dataset.duplicated().sum()"
   ]
  },
  {
   "cell_type": "markdown",
   "id": "88eb1a66",
   "metadata": {},
   "source": [
    "Дубликаты появились после округления до секунд, удалим их, так как маловероятно, что можно совершить два разных действия с разницей в милисекунды."
   ]
  },
  {
   "cell_type": "code",
   "execution_count": 13,
   "id": "2d5111ae",
   "metadata": {},
   "outputs": [
    {
     "data": {
      "text/html": [
       "<div>\n",
       "<style scoped>\n",
       "    .dataframe tbody tr th:only-of-type {\n",
       "        vertical-align: middle;\n",
       "    }\n",
       "\n",
       "    .dataframe tbody tr th {\n",
       "        vertical-align: top;\n",
       "    }\n",
       "\n",
       "    .dataframe thead th {\n",
       "        text-align: right;\n",
       "    }\n",
       "</style>\n",
       "<table border=\"1\" class=\"dataframe\">\n",
       "  <thead>\n",
       "    <tr style=\"text-align: right;\">\n",
       "      <th></th>\n",
       "      <th>event_time</th>\n",
       "      <th>event_name</th>\n",
       "      <th>user_id</th>\n",
       "    </tr>\n",
       "  </thead>\n",
       "  <tbody>\n",
       "    <tr>\n",
       "      <th>0</th>\n",
       "      <td>2019-10-07 00:00:00</td>\n",
       "      <td>advert_open</td>\n",
       "      <td>020292ab-89bc-4156-9acf-68bc2783f894</td>\n",
       "    </tr>\n",
       "    <tr>\n",
       "      <th>1</th>\n",
       "      <td>2019-10-07 00:00:01</td>\n",
       "      <td>tips_show</td>\n",
       "      <td>020292ab-89bc-4156-9acf-68bc2783f894</td>\n",
       "    </tr>\n",
       "    <tr>\n",
       "      <th>2</th>\n",
       "      <td>2019-10-07 00:00:02</td>\n",
       "      <td>tips_show</td>\n",
       "      <td>cf7eda61-9349-469f-ac27-e5b6f5ec475c</td>\n",
       "    </tr>\n",
       "    <tr>\n",
       "      <th>3</th>\n",
       "      <td>2019-10-07 00:00:07</td>\n",
       "      <td>tips_show</td>\n",
       "      <td>020292ab-89bc-4156-9acf-68bc2783f894</td>\n",
       "    </tr>\n",
       "    <tr>\n",
       "      <th>4</th>\n",
       "      <td>2019-10-07 00:00:56</td>\n",
       "      <td>advert_open</td>\n",
       "      <td>cf7eda61-9349-469f-ac27-e5b6f5ec475c</td>\n",
       "    </tr>\n",
       "    <tr>\n",
       "      <th>...</th>\n",
       "      <td>...</td>\n",
       "      <td>...</td>\n",
       "      <td>...</td>\n",
       "    </tr>\n",
       "    <tr>\n",
       "      <th>74192</th>\n",
       "      <td>2019-11-03 23:53:29</td>\n",
       "      <td>tips_show</td>\n",
       "      <td>28fccdf4-7b9e-42f5-bc73-439a265f20e9</td>\n",
       "    </tr>\n",
       "    <tr>\n",
       "      <th>74193</th>\n",
       "      <td>2019-11-03 23:54:00</td>\n",
       "      <td>tips_show</td>\n",
       "      <td>28fccdf4-7b9e-42f5-bc73-439a265f20e9</td>\n",
       "    </tr>\n",
       "    <tr>\n",
       "      <th>74194</th>\n",
       "      <td>2019-11-03 23:56:57</td>\n",
       "      <td>search_1</td>\n",
       "      <td>20850c8f-4135-4059-b13b-198d3ac59902</td>\n",
       "    </tr>\n",
       "    <tr>\n",
       "      <th>74195</th>\n",
       "      <td>2019-11-03 23:57:06</td>\n",
       "      <td>tips_show</td>\n",
       "      <td>28fccdf4-7b9e-42f5-bc73-439a265f20e9</td>\n",
       "    </tr>\n",
       "    <tr>\n",
       "      <th>74196</th>\n",
       "      <td>2019-11-03 23:58:12</td>\n",
       "      <td>tips_show</td>\n",
       "      <td>28fccdf4-7b9e-42f5-bc73-439a265f20e9</td>\n",
       "    </tr>\n",
       "  </tbody>\n",
       "</table>\n",
       "<p>73054 rows × 3 columns</p>\n",
       "</div>"
      ],
      "text/plain": [
       "               event_time   event_name                               user_id\n",
       "0     2019-10-07 00:00:00  advert_open  020292ab-89bc-4156-9acf-68bc2783f894\n",
       "1     2019-10-07 00:00:01    tips_show  020292ab-89bc-4156-9acf-68bc2783f894\n",
       "2     2019-10-07 00:00:02    tips_show  cf7eda61-9349-469f-ac27-e5b6f5ec475c\n",
       "3     2019-10-07 00:00:07    tips_show  020292ab-89bc-4156-9acf-68bc2783f894\n",
       "4     2019-10-07 00:00:56  advert_open  cf7eda61-9349-469f-ac27-e5b6f5ec475c\n",
       "...                   ...          ...                                   ...\n",
       "74192 2019-11-03 23:53:29    tips_show  28fccdf4-7b9e-42f5-bc73-439a265f20e9\n",
       "74193 2019-11-03 23:54:00    tips_show  28fccdf4-7b9e-42f5-bc73-439a265f20e9\n",
       "74194 2019-11-03 23:56:57     search_1  20850c8f-4135-4059-b13b-198d3ac59902\n",
       "74195 2019-11-03 23:57:06    tips_show  28fccdf4-7b9e-42f5-bc73-439a265f20e9\n",
       "74196 2019-11-03 23:58:12    tips_show  28fccdf4-7b9e-42f5-bc73-439a265f20e9\n",
       "\n",
       "[73054 rows x 3 columns]"
      ]
     },
     "execution_count": 13,
     "metadata": {},
     "output_type": "execute_result"
    }
   ],
   "source": [
    "mob_df = mobile_dataset.drop_duplicates()\n",
    "mob_df"
   ]
  },
  {
   "cell_type": "markdown",
   "id": "a1230edc",
   "metadata": {},
   "source": [
    "Для дальнейшего исследования объединим два датасета в один"
   ]
  },
  {
   "cell_type": "code",
   "execution_count": 14,
   "id": "dd8df280",
   "metadata": {},
   "outputs": [
    {
     "data": {
      "text/html": [
       "<div>\n",
       "<style scoped>\n",
       "    .dataframe tbody tr th:only-of-type {\n",
       "        vertical-align: middle;\n",
       "    }\n",
       "\n",
       "    .dataframe tbody tr th {\n",
       "        vertical-align: top;\n",
       "    }\n",
       "\n",
       "    .dataframe thead th {\n",
       "        text-align: right;\n",
       "    }\n",
       "</style>\n",
       "<table border=\"1\" class=\"dataframe\">\n",
       "  <thead>\n",
       "    <tr style=\"text-align: right;\">\n",
       "      <th></th>\n",
       "      <th>event_time</th>\n",
       "      <th>event_name</th>\n",
       "      <th>user_id</th>\n",
       "      <th>source</th>\n",
       "    </tr>\n",
       "  </thead>\n",
       "  <tbody>\n",
       "    <tr>\n",
       "      <th>0</th>\n",
       "      <td>2019-10-07 00:00:00</td>\n",
       "      <td>advert_open</td>\n",
       "      <td>020292ab-89bc-4156-9acf-68bc2783f894</td>\n",
       "      <td>other</td>\n",
       "    </tr>\n",
       "    <tr>\n",
       "      <th>1</th>\n",
       "      <td>2019-10-07 00:00:01</td>\n",
       "      <td>tips_show</td>\n",
       "      <td>020292ab-89bc-4156-9acf-68bc2783f894</td>\n",
       "      <td>other</td>\n",
       "    </tr>\n",
       "    <tr>\n",
       "      <th>2</th>\n",
       "      <td>2019-10-07 00:00:02</td>\n",
       "      <td>tips_show</td>\n",
       "      <td>cf7eda61-9349-469f-ac27-e5b6f5ec475c</td>\n",
       "      <td>yandex</td>\n",
       "    </tr>\n",
       "    <tr>\n",
       "      <th>3</th>\n",
       "      <td>2019-10-07 00:00:07</td>\n",
       "      <td>tips_show</td>\n",
       "      <td>020292ab-89bc-4156-9acf-68bc2783f894</td>\n",
       "      <td>other</td>\n",
       "    </tr>\n",
       "    <tr>\n",
       "      <th>4</th>\n",
       "      <td>2019-10-07 00:00:56</td>\n",
       "      <td>advert_open</td>\n",
       "      <td>cf7eda61-9349-469f-ac27-e5b6f5ec475c</td>\n",
       "      <td>yandex</td>\n",
       "    </tr>\n",
       "    <tr>\n",
       "      <th>...</th>\n",
       "      <td>...</td>\n",
       "      <td>...</td>\n",
       "      <td>...</td>\n",
       "      <td>...</td>\n",
       "    </tr>\n",
       "    <tr>\n",
       "      <th>73049</th>\n",
       "      <td>2019-11-03 23:53:29</td>\n",
       "      <td>tips_show</td>\n",
       "      <td>28fccdf4-7b9e-42f5-bc73-439a265f20e9</td>\n",
       "      <td>google</td>\n",
       "    </tr>\n",
       "    <tr>\n",
       "      <th>73050</th>\n",
       "      <td>2019-11-03 23:54:00</td>\n",
       "      <td>tips_show</td>\n",
       "      <td>28fccdf4-7b9e-42f5-bc73-439a265f20e9</td>\n",
       "      <td>google</td>\n",
       "    </tr>\n",
       "    <tr>\n",
       "      <th>73051</th>\n",
       "      <td>2019-11-03 23:56:57</td>\n",
       "      <td>search_1</td>\n",
       "      <td>20850c8f-4135-4059-b13b-198d3ac59902</td>\n",
       "      <td>google</td>\n",
       "    </tr>\n",
       "    <tr>\n",
       "      <th>73052</th>\n",
       "      <td>2019-11-03 23:57:06</td>\n",
       "      <td>tips_show</td>\n",
       "      <td>28fccdf4-7b9e-42f5-bc73-439a265f20e9</td>\n",
       "      <td>google</td>\n",
       "    </tr>\n",
       "    <tr>\n",
       "      <th>73053</th>\n",
       "      <td>2019-11-03 23:58:12</td>\n",
       "      <td>tips_show</td>\n",
       "      <td>28fccdf4-7b9e-42f5-bc73-439a265f20e9</td>\n",
       "      <td>google</td>\n",
       "    </tr>\n",
       "  </tbody>\n",
       "</table>\n",
       "<p>73054 rows × 4 columns</p>\n",
       "</div>"
      ],
      "text/plain": [
       "               event_time   event_name                               user_id  \\\n",
       "0     2019-10-07 00:00:00  advert_open  020292ab-89bc-4156-9acf-68bc2783f894   \n",
       "1     2019-10-07 00:00:01    tips_show  020292ab-89bc-4156-9acf-68bc2783f894   \n",
       "2     2019-10-07 00:00:02    tips_show  cf7eda61-9349-469f-ac27-e5b6f5ec475c   \n",
       "3     2019-10-07 00:00:07    tips_show  020292ab-89bc-4156-9acf-68bc2783f894   \n",
       "4     2019-10-07 00:00:56  advert_open  cf7eda61-9349-469f-ac27-e5b6f5ec475c   \n",
       "...                   ...          ...                                   ...   \n",
       "73049 2019-11-03 23:53:29    tips_show  28fccdf4-7b9e-42f5-bc73-439a265f20e9   \n",
       "73050 2019-11-03 23:54:00    tips_show  28fccdf4-7b9e-42f5-bc73-439a265f20e9   \n",
       "73051 2019-11-03 23:56:57     search_1  20850c8f-4135-4059-b13b-198d3ac59902   \n",
       "73052 2019-11-03 23:57:06    tips_show  28fccdf4-7b9e-42f5-bc73-439a265f20e9   \n",
       "73053 2019-11-03 23:58:12    tips_show  28fccdf4-7b9e-42f5-bc73-439a265f20e9   \n",
       "\n",
       "       source  \n",
       "0       other  \n",
       "1       other  \n",
       "2      yandex  \n",
       "3       other  \n",
       "4      yandex  \n",
       "...       ...  \n",
       "73049  google  \n",
       "73050  google  \n",
       "73051  google  \n",
       "73052  google  \n",
       "73053  google  \n",
       "\n",
       "[73054 rows x 4 columns]"
      ]
     },
     "execution_count": 14,
     "metadata": {},
     "output_type": "execute_result"
    }
   ],
   "source": [
    "df = mob_df.merge(mobile_sourсes, on='user_id', how='left')\n",
    "df"
   ]
  },
  {
   "cell_type": "markdown",
   "id": "4d51aee8",
   "metadata": {},
   "source": [
    "### Изучим полученные данные более детально <a class=\"anchor\" id=\"data_details\"></a>"
   ]
  },
  {
   "cell_type": "code",
   "execution_count": 15,
   "id": "13e456ef",
   "metadata": {},
   "outputs": [
    {
     "data": {
      "text/plain": [
       "yandex    33845\n",
       "google    20158\n",
       "other     19051\n",
       "Name: source, dtype: int64"
      ]
     },
     "execution_count": 15,
     "metadata": {},
     "output_type": "execute_result"
    }
   ],
   "source": [
    "df['source'].value_counts()"
   ]
  },
  {
   "cell_type": "markdown",
   "id": "b2a32d33",
   "metadata": {},
   "source": [
    "В данных всего 3 источника: Яндекс, Гугл и все остальные"
   ]
  },
  {
   "cell_type": "code",
   "execution_count": 16,
   "id": "cf49b3c2",
   "metadata": {},
   "outputs": [
    {
     "name": "stdout",
     "output_type": "stream",
     "text": [
      "Количество уникальных пользователей: 4293\n"
     ]
    }
   ],
   "source": [
    "print('Количество уникальных пользователей:', df['user_id'].nunique())"
   ]
  },
  {
   "cell_type": "code",
   "execution_count": 17,
   "id": "6e526450",
   "metadata": {},
   "outputs": [
    {
     "data": {
      "text/plain": [
       "count                   73054\n",
       "unique                  71291\n",
       "top       2019-10-22 13:00:04\n",
       "freq                        4\n",
       "first     2019-10-07 00:00:00\n",
       "last      2019-11-03 23:58:12\n",
       "Name: event_time, dtype: object"
      ]
     },
     "execution_count": 17,
     "metadata": {},
     "output_type": "execute_result"
    }
   ],
   "source": [
    "df['event_time'].describe()"
   ]
  },
  {
   "cell_type": "code",
   "execution_count": 18,
   "id": "d0b614e6",
   "metadata": {},
   "outputs": [
    {
     "name": "stdout",
     "output_type": "stream",
     "text": [
      "Располагаем данными за: 27 days 23:58:12\n"
     ]
    }
   ],
   "source": [
    "print('Располагаем данными за:', df['event_time'].max() - df['event_time'].min())"
   ]
  },
  {
   "cell_type": "markdown",
   "id": "625a06d7",
   "metadata": {},
   "source": [
    "У нас имеются данные с 07 октября по 03 ноября 2019 года, почти 28 дней"
   ]
  },
  {
   "cell_type": "code",
   "execution_count": 19,
   "id": "ec87bf3b",
   "metadata": {},
   "outputs": [
    {
     "data": {
      "text/plain": [
       "tips_show        39907\n",
       "photos_show       9352\n",
       "advert_open       6146\n",
       "contacts_show     4297\n",
       "map               3749\n",
       "search_1          3488\n",
       "favorites_add     1414\n",
       "search_5          1049\n",
       "tips_click         811\n",
       "search_4           701\n",
       "contacts_call      534\n",
       "search_3           521\n",
       "search_6           460\n",
       "search_2           324\n",
       "search_7           222\n",
       "show_contacts       79\n",
       "Name: event_name, dtype: int64"
      ]
     },
     "execution_count": 19,
     "metadata": {},
     "output_type": "execute_result"
    }
   ],
   "source": [
    "df['event_name'].value_counts()"
   ]
  },
  {
   "cell_type": "markdown",
   "id": "ae0ee1d3",
   "metadata": {},
   "source": [
    "События contacts_show и show_contacts по техническому заданию - это одно и тоже событие, поэтому объединим их"
   ]
  },
  {
   "cell_type": "code",
   "execution_count": 20,
   "id": "d9816e53",
   "metadata": {},
   "outputs": [],
   "source": [
    "df.loc[df['event_name']=='show_contacts', 'event_name'] = 'contacts_show'"
   ]
  },
  {
   "cell_type": "markdown",
   "id": "113de9d9",
   "metadata": {},
   "source": [
    "События search_1 - search_7 судя по заданию, можно также объединить в одно"
   ]
  },
  {
   "cell_type": "code",
   "execution_count": 21,
   "id": "d1fb6b27",
   "metadata": {},
   "outputs": [
    {
     "data": {
      "text/plain": [
       "0"
      ]
     },
     "execution_count": 21,
     "metadata": {},
     "output_type": "execute_result"
    }
   ],
   "source": [
    "df.duplicated().sum()"
   ]
  },
  {
   "cell_type": "code",
   "execution_count": 22,
   "id": "ecc1a3eb",
   "metadata": {},
   "outputs": [],
   "source": [
    "def rename(name):\n",
    "    if 'search_' in name:\n",
    "        return 'search'\n",
    "    else: \n",
    "        return name"
   ]
  },
  {
   "cell_type": "code",
   "execution_count": 23,
   "id": "644f70c4",
   "metadata": {},
   "outputs": [],
   "source": [
    "df['event_name']=df['event_name'].apply(rename)"
   ]
  },
  {
   "cell_type": "code",
   "execution_count": 24,
   "id": "a152ccff",
   "metadata": {},
   "outputs": [
    {
     "data": {
      "text/plain": [
       "tips_show        39907\n",
       "photos_show       9352\n",
       "search            6765\n",
       "advert_open       6146\n",
       "contacts_show     4376\n",
       "map               3749\n",
       "favorites_add     1414\n",
       "tips_click         811\n",
       "contacts_call      534\n",
       "Name: event_name, dtype: int64"
      ]
     },
     "execution_count": 24,
     "metadata": {},
     "output_type": "execute_result"
    }
   ],
   "source": [
    "df['event_name'].value_counts()"
   ]
  },
  {
   "cell_type": "code",
   "execution_count": 25,
   "id": "9585d9c1",
   "metadata": {},
   "outputs": [
    {
     "data": {
      "text/plain": [
       "81"
      ]
     },
     "execution_count": 25,
     "metadata": {},
     "output_type": "execute_result"
    }
   ],
   "source": [
    "df.duplicated().sum()"
   ]
  },
  {
   "cell_type": "markdown",
   "id": "54644a47",
   "metadata": {},
   "source": [
    "После объединения поисков снова появились дубликаты, можно их удалить, так как их очень мало в общей массе"
   ]
  },
  {
   "cell_type": "code",
   "execution_count": 26,
   "id": "ef59f5bf",
   "metadata": {},
   "outputs": [
    {
     "data": {
      "text/html": [
       "<div>\n",
       "<style scoped>\n",
       "    .dataframe tbody tr th:only-of-type {\n",
       "        vertical-align: middle;\n",
       "    }\n",
       "\n",
       "    .dataframe tbody tr th {\n",
       "        vertical-align: top;\n",
       "    }\n",
       "\n",
       "    .dataframe thead th {\n",
       "        text-align: right;\n",
       "    }\n",
       "</style>\n",
       "<table border=\"1\" class=\"dataframe\">\n",
       "  <thead>\n",
       "    <tr style=\"text-align: right;\">\n",
       "      <th></th>\n",
       "      <th>event_time</th>\n",
       "      <th>event_name</th>\n",
       "      <th>user_id</th>\n",
       "      <th>source</th>\n",
       "    </tr>\n",
       "  </thead>\n",
       "  <tbody>\n",
       "    <tr>\n",
       "      <th>0</th>\n",
       "      <td>2019-10-07 00:00:00</td>\n",
       "      <td>advert_open</td>\n",
       "      <td>020292ab-89bc-4156-9acf-68bc2783f894</td>\n",
       "      <td>other</td>\n",
       "    </tr>\n",
       "    <tr>\n",
       "      <th>1</th>\n",
       "      <td>2019-10-07 00:00:01</td>\n",
       "      <td>tips_show</td>\n",
       "      <td>020292ab-89bc-4156-9acf-68bc2783f894</td>\n",
       "      <td>other</td>\n",
       "    </tr>\n",
       "    <tr>\n",
       "      <th>2</th>\n",
       "      <td>2019-10-07 00:00:02</td>\n",
       "      <td>tips_show</td>\n",
       "      <td>cf7eda61-9349-469f-ac27-e5b6f5ec475c</td>\n",
       "      <td>yandex</td>\n",
       "    </tr>\n",
       "    <tr>\n",
       "      <th>3</th>\n",
       "      <td>2019-10-07 00:00:07</td>\n",
       "      <td>tips_show</td>\n",
       "      <td>020292ab-89bc-4156-9acf-68bc2783f894</td>\n",
       "      <td>other</td>\n",
       "    </tr>\n",
       "    <tr>\n",
       "      <th>4</th>\n",
       "      <td>2019-10-07 00:00:56</td>\n",
       "      <td>advert_open</td>\n",
       "      <td>cf7eda61-9349-469f-ac27-e5b6f5ec475c</td>\n",
       "      <td>yandex</td>\n",
       "    </tr>\n",
       "    <tr>\n",
       "      <th>...</th>\n",
       "      <td>...</td>\n",
       "      <td>...</td>\n",
       "      <td>...</td>\n",
       "      <td>...</td>\n",
       "    </tr>\n",
       "    <tr>\n",
       "      <th>73049</th>\n",
       "      <td>2019-11-03 23:53:29</td>\n",
       "      <td>tips_show</td>\n",
       "      <td>28fccdf4-7b9e-42f5-bc73-439a265f20e9</td>\n",
       "      <td>google</td>\n",
       "    </tr>\n",
       "    <tr>\n",
       "      <th>73050</th>\n",
       "      <td>2019-11-03 23:54:00</td>\n",
       "      <td>tips_show</td>\n",
       "      <td>28fccdf4-7b9e-42f5-bc73-439a265f20e9</td>\n",
       "      <td>google</td>\n",
       "    </tr>\n",
       "    <tr>\n",
       "      <th>73051</th>\n",
       "      <td>2019-11-03 23:56:57</td>\n",
       "      <td>search</td>\n",
       "      <td>20850c8f-4135-4059-b13b-198d3ac59902</td>\n",
       "      <td>google</td>\n",
       "    </tr>\n",
       "    <tr>\n",
       "      <th>73052</th>\n",
       "      <td>2019-11-03 23:57:06</td>\n",
       "      <td>tips_show</td>\n",
       "      <td>28fccdf4-7b9e-42f5-bc73-439a265f20e9</td>\n",
       "      <td>google</td>\n",
       "    </tr>\n",
       "    <tr>\n",
       "      <th>73053</th>\n",
       "      <td>2019-11-03 23:58:12</td>\n",
       "      <td>tips_show</td>\n",
       "      <td>28fccdf4-7b9e-42f5-bc73-439a265f20e9</td>\n",
       "      <td>google</td>\n",
       "    </tr>\n",
       "  </tbody>\n",
       "</table>\n",
       "<p>72973 rows × 4 columns</p>\n",
       "</div>"
      ],
      "text/plain": [
       "               event_time   event_name                               user_id  \\\n",
       "0     2019-10-07 00:00:00  advert_open  020292ab-89bc-4156-9acf-68bc2783f894   \n",
       "1     2019-10-07 00:00:01    tips_show  020292ab-89bc-4156-9acf-68bc2783f894   \n",
       "2     2019-10-07 00:00:02    tips_show  cf7eda61-9349-469f-ac27-e5b6f5ec475c   \n",
       "3     2019-10-07 00:00:07    tips_show  020292ab-89bc-4156-9acf-68bc2783f894   \n",
       "4     2019-10-07 00:00:56  advert_open  cf7eda61-9349-469f-ac27-e5b6f5ec475c   \n",
       "...                   ...          ...                                   ...   \n",
       "73049 2019-11-03 23:53:29    tips_show  28fccdf4-7b9e-42f5-bc73-439a265f20e9   \n",
       "73050 2019-11-03 23:54:00    tips_show  28fccdf4-7b9e-42f5-bc73-439a265f20e9   \n",
       "73051 2019-11-03 23:56:57       search  20850c8f-4135-4059-b13b-198d3ac59902   \n",
       "73052 2019-11-03 23:57:06    tips_show  28fccdf4-7b9e-42f5-bc73-439a265f20e9   \n",
       "73053 2019-11-03 23:58:12    tips_show  28fccdf4-7b9e-42f5-bc73-439a265f20e9   \n",
       "\n",
       "       source  \n",
       "0       other  \n",
       "1       other  \n",
       "2      yandex  \n",
       "3       other  \n",
       "4      yandex  \n",
       "...       ...  \n",
       "73049  google  \n",
       "73050  google  \n",
       "73051  google  \n",
       "73052  google  \n",
       "73053  google  \n",
       "\n",
       "[72973 rows x 4 columns]"
      ]
     },
     "execution_count": 26,
     "metadata": {},
     "output_type": "execute_result"
    }
   ],
   "source": [
    "df = df.drop_duplicates()\n",
    "df"
   ]
  },
  {
   "cell_type": "code",
   "execution_count": 27,
   "id": "58f77fd9",
   "metadata": {},
   "outputs": [
    {
     "data": {
      "text/plain": [
       "0"
      ]
     },
     "execution_count": 27,
     "metadata": {},
     "output_type": "execute_result"
    }
   ],
   "source": [
    "df.duplicated().sum()"
   ]
  },
  {
   "cell_type": "markdown",
   "id": "70625af7",
   "metadata": {},
   "source": [
    "Добавим отдельный столбец только с датой события"
   ]
  },
  {
   "cell_type": "code",
   "execution_count": 28,
   "id": "32393218",
   "metadata": {},
   "outputs": [
    {
     "data": {
      "text/html": [
       "<div>\n",
       "<style scoped>\n",
       "    .dataframe tbody tr th:only-of-type {\n",
       "        vertical-align: middle;\n",
       "    }\n",
       "\n",
       "    .dataframe tbody tr th {\n",
       "        vertical-align: top;\n",
       "    }\n",
       "\n",
       "    .dataframe thead th {\n",
       "        text-align: right;\n",
       "    }\n",
       "</style>\n",
       "<table border=\"1\" class=\"dataframe\">\n",
       "  <thead>\n",
       "    <tr style=\"text-align: right;\">\n",
       "      <th></th>\n",
       "      <th>event_time</th>\n",
       "      <th>event_name</th>\n",
       "      <th>user_id</th>\n",
       "      <th>source</th>\n",
       "      <th>event_date</th>\n",
       "    </tr>\n",
       "  </thead>\n",
       "  <tbody>\n",
       "    <tr>\n",
       "      <th>0</th>\n",
       "      <td>2019-10-07 00:00:00</td>\n",
       "      <td>advert_open</td>\n",
       "      <td>020292ab-89bc-4156-9acf-68bc2783f894</td>\n",
       "      <td>other</td>\n",
       "      <td>2019-10-07</td>\n",
       "    </tr>\n",
       "    <tr>\n",
       "      <th>1</th>\n",
       "      <td>2019-10-07 00:00:01</td>\n",
       "      <td>tips_show</td>\n",
       "      <td>020292ab-89bc-4156-9acf-68bc2783f894</td>\n",
       "      <td>other</td>\n",
       "      <td>2019-10-07</td>\n",
       "    </tr>\n",
       "    <tr>\n",
       "      <th>2</th>\n",
       "      <td>2019-10-07 00:00:02</td>\n",
       "      <td>tips_show</td>\n",
       "      <td>cf7eda61-9349-469f-ac27-e5b6f5ec475c</td>\n",
       "      <td>yandex</td>\n",
       "      <td>2019-10-07</td>\n",
       "    </tr>\n",
       "    <tr>\n",
       "      <th>3</th>\n",
       "      <td>2019-10-07 00:00:07</td>\n",
       "      <td>tips_show</td>\n",
       "      <td>020292ab-89bc-4156-9acf-68bc2783f894</td>\n",
       "      <td>other</td>\n",
       "      <td>2019-10-07</td>\n",
       "    </tr>\n",
       "    <tr>\n",
       "      <th>4</th>\n",
       "      <td>2019-10-07 00:00:56</td>\n",
       "      <td>advert_open</td>\n",
       "      <td>cf7eda61-9349-469f-ac27-e5b6f5ec475c</td>\n",
       "      <td>yandex</td>\n",
       "      <td>2019-10-07</td>\n",
       "    </tr>\n",
       "    <tr>\n",
       "      <th>...</th>\n",
       "      <td>...</td>\n",
       "      <td>...</td>\n",
       "      <td>...</td>\n",
       "      <td>...</td>\n",
       "      <td>...</td>\n",
       "    </tr>\n",
       "    <tr>\n",
       "      <th>73049</th>\n",
       "      <td>2019-11-03 23:53:29</td>\n",
       "      <td>tips_show</td>\n",
       "      <td>28fccdf4-7b9e-42f5-bc73-439a265f20e9</td>\n",
       "      <td>google</td>\n",
       "      <td>2019-11-03</td>\n",
       "    </tr>\n",
       "    <tr>\n",
       "      <th>73050</th>\n",
       "      <td>2019-11-03 23:54:00</td>\n",
       "      <td>tips_show</td>\n",
       "      <td>28fccdf4-7b9e-42f5-bc73-439a265f20e9</td>\n",
       "      <td>google</td>\n",
       "      <td>2019-11-03</td>\n",
       "    </tr>\n",
       "    <tr>\n",
       "      <th>73051</th>\n",
       "      <td>2019-11-03 23:56:57</td>\n",
       "      <td>search</td>\n",
       "      <td>20850c8f-4135-4059-b13b-198d3ac59902</td>\n",
       "      <td>google</td>\n",
       "      <td>2019-11-03</td>\n",
       "    </tr>\n",
       "    <tr>\n",
       "      <th>73052</th>\n",
       "      <td>2019-11-03 23:57:06</td>\n",
       "      <td>tips_show</td>\n",
       "      <td>28fccdf4-7b9e-42f5-bc73-439a265f20e9</td>\n",
       "      <td>google</td>\n",
       "      <td>2019-11-03</td>\n",
       "    </tr>\n",
       "    <tr>\n",
       "      <th>73053</th>\n",
       "      <td>2019-11-03 23:58:12</td>\n",
       "      <td>tips_show</td>\n",
       "      <td>28fccdf4-7b9e-42f5-bc73-439a265f20e9</td>\n",
       "      <td>google</td>\n",
       "      <td>2019-11-03</td>\n",
       "    </tr>\n",
       "  </tbody>\n",
       "</table>\n",
       "<p>72973 rows × 5 columns</p>\n",
       "</div>"
      ],
      "text/plain": [
       "               event_time   event_name                               user_id  \\\n",
       "0     2019-10-07 00:00:00  advert_open  020292ab-89bc-4156-9acf-68bc2783f894   \n",
       "1     2019-10-07 00:00:01    tips_show  020292ab-89bc-4156-9acf-68bc2783f894   \n",
       "2     2019-10-07 00:00:02    tips_show  cf7eda61-9349-469f-ac27-e5b6f5ec475c   \n",
       "3     2019-10-07 00:00:07    tips_show  020292ab-89bc-4156-9acf-68bc2783f894   \n",
       "4     2019-10-07 00:00:56  advert_open  cf7eda61-9349-469f-ac27-e5b6f5ec475c   \n",
       "...                   ...          ...                                   ...   \n",
       "73049 2019-11-03 23:53:29    tips_show  28fccdf4-7b9e-42f5-bc73-439a265f20e9   \n",
       "73050 2019-11-03 23:54:00    tips_show  28fccdf4-7b9e-42f5-bc73-439a265f20e9   \n",
       "73051 2019-11-03 23:56:57       search  20850c8f-4135-4059-b13b-198d3ac59902   \n",
       "73052 2019-11-03 23:57:06    tips_show  28fccdf4-7b9e-42f5-bc73-439a265f20e9   \n",
       "73053 2019-11-03 23:58:12    tips_show  28fccdf4-7b9e-42f5-bc73-439a265f20e9   \n",
       "\n",
       "       source event_date  \n",
       "0       other 2019-10-07  \n",
       "1       other 2019-10-07  \n",
       "2      yandex 2019-10-07  \n",
       "3       other 2019-10-07  \n",
       "4      yandex 2019-10-07  \n",
       "...       ...        ...  \n",
       "73049  google 2019-11-03  \n",
       "73050  google 2019-11-03  \n",
       "73051  google 2019-11-03  \n",
       "73052  google 2019-11-03  \n",
       "73053  google 2019-11-03  \n",
       "\n",
       "[72973 rows x 5 columns]"
      ]
     },
     "execution_count": 28,
     "metadata": {},
     "output_type": "execute_result"
    }
   ],
   "source": [
    "df['event_date'] = df['event_time'].astype('datetime64[D]')\n",
    "df"
   ]
  },
  {
   "cell_type": "code",
   "execution_count": 29,
   "id": "98329177",
   "metadata": {},
   "outputs": [],
   "source": [
    "df['event_date_graph'] = df['event_time'].dt.date"
   ]
  },
  {
   "cell_type": "code",
   "execution_count": 30,
   "id": "4dc0312a",
   "metadata": {},
   "outputs": [
    {
     "data": {
      "image/png": "[encoded data removed]",
      "text/plain": [
       "<Figure size 1008x504 with 1 Axes>"
      ]
     },
     "metadata": {},
     "output_type": "display_data"
    }
   ],
   "source": [
    "events_by_days = df.groupby('event_date_graph')[['event_name']].count().reset_index()\n",
    "\n",
    "plt.figure(figsize = (14,7))\n",
    "sns.barplot(\n",
    "    x='event_date_graph', \n",
    "    y='event_name', \n",
    "    data=events_by_days, \n",
    "    palette = sns.color_palette('magma')\n",
    ")\n",
    "plt.xticks(rotation=45)\n",
    "plt.xlabel('Дата')\n",
    "plt.ylabel('Всего событий')\n",
    "plt.title('Распределение событий по дням')\n",
    "plt.show()"
   ]
  },
  {
   "cell_type": "markdown",
   "id": "26ee49b0",
   "metadata": {},
   "source": [
    "События распределены по дням более менее равномерно, можно работать с данными"
   ]
  },
  {
   "cell_type": "markdown",
   "id": "96179291",
   "metadata": {},
   "source": [
    "### Промежуточный вывод <a class=\"anchor\" id=\"opinion1\"></a>\n",
    "\n",
    "Проверили на корректность наименований, на типы данных, на дубликаты и пропуски - привели их в соответствие.\n",
    "\n",
    "У нас имеются данные с 07 октября по 03 ноября 2019 года, почти 28 дней.\n",
    "\n",
    "4293 уникальных пользователей.\n",
    "\n",
    "События среди пользователей распределены равномерно по дням исследования."
   ]
  },
  {
   "cell_type": "markdown",
   "id": "96bc8498",
   "metadata": {},
   "source": [
    "## Исследовательский анализ данных <a class=\"anchor\" id=\"eda\"></a>"
   ]
  },
  {
   "cell_type": "markdown",
   "id": "be6c379c",
   "metadata": {},
   "source": [
    "### Retention rate <a class=\"anchor\" id=\"rr\"></a>"
   ]
  },
  {
   "cell_type": "markdown",
   "id": "948f5e10",
   "metadata": {},
   "source": [
    "*Необходимо разделить пользователей по когортам, для этого определим, когда пользователь впервые совершил событие*"
   ]
  },
  {
   "cell_type": "code",
   "execution_count": 31,
   "id": "541300f0",
   "metadata": {},
   "outputs": [],
   "source": [
    "first_date = df.groupby(['user_id'])['event_date'].min()\n",
    "first_date.name = 'start_dt'\n",
    "\n",
    "df_active = df.join(first_date,on='user_id')"
   ]
  },
  {
   "cell_type": "code",
   "execution_count": 32,
   "id": "f13aff2d",
   "metadata": {},
   "outputs": [
    {
     "data": {
      "text/html": [
       "<div>\n",
       "<style scoped>\n",
       "    .dataframe tbody tr th:only-of-type {\n",
       "        vertical-align: middle;\n",
       "    }\n",
       "\n",
       "    .dataframe tbody tr th {\n",
       "        vertical-align: top;\n",
       "    }\n",
       "\n",
       "    .dataframe thead th {\n",
       "        text-align: right;\n",
       "    }\n",
       "</style>\n",
       "<table border=\"1\" class=\"dataframe\">\n",
       "  <thead>\n",
       "    <tr style=\"text-align: right;\">\n",
       "      <th></th>\n",
       "      <th>event_time</th>\n",
       "      <th>event_name</th>\n",
       "      <th>user_id</th>\n",
       "      <th>source</th>\n",
       "      <th>event_date</th>\n",
       "      <th>event_date_graph</th>\n",
       "      <th>start_dt</th>\n",
       "    </tr>\n",
       "  </thead>\n",
       "  <tbody>\n",
       "    <tr>\n",
       "      <th>39875</th>\n",
       "      <td>2019-10-23 12:07:35</td>\n",
       "      <td>photos_show</td>\n",
       "      <td>436f9097-0be9-46dc-ab8d-e25e2540d61e</td>\n",
       "      <td>yandex</td>\n",
       "      <td>2019-10-23</td>\n",
       "      <td>2019-10-23</td>\n",
       "      <td>2019-10-23</td>\n",
       "    </tr>\n",
       "    <tr>\n",
       "      <th>46284</th>\n",
       "      <td>2019-10-25 13:06:39</td>\n",
       "      <td>tips_show</td>\n",
       "      <td>e0e93278-71b3-4f68-951f-ded06fdc237f</td>\n",
       "      <td>yandex</td>\n",
       "      <td>2019-10-25</td>\n",
       "      <td>2019-10-25</td>\n",
       "      <td>2019-10-14</td>\n",
       "    </tr>\n",
       "    <tr>\n",
       "      <th>68346</th>\n",
       "      <td>2019-11-01 22:55:09</td>\n",
       "      <td>tips_show</td>\n",
       "      <td>68d999c5-9101-4715-b307-fc7cd53947b2</td>\n",
       "      <td>other</td>\n",
       "      <td>2019-11-01</td>\n",
       "      <td>2019-11-01</td>\n",
       "      <td>2019-10-26</td>\n",
       "    </tr>\n",
       "    <tr>\n",
       "      <th>67763</th>\n",
       "      <td>2019-11-01 19:34:32</td>\n",
       "      <td>advert_open</td>\n",
       "      <td>da2f205b-a241-44a0-98e8-39009c400b3c</td>\n",
       "      <td>google</td>\n",
       "      <td>2019-11-01</td>\n",
       "      <td>2019-11-01</td>\n",
       "      <td>2019-10-30</td>\n",
       "    </tr>\n",
       "    <tr>\n",
       "      <th>46991</th>\n",
       "      <td>2019-10-25 17:14:56</td>\n",
       "      <td>tips_show</td>\n",
       "      <td>82ee44d2-149b-407d-83af-83503d103631</td>\n",
       "      <td>google</td>\n",
       "      <td>2019-10-25</td>\n",
       "      <td>2019-10-25</td>\n",
       "      <td>2019-10-21</td>\n",
       "    </tr>\n",
       "  </tbody>\n",
       "</table>\n",
       "</div>"
      ],
      "text/plain": [
       "               event_time   event_name                               user_id  \\\n",
       "39875 2019-10-23 12:07:35  photos_show  436f9097-0be9-46dc-ab8d-e25e2540d61e   \n",
       "46284 2019-10-25 13:06:39    tips_show  e0e93278-71b3-4f68-951f-ded06fdc237f   \n",
       "68346 2019-11-01 22:55:09    tips_show  68d999c5-9101-4715-b307-fc7cd53947b2   \n",
       "67763 2019-11-01 19:34:32  advert_open  da2f205b-a241-44a0-98e8-39009c400b3c   \n",
       "46991 2019-10-25 17:14:56    tips_show  82ee44d2-149b-407d-83af-83503d103631   \n",
       "\n",
       "       source event_date event_date_graph   start_dt  \n",
       "39875  yandex 2019-10-23       2019-10-23 2019-10-23  \n",
       "46284  yandex 2019-10-25       2019-10-25 2019-10-14  \n",
       "68346   other 2019-11-01       2019-11-01 2019-10-26  \n",
       "67763  google 2019-11-01       2019-11-01 2019-10-30  \n",
       "46991  google 2019-10-25       2019-10-25 2019-10-21  "
      ]
     },
     "execution_count": 32,
     "metadata": {},
     "output_type": "execute_result"
    }
   ],
   "source": [
    "df_active.sample(5)"
   ]
  },
  {
   "cell_type": "code",
   "execution_count": 33,
   "id": "0e96904f",
   "metadata": {},
   "outputs": [
    {
     "name": "stdout",
     "output_type": "stream",
     "text": [
      "<class 'pandas.core.frame.DataFrame'>\n",
      "Int64Index: 72973 entries, 0 to 73053\n",
      "Data columns (total 7 columns):\n",
      " #   Column            Non-Null Count  Dtype         \n",
      "---  ------            --------------  -----         \n",
      " 0   event_time        72973 non-null  datetime64[ns]\n",
      " 1   event_name        72973 non-null  object        \n",
      " 2   user_id           72973 non-null  object        \n",
      " 3   source            72973 non-null  object        \n",
      " 4   event_date        72973 non-null  datetime64[ns]\n",
      " 5   event_date_graph  72973 non-null  object        \n",
      " 6   start_dt          72973 non-null  datetime64[ns]\n",
      "dtypes: datetime64[ns](3), object(4)\n",
      "memory usage: 4.5+ MB\n"
     ]
    }
   ],
   "source": [
    "df_active.info()"
   ]
  },
  {
   "cell_type": "markdown",
   "id": "a266a289",
   "metadata": {},
   "source": [
    "Найдем когорту, получим день начала недели, за которую произошло событие"
   ]
  },
  {
   "cell_type": "code",
   "execution_count": 34,
   "id": "38e04021",
   "metadata": {},
   "outputs": [],
   "source": [
    "df_active['active_week'] = pd.to_datetime(df_active['event_date'],\n",
    "                                                unit='d') - pd.to_timedelta(df_active['event_date'].dt.dayofweek, unit='d')\n",
    "df_active['start_week'] = pd.to_datetime(df_active['start_dt'],\n",
    "                                                      unit='d') - pd.to_timedelta(df_active['start_dt'].dt.dayofweek, unit='d')"
   ]
  },
  {
   "cell_type": "markdown",
   "id": "1cb71307",
   "metadata": {},
   "source": [
    "Теперь можно определить lifetime пользователя"
   ]
  },
  {
   "cell_type": "code",
   "execution_count": 35,
   "id": "4d3c47fa",
   "metadata": {},
   "outputs": [],
   "source": [
    "df_active['cohort_lifetime'] = df_active['active_week'] - df_active['start_week']\n",
    "df_active['cohort_lifetime'] = df_active['cohort_lifetime'] / np.timedelta64(1,'W')\n",
    "df_active['cohort_lifetime'] = df_active['cohort_lifetime'].astype(int)"
   ]
  },
  {
   "cell_type": "markdown",
   "id": "09a761c1",
   "metadata": {},
   "source": [
    "Группировка по когорте и lifetime "
   ]
  },
  {
   "cell_type": "code",
   "execution_count": 36,
   "id": "282a0352",
   "metadata": {},
   "outputs": [],
   "source": [
    "cohorts = df_active.groupby(['start_week','cohort_lifetime']).agg({'user_id':'nunique'}).reset_index()"
   ]
  },
  {
   "cell_type": "markdown",
   "id": "c1cf62cf",
   "metadata": {},
   "source": [
    "Определим число пользователей в когорте за нулевую неделю"
   ]
  },
  {
   "cell_type": "code",
   "execution_count": 37,
   "id": "60b562a5",
   "metadata": {},
   "outputs": [],
   "source": [
    "users_count = cohorts[cohorts['cohort_lifetime'] == 0][['start_week','user_id']]"
   ]
  },
  {
   "cell_type": "code",
   "execution_count": 38,
   "id": "7d1c1ba0",
   "metadata": {},
   "outputs": [],
   "source": [
    "users_count = users_count.rename(columns={'user_id':'cohort_users'})\n",
    "cohorts = cohorts.merge(users_count, on='start_week')"
   ]
  },
  {
   "cell_type": "markdown",
   "id": "70314cee",
   "metadata": {},
   "source": [
    "Рассчитаем Retention Rate"
   ]
  },
  {
   "cell_type": "code",
   "execution_count": 39,
   "id": "8b94e157",
   "metadata": {},
   "outputs": [],
   "source": [
    "cohorts['retention'] = cohorts['user_id']/cohorts['cohort_users']"
   ]
  },
  {
   "cell_type": "code",
   "execution_count": 40,
   "id": "bdb529cf",
   "metadata": {},
   "outputs": [],
   "source": [
    "cohorts['start_week'] = cohorts['start_week'].dt.date"
   ]
  },
  {
   "cell_type": "code",
   "execution_count": 41,
   "id": "12127264",
   "metadata": {},
   "outputs": [],
   "source": [
    "retention_pivot = cohorts.pivot_table(index='start_week',columns='cohort_lifetime',values='retention',aggfunc='sum')"
   ]
  },
  {
   "cell_type": "code",
   "execution_count": 42,
   "id": "cfd3803b",
   "metadata": {},
   "outputs": [
    {
     "data": {
      "image/png": "[encoded data removed]",
      "text/plain": [
       "<Figure size 1008x504 with 2 Axes>"
      ]
     },
     "metadata": {},
     "output_type": "display_data"
    }
   ],
   "source": [
    "plt.figure(figsize=(14, 7))\n",
    "plt.title('Retention rate по когортам')\n",
    "sns.heatmap(retention_pivot, annot=True, fmt='.1%', linewidths=0.2, linecolor='black', cmap=\"crest\");"
   ]
  },
  {
   "cell_type": "markdown",
   "id": "61b6023a",
   "metadata": {},
   "source": [
    "Мы видим, как коэффициент удержания в первую неделю убывает по когортам. С 7 октября по 13 октября Retention Rate в первую неделю составляет 24,1%, с 21 по 27 октября — уже 21,8%. Поведение покупателей меняется с каждой неделей, но из-за недостаточного промежутка времени в исследовании, возможна погрешность и выводы поверхностны"
   ]
  },
  {
   "cell_type": "markdown",
   "id": "431f1681",
   "metadata": {},
   "source": [
    "### Время, проведённое в приложении <a class=\"anchor\" id=\"timeapp\"></a>"
   ]
  },
  {
   "cell_type": "markdown",
   "id": "b04e4279",
   "metadata": {},
   "source": [
    "Необходимо выделить сессии для каждого пользователя, примем 40 минут за одну сессию"
   ]
  },
  {
   "cell_type": "code",
   "execution_count": 43,
   "id": "a4cfdc04",
   "metadata": {},
   "outputs": [],
   "source": [
    "df = df.sort_values(['user_id', 'event_time'])"
   ]
  },
  {
   "cell_type": "code",
   "execution_count": 44,
   "id": "fba27918",
   "metadata": {},
   "outputs": [],
   "source": [
    "session = ((df.groupby('user_id')['event_time'].diff() > pd.Timedelta('40Min')).cumsum())"
   ]
  },
  {
   "cell_type": "code",
   "execution_count": 45,
   "id": "a963e253",
   "metadata": {},
   "outputs": [
    {
     "data": {
      "text/html": [
       "<div>\n",
       "<style scoped>\n",
       "    .dataframe tbody tr th:only-of-type {\n",
       "        vertical-align: middle;\n",
       "    }\n",
       "\n",
       "    .dataframe tbody tr th {\n",
       "        vertical-align: top;\n",
       "    }\n",
       "\n",
       "    .dataframe thead th {\n",
       "        text-align: right;\n",
       "    }\n",
       "</style>\n",
       "<table border=\"1\" class=\"dataframe\">\n",
       "  <thead>\n",
       "    <tr style=\"text-align: right;\">\n",
       "      <th></th>\n",
       "      <th>event_time</th>\n",
       "      <th>event_name</th>\n",
       "      <th>user_id</th>\n",
       "      <th>source</th>\n",
       "      <th>event_date</th>\n",
       "      <th>event_date_graph</th>\n",
       "      <th>session_id</th>\n",
       "    </tr>\n",
       "  </thead>\n",
       "  <tbody>\n",
       "    <tr>\n",
       "      <th>792</th>\n",
       "      <td>2019-10-07 13:39:45</td>\n",
       "      <td>tips_show</td>\n",
       "      <td>0001b1d5-b74a-4cbf-aeb0-7df5947bf349</td>\n",
       "      <td>other</td>\n",
       "      <td>2019-10-07</td>\n",
       "      <td>2019-10-07</td>\n",
       "      <td>1</td>\n",
       "    </tr>\n",
       "    <tr>\n",
       "      <th>793</th>\n",
       "      <td>2019-10-07 13:40:31</td>\n",
       "      <td>tips_show</td>\n",
       "      <td>0001b1d5-b74a-4cbf-aeb0-7df5947bf349</td>\n",
       "      <td>other</td>\n",
       "      <td>2019-10-07</td>\n",
       "      <td>2019-10-07</td>\n",
       "      <td>1</td>\n",
       "    </tr>\n",
       "    <tr>\n",
       "      <th>796</th>\n",
       "      <td>2019-10-07 13:41:05</td>\n",
       "      <td>tips_show</td>\n",
       "      <td>0001b1d5-b74a-4cbf-aeb0-7df5947bf349</td>\n",
       "      <td>other</td>\n",
       "      <td>2019-10-07</td>\n",
       "      <td>2019-10-07</td>\n",
       "      <td>1</td>\n",
       "    </tr>\n",
       "    <tr>\n",
       "      <th>807</th>\n",
       "      <td>2019-10-07 13:43:20</td>\n",
       "      <td>tips_show</td>\n",
       "      <td>0001b1d5-b74a-4cbf-aeb0-7df5947bf349</td>\n",
       "      <td>other</td>\n",
       "      <td>2019-10-07</td>\n",
       "      <td>2019-10-07</td>\n",
       "      <td>1</td>\n",
       "    </tr>\n",
       "    <tr>\n",
       "      <th>816</th>\n",
       "      <td>2019-10-07 13:45:30</td>\n",
       "      <td>tips_show</td>\n",
       "      <td>0001b1d5-b74a-4cbf-aeb0-7df5947bf349</td>\n",
       "      <td>other</td>\n",
       "      <td>2019-10-07</td>\n",
       "      <td>2019-10-07</td>\n",
       "      <td>1</td>\n",
       "    </tr>\n",
       "    <tr>\n",
       "      <th>817</th>\n",
       "      <td>2019-10-07 13:45:43</td>\n",
       "      <td>tips_show</td>\n",
       "      <td>0001b1d5-b74a-4cbf-aeb0-7df5947bf349</td>\n",
       "      <td>other</td>\n",
       "      <td>2019-10-07</td>\n",
       "      <td>2019-10-07</td>\n",
       "      <td>1</td>\n",
       "    </tr>\n",
       "    <tr>\n",
       "      <th>818</th>\n",
       "      <td>2019-10-07 13:46:31</td>\n",
       "      <td>tips_show</td>\n",
       "      <td>0001b1d5-b74a-4cbf-aeb0-7df5947bf349</td>\n",
       "      <td>other</td>\n",
       "      <td>2019-10-07</td>\n",
       "      <td>2019-10-07</td>\n",
       "      <td>1</td>\n",
       "    </tr>\n",
       "    <tr>\n",
       "      <th>822</th>\n",
       "      <td>2019-10-07 13:47:32</td>\n",
       "      <td>tips_show</td>\n",
       "      <td>0001b1d5-b74a-4cbf-aeb0-7df5947bf349</td>\n",
       "      <td>other</td>\n",
       "      <td>2019-10-07</td>\n",
       "      <td>2019-10-07</td>\n",
       "      <td>1</td>\n",
       "    </tr>\n",
       "    <tr>\n",
       "      <th>825</th>\n",
       "      <td>2019-10-07 13:49:41</td>\n",
       "      <td>tips_show</td>\n",
       "      <td>0001b1d5-b74a-4cbf-aeb0-7df5947bf349</td>\n",
       "      <td>other</td>\n",
       "      <td>2019-10-07</td>\n",
       "      <td>2019-10-07</td>\n",
       "      <td>1</td>\n",
       "    </tr>\n",
       "    <tr>\n",
       "      <th>6464</th>\n",
       "      <td>2019-10-09 18:33:55</td>\n",
       "      <td>map</td>\n",
       "      <td>0001b1d5-b74a-4cbf-aeb0-7df5947bf349</td>\n",
       "      <td>other</td>\n",
       "      <td>2019-10-09</td>\n",
       "      <td>2019-10-09</td>\n",
       "      <td>2</td>\n",
       "    </tr>\n",
       "    <tr>\n",
       "      <th>6469</th>\n",
       "      <td>2019-10-09 18:35:28</td>\n",
       "      <td>map</td>\n",
       "      <td>0001b1d5-b74a-4cbf-aeb0-7df5947bf349</td>\n",
       "      <td>other</td>\n",
       "      <td>2019-10-09</td>\n",
       "      <td>2019-10-09</td>\n",
       "      <td>2</td>\n",
       "    </tr>\n",
       "    <tr>\n",
       "      <th>6488</th>\n",
       "      <td>2019-10-09 18:40:28</td>\n",
       "      <td>tips_show</td>\n",
       "      <td>0001b1d5-b74a-4cbf-aeb0-7df5947bf349</td>\n",
       "      <td>other</td>\n",
       "      <td>2019-10-09</td>\n",
       "      <td>2019-10-09</td>\n",
       "      <td>2</td>\n",
       "    </tr>\n",
       "    <tr>\n",
       "      <th>6489</th>\n",
       "      <td>2019-10-09 18:42:22</td>\n",
       "      <td>tips_show</td>\n",
       "      <td>0001b1d5-b74a-4cbf-aeb0-7df5947bf349</td>\n",
       "      <td>other</td>\n",
       "      <td>2019-10-09</td>\n",
       "      <td>2019-10-09</td>\n",
       "      <td>2</td>\n",
       "    </tr>\n",
       "    <tr>\n",
       "      <th>35867</th>\n",
       "      <td>2019-10-21 19:52:30</td>\n",
       "      <td>tips_show</td>\n",
       "      <td>0001b1d5-b74a-4cbf-aeb0-7df5947bf349</td>\n",
       "      <td>other</td>\n",
       "      <td>2019-10-21</td>\n",
       "      <td>2019-10-21</td>\n",
       "      <td>3</td>\n",
       "    </tr>\n",
       "    <tr>\n",
       "      <th>35871</th>\n",
       "      <td>2019-10-21 19:53:17</td>\n",
       "      <td>tips_show</td>\n",
       "      <td>0001b1d5-b74a-4cbf-aeb0-7df5947bf349</td>\n",
       "      <td>other</td>\n",
       "      <td>2019-10-21</td>\n",
       "      <td>2019-10-21</td>\n",
       "      <td>3</td>\n",
       "    </tr>\n",
       "  </tbody>\n",
       "</table>\n",
       "</div>"
      ],
      "text/plain": [
       "               event_time event_name                               user_id  \\\n",
       "792   2019-10-07 13:39:45  tips_show  0001b1d5-b74a-4cbf-aeb0-7df5947bf349   \n",
       "793   2019-10-07 13:40:31  tips_show  0001b1d5-b74a-4cbf-aeb0-7df5947bf349   \n",
       "796   2019-10-07 13:41:05  tips_show  0001b1d5-b74a-4cbf-aeb0-7df5947bf349   \n",
       "807   2019-10-07 13:43:20  tips_show  0001b1d5-b74a-4cbf-aeb0-7df5947bf349   \n",
       "816   2019-10-07 13:45:30  tips_show  0001b1d5-b74a-4cbf-aeb0-7df5947bf349   \n",
       "817   2019-10-07 13:45:43  tips_show  0001b1d5-b74a-4cbf-aeb0-7df5947bf349   \n",
       "818   2019-10-07 13:46:31  tips_show  0001b1d5-b74a-4cbf-aeb0-7df5947bf349   \n",
       "822   2019-10-07 13:47:32  tips_show  0001b1d5-b74a-4cbf-aeb0-7df5947bf349   \n",
       "825   2019-10-07 13:49:41  tips_show  0001b1d5-b74a-4cbf-aeb0-7df5947bf349   \n",
       "6464  2019-10-09 18:33:55        map  0001b1d5-b74a-4cbf-aeb0-7df5947bf349   \n",
       "6469  2019-10-09 18:35:28        map  0001b1d5-b74a-4cbf-aeb0-7df5947bf349   \n",
       "6488  2019-10-09 18:40:28  tips_show  0001b1d5-b74a-4cbf-aeb0-7df5947bf349   \n",
       "6489  2019-10-09 18:42:22  tips_show  0001b1d5-b74a-4cbf-aeb0-7df5947bf349   \n",
       "35867 2019-10-21 19:52:30  tips_show  0001b1d5-b74a-4cbf-aeb0-7df5947bf349   \n",
       "35871 2019-10-21 19:53:17  tips_show  0001b1d5-b74a-4cbf-aeb0-7df5947bf349   \n",
       "\n",
       "      source event_date event_date_graph  session_id  \n",
       "792    other 2019-10-07       2019-10-07           1  \n",
       "793    other 2019-10-07       2019-10-07           1  \n",
       "796    other 2019-10-07       2019-10-07           1  \n",
       "807    other 2019-10-07       2019-10-07           1  \n",
       "816    other 2019-10-07       2019-10-07           1  \n",
       "817    other 2019-10-07       2019-10-07           1  \n",
       "818    other 2019-10-07       2019-10-07           1  \n",
       "822    other 2019-10-07       2019-10-07           1  \n",
       "825    other 2019-10-07       2019-10-07           1  \n",
       "6464   other 2019-10-09       2019-10-09           2  \n",
       "6469   other 2019-10-09       2019-10-09           2  \n",
       "6488   other 2019-10-09       2019-10-09           2  \n",
       "6489   other 2019-10-09       2019-10-09           2  \n",
       "35867  other 2019-10-21       2019-10-21           3  \n",
       "35871  other 2019-10-21       2019-10-21           3  "
      ]
     },
     "execution_count": 45,
     "metadata": {},
     "output_type": "execute_result"
    }
   ],
   "source": [
    "df['session_id'] = df.groupby(['user_id', session], sort=False).ngroup() + 1\n",
    "df.head(15)"
   ]
  },
  {
   "cell_type": "markdown",
   "id": "a318cdd8",
   "metadata": {},
   "source": [
    "Длительность сессий"
   ]
  },
  {
   "cell_type": "code",
   "execution_count": 46,
   "id": "e1315976",
   "metadata": {},
   "outputs": [
    {
     "data": {
      "text/html": [
       "<div>\n",
       "<style scoped>\n",
       "    .dataframe tbody tr th:only-of-type {\n",
       "        vertical-align: middle;\n",
       "    }\n",
       "\n",
       "    .dataframe tbody tr th {\n",
       "        vertical-align: top;\n",
       "    }\n",
       "\n",
       "    .dataframe thead th {\n",
       "        text-align: right;\n",
       "    }\n",
       "</style>\n",
       "<table border=\"1\" class=\"dataframe\">\n",
       "  <thead>\n",
       "    <tr style=\"text-align: right;\">\n",
       "      <th></th>\n",
       "      <th>user_id</th>\n",
       "      <th>session_id</th>\n",
       "      <th>event_time</th>\n",
       "    </tr>\n",
       "  </thead>\n",
       "  <tbody>\n",
       "    <tr>\n",
       "      <th>0</th>\n",
       "      <td>0001b1d5-b74a-4cbf-aeb0-7df5947bf349</td>\n",
       "      <td>1</td>\n",
       "      <td>0 days 00:09:56</td>\n",
       "    </tr>\n",
       "    <tr>\n",
       "      <th>1</th>\n",
       "      <td>0001b1d5-b74a-4cbf-aeb0-7df5947bf349</td>\n",
       "      <td>2</td>\n",
       "      <td>0 days 00:08:27</td>\n",
       "    </tr>\n",
       "    <tr>\n",
       "      <th>2</th>\n",
       "      <td>0001b1d5-b74a-4cbf-aeb0-7df5947bf349</td>\n",
       "      <td>3</td>\n",
       "      <td>0 days 00:15:00</td>\n",
       "    </tr>\n",
       "    <tr>\n",
       "      <th>3</th>\n",
       "      <td>0001b1d5-b74a-4cbf-aeb0-7df5947bf349</td>\n",
       "      <td>4</td>\n",
       "      <td>0 days 00:12:38</td>\n",
       "    </tr>\n",
       "    <tr>\n",
       "      <th>4</th>\n",
       "      <td>00157779-810c-4498-9e05-a1e9e3cedf93</td>\n",
       "      <td>5</td>\n",
       "      <td>0 days 00:25:21</td>\n",
       "    </tr>\n",
       "    <tr>\n",
       "      <th>...</th>\n",
       "      <td>...</td>\n",
       "      <td>...</td>\n",
       "      <td>...</td>\n",
       "    </tr>\n",
       "    <tr>\n",
       "      <th>10024</th>\n",
       "      <td>fffb9e79-b927-4dbb-9b48-7fd09b23a62b</td>\n",
       "      <td>10025</td>\n",
       "      <td>0 days 00:00:00</td>\n",
       "    </tr>\n",
       "    <tr>\n",
       "      <th>10025</th>\n",
       "      <td>fffb9e79-b927-4dbb-9b48-7fd09b23a62b</td>\n",
       "      <td>10026</td>\n",
       "      <td>0 days 00:16:14</td>\n",
       "    </tr>\n",
       "    <tr>\n",
       "      <th>10026</th>\n",
       "      <td>fffb9e79-b927-4dbb-9b48-7fd09b23a62b</td>\n",
       "      <td>10027</td>\n",
       "      <td>0 days 00:04:57</td>\n",
       "    </tr>\n",
       "    <tr>\n",
       "      <th>10027</th>\n",
       "      <td>fffb9e79-b927-4dbb-9b48-7fd09b23a62b</td>\n",
       "      <td>10028</td>\n",
       "      <td>0 days 00:15:49</td>\n",
       "    </tr>\n",
       "    <tr>\n",
       "      <th>10028</th>\n",
       "      <td>fffb9e79-b927-4dbb-9b48-7fd09b23a62b</td>\n",
       "      <td>10029</td>\n",
       "      <td>0 days 00:32:24</td>\n",
       "    </tr>\n",
       "  </tbody>\n",
       "</table>\n",
       "<p>10029 rows × 3 columns</p>\n",
       "</div>"
      ],
      "text/plain": [
       "                                    user_id  session_id      event_time\n",
       "0      0001b1d5-b74a-4cbf-aeb0-7df5947bf349           1 0 days 00:09:56\n",
       "1      0001b1d5-b74a-4cbf-aeb0-7df5947bf349           2 0 days 00:08:27\n",
       "2      0001b1d5-b74a-4cbf-aeb0-7df5947bf349           3 0 days 00:15:00\n",
       "3      0001b1d5-b74a-4cbf-aeb0-7df5947bf349           4 0 days 00:12:38\n",
       "4      00157779-810c-4498-9e05-a1e9e3cedf93           5 0 days 00:25:21\n",
       "...                                     ...         ...             ...\n",
       "10024  fffb9e79-b927-4dbb-9b48-7fd09b23a62b       10025 0 days 00:00:00\n",
       "10025  fffb9e79-b927-4dbb-9b48-7fd09b23a62b       10026 0 days 00:16:14\n",
       "10026  fffb9e79-b927-4dbb-9b48-7fd09b23a62b       10027 0 days 00:04:57\n",
       "10027  fffb9e79-b927-4dbb-9b48-7fd09b23a62b       10028 0 days 00:15:49\n",
       "10028  fffb9e79-b927-4dbb-9b48-7fd09b23a62b       10029 0 days 00:32:24\n",
       "\n",
       "[10029 rows x 3 columns]"
      ]
     },
     "execution_count": 46,
     "metadata": {},
     "output_type": "execute_result"
    }
   ],
   "source": [
    "session_duration = pd.DataFrame(df.groupby(['user_id', 'session_id'])['event_time'].\n",
    "     max() - df.groupby(['user_id', 'session_id'])['event_time'].min()).reset_index()\n",
    "session_duration"
   ]
  },
  {
   "cell_type": "markdown",
   "id": "5b0f53c6",
   "metadata": {},
   "source": [
    "Продолжительность сессии в минутах"
   ]
  },
  {
   "cell_type": "code",
   "execution_count": 47,
   "id": "c587ddaf",
   "metadata": {},
   "outputs": [
    {
     "data": {
      "text/html": [
       "<div>\n",
       "<style scoped>\n",
       "    .dataframe tbody tr th:only-of-type {\n",
       "        vertical-align: middle;\n",
       "    }\n",
       "\n",
       "    .dataframe tbody tr th {\n",
       "        vertical-align: top;\n",
       "    }\n",
       "\n",
       "    .dataframe thead th {\n",
       "        text-align: right;\n",
       "    }\n",
       "</style>\n",
       "<table border=\"1\" class=\"dataframe\">\n",
       "  <thead>\n",
       "    <tr style=\"text-align: right;\">\n",
       "      <th></th>\n",
       "      <th>user_id</th>\n",
       "      <th>session_id</th>\n",
       "      <th>session_min</th>\n",
       "    </tr>\n",
       "  </thead>\n",
       "  <tbody>\n",
       "    <tr>\n",
       "      <th>0</th>\n",
       "      <td>0001b1d5-b74a-4cbf-aeb0-7df5947bf349</td>\n",
       "      <td>1</td>\n",
       "      <td>9.93</td>\n",
       "    </tr>\n",
       "    <tr>\n",
       "      <th>1</th>\n",
       "      <td>0001b1d5-b74a-4cbf-aeb0-7df5947bf349</td>\n",
       "      <td>2</td>\n",
       "      <td>8.45</td>\n",
       "    </tr>\n",
       "    <tr>\n",
       "      <th>2</th>\n",
       "      <td>0001b1d5-b74a-4cbf-aeb0-7df5947bf349</td>\n",
       "      <td>3</td>\n",
       "      <td>15.00</td>\n",
       "    </tr>\n",
       "    <tr>\n",
       "      <th>3</th>\n",
       "      <td>0001b1d5-b74a-4cbf-aeb0-7df5947bf349</td>\n",
       "      <td>4</td>\n",
       "      <td>12.63</td>\n",
       "    </tr>\n",
       "    <tr>\n",
       "      <th>4</th>\n",
       "      <td>00157779-810c-4498-9e05-a1e9e3cedf93</td>\n",
       "      <td>5</td>\n",
       "      <td>25.35</td>\n",
       "    </tr>\n",
       "    <tr>\n",
       "      <th>...</th>\n",
       "      <td>...</td>\n",
       "      <td>...</td>\n",
       "      <td>...</td>\n",
       "    </tr>\n",
       "    <tr>\n",
       "      <th>10024</th>\n",
       "      <td>fffb9e79-b927-4dbb-9b48-7fd09b23a62b</td>\n",
       "      <td>10025</td>\n",
       "      <td>0.00</td>\n",
       "    </tr>\n",
       "    <tr>\n",
       "      <th>10025</th>\n",
       "      <td>fffb9e79-b927-4dbb-9b48-7fd09b23a62b</td>\n",
       "      <td>10026</td>\n",
       "      <td>16.23</td>\n",
       "    </tr>\n",
       "    <tr>\n",
       "      <th>10026</th>\n",
       "      <td>fffb9e79-b927-4dbb-9b48-7fd09b23a62b</td>\n",
       "      <td>10027</td>\n",
       "      <td>4.95</td>\n",
       "    </tr>\n",
       "    <tr>\n",
       "      <th>10027</th>\n",
       "      <td>fffb9e79-b927-4dbb-9b48-7fd09b23a62b</td>\n",
       "      <td>10028</td>\n",
       "      <td>15.82</td>\n",
       "    </tr>\n",
       "    <tr>\n",
       "      <th>10028</th>\n",
       "      <td>fffb9e79-b927-4dbb-9b48-7fd09b23a62b</td>\n",
       "      <td>10029</td>\n",
       "      <td>32.40</td>\n",
       "    </tr>\n",
       "  </tbody>\n",
       "</table>\n",
       "<p>10029 rows × 3 columns</p>\n",
       "</div>"
      ],
      "text/plain": [
       "                                    user_id  session_id  session_min\n",
       "0      0001b1d5-b74a-4cbf-aeb0-7df5947bf349           1         9.93\n",
       "1      0001b1d5-b74a-4cbf-aeb0-7df5947bf349           2         8.45\n",
       "2      0001b1d5-b74a-4cbf-aeb0-7df5947bf349           3        15.00\n",
       "3      0001b1d5-b74a-4cbf-aeb0-7df5947bf349           4        12.63\n",
       "4      00157779-810c-4498-9e05-a1e9e3cedf93           5        25.35\n",
       "...                                     ...         ...          ...\n",
       "10024  fffb9e79-b927-4dbb-9b48-7fd09b23a62b       10025         0.00\n",
       "10025  fffb9e79-b927-4dbb-9b48-7fd09b23a62b       10026        16.23\n",
       "10026  fffb9e79-b927-4dbb-9b48-7fd09b23a62b       10027         4.95\n",
       "10027  fffb9e79-b927-4dbb-9b48-7fd09b23a62b       10028        15.82\n",
       "10028  fffb9e79-b927-4dbb-9b48-7fd09b23a62b       10029        32.40\n",
       "\n",
       "[10029 rows x 3 columns]"
      ]
     },
     "execution_count": 47,
     "metadata": {},
     "output_type": "execute_result"
    }
   ],
   "source": [
    "session_duration['session_min'] = round((session_duration['event_time'].astype('timedelta64[s]')/60),2)\n",
    "session_duration = session_duration.drop(columns=['event_time'])\n",
    "session_duration"
   ]
  },
  {
   "cell_type": "markdown",
   "id": "3525e654",
   "metadata": {},
   "source": [
    "Общее время в приложении, проведенное пользователями и среднее время"
   ]
  },
  {
   "cell_type": "code",
   "execution_count": 48,
   "id": "23f16413",
   "metadata": {},
   "outputs": [
    {
     "data": {
      "text/html": [
       "<div>\n",
       "<style scoped>\n",
       "    .dataframe tbody tr th:only-of-type {\n",
       "        vertical-align: middle;\n",
       "    }\n",
       "\n",
       "    .dataframe tbody tr th {\n",
       "        vertical-align: top;\n",
       "    }\n",
       "\n",
       "    .dataframe thead th {\n",
       "        text-align: right;\n",
       "    }\n",
       "</style>\n",
       "<table border=\"1\" class=\"dataframe\">\n",
       "  <thead>\n",
       "    <tr style=\"text-align: right;\">\n",
       "      <th></th>\n",
       "      <th>user_id</th>\n",
       "      <th>mean</th>\n",
       "      <th>sum</th>\n",
       "    </tr>\n",
       "  </thead>\n",
       "  <tbody>\n",
       "    <tr>\n",
       "      <th>0</th>\n",
       "      <td>0001b1d5-b74a-4cbf-aeb0-7df5947bf349</td>\n",
       "      <td>46.01</td>\n",
       "      <td>11.502500</td>\n",
       "    </tr>\n",
       "    <tr>\n",
       "      <th>1</th>\n",
       "      <td>00157779-810c-4498-9e05-a1e9e3cedf93</td>\n",
       "      <td>196.23</td>\n",
       "      <td>32.705000</td>\n",
       "    </tr>\n",
       "    <tr>\n",
       "      <th>2</th>\n",
       "      <td>00463033-5717-4bf1-91b4-09183923b9df</td>\n",
       "      <td>24.70</td>\n",
       "      <td>24.700000</td>\n",
       "    </tr>\n",
       "    <tr>\n",
       "      <th>3</th>\n",
       "      <td>004690c3-5a84-4bb7-a8af-e0c8f8fca64e</td>\n",
       "      <td>110.73</td>\n",
       "      <td>18.455000</td>\n",
       "    </tr>\n",
       "    <tr>\n",
       "      <th>4</th>\n",
       "      <td>00551e79-152e-4441-9cf7-565d7eb04090</td>\n",
       "      <td>9.32</td>\n",
       "      <td>3.106667</td>\n",
       "    </tr>\n",
       "  </tbody>\n",
       "</table>\n",
       "</div>"
      ],
      "text/plain": [
       "                                user_id    mean        sum\n",
       "0  0001b1d5-b74a-4cbf-aeb0-7df5947bf349   46.01  11.502500\n",
       "1  00157779-810c-4498-9e05-a1e9e3cedf93  196.23  32.705000\n",
       "2  00463033-5717-4bf1-91b4-09183923b9df   24.70  24.700000\n",
       "3  004690c3-5a84-4bb7-a8af-e0c8f8fca64e  110.73  18.455000\n",
       "4  00551e79-152e-4441-9cf7-565d7eb04090    9.32   3.106667"
      ]
     },
     "execution_count": 48,
     "metadata": {},
     "output_type": "execute_result"
    }
   ],
   "source": [
    "user_time_duration = (session_duration.groupby(['user_id'])['session_min'].agg({'sum', 'mean'}).reset_index())\n",
    "user_time_duration.columns = ['user_id', 'mean', 'sum']\n",
    "user_time_duration.head()"
   ]
  },
  {
   "cell_type": "code",
   "execution_count": 49,
   "id": "801f82f0",
   "metadata": {
    "scrolled": false
   },
   "outputs": [
    {
     "data": {
      "image/png": "[encoded data removed]",
      "text/plain": [
       "<Figure size 1008x504 with 1 Axes>"
      ]
     },
     "metadata": {},
     "output_type": "display_data"
    }
   ],
   "source": [
    "user_time_duration['mean'].hist(bins = 40, figsize = (14, 7), range = (0, 250))\n",
    "plt.title('Средняя пользовательская сессия, мин', fontsize=14)\n",
    "plt.xlabel('Пользовательская сессия в минутах', fontsize=12)\n",
    "plt.ylabel('Число пользователей', fontsize=12)\n",
    "plt.ylim(0, 1200);"
   ]
  },
  {
   "cell_type": "code",
   "execution_count": 50,
   "id": "4472c2bc",
   "metadata": {},
   "outputs": [
    {
     "data": {
      "text/html": [
       "<div>\n",
       "<style scoped>\n",
       "    .dataframe tbody tr th:only-of-type {\n",
       "        vertical-align: middle;\n",
       "    }\n",
       "\n",
       "    .dataframe tbody tr th {\n",
       "        vertical-align: top;\n",
       "    }\n",
       "\n",
       "    .dataframe thead th {\n",
       "        text-align: right;\n",
       "    }\n",
       "</style>\n",
       "<table border=\"1\" class=\"dataframe\">\n",
       "  <thead>\n",
       "    <tr style=\"text-align: right;\">\n",
       "      <th></th>\n",
       "      <th>mean</th>\n",
       "      <th>sum</th>\n",
       "    </tr>\n",
       "  </thead>\n",
       "  <tbody>\n",
       "    <tr>\n",
       "      <th>count</th>\n",
       "      <td>4293.000000</td>\n",
       "      <td>4293.000000</td>\n",
       "    </tr>\n",
       "    <tr>\n",
       "      <th>mean</th>\n",
       "      <td>33.833468</td>\n",
       "      <td>15.887301</td>\n",
       "    </tr>\n",
       "    <tr>\n",
       "      <th>std</th>\n",
       "      <td>70.052331</td>\n",
       "      <td>18.562706</td>\n",
       "    </tr>\n",
       "    <tr>\n",
       "      <th>min</th>\n",
       "      <td>0.000000</td>\n",
       "      <td>0.000000</td>\n",
       "    </tr>\n",
       "    <tr>\n",
       "      <th>25%</th>\n",
       "      <td>6.230000</td>\n",
       "      <td>4.285000</td>\n",
       "    </tr>\n",
       "    <tr>\n",
       "      <th>50%</th>\n",
       "      <td>15.770000</td>\n",
       "      <td>10.000000</td>\n",
       "    </tr>\n",
       "    <tr>\n",
       "      <th>75%</th>\n",
       "      <td>36.230000</td>\n",
       "      <td>21.017000</td>\n",
       "    </tr>\n",
       "    <tr>\n",
       "      <th>max</th>\n",
       "      <td>1890.210000</td>\n",
       "      <td>222.970000</td>\n",
       "    </tr>\n",
       "  </tbody>\n",
       "</table>\n",
       "</div>"
      ],
      "text/plain": [
       "              mean          sum\n",
       "count  4293.000000  4293.000000\n",
       "mean     33.833468    15.887301\n",
       "std      70.052331    18.562706\n",
       "min       0.000000     0.000000\n",
       "25%       6.230000     4.285000\n",
       "50%      15.770000    10.000000\n",
       "75%      36.230000    21.017000\n",
       "max    1890.210000   222.970000"
      ]
     },
     "execution_count": 50,
     "metadata": {},
     "output_type": "execute_result"
    }
   ],
   "source": [
    "user_time_duration.describe()"
   ]
  },
  {
   "cell_type": "markdown",
   "id": "53807d9e",
   "metadata": {},
   "source": [
    "Возьмем во внимание медианное значение, получилось что пользователь тратит где-то 15-16 минут на приложение за сессию."
   ]
  },
  {
   "cell_type": "markdown",
   "id": "1bb9dc3d",
   "metadata": {},
   "source": [
    "### Частота действий <a class=\"anchor\" id=\"actions\"></a>"
   ]
  },
  {
   "cell_type": "markdown",
   "id": "db70e24e",
   "metadata": {},
   "source": [
    "Посмотрим, какие события становятся первыми для полученных сессий"
   ]
  },
  {
   "cell_type": "code",
   "execution_count": 51,
   "id": "e32126b0",
   "metadata": {},
   "outputs": [
    {
     "data": {
      "text/html": [
       "<div>\n",
       "<style scoped>\n",
       "    .dataframe tbody tr th:only-of-type {\n",
       "        vertical-align: middle;\n",
       "    }\n",
       "\n",
       "    .dataframe tbody tr th {\n",
       "        vertical-align: top;\n",
       "    }\n",
       "\n",
       "    .dataframe thead th {\n",
       "        text-align: right;\n",
       "    }\n",
       "</style>\n",
       "<table border=\"1\" class=\"dataframe\">\n",
       "  <thead>\n",
       "    <tr style=\"text-align: right;\">\n",
       "      <th></th>\n",
       "      <th>event_name</th>\n",
       "    </tr>\n",
       "  </thead>\n",
       "  <tbody>\n",
       "    <tr>\n",
       "      <th>tips_show</th>\n",
       "      <td>3636</td>\n",
       "    </tr>\n",
       "    <tr>\n",
       "      <th>search</th>\n",
       "      <td>2463</td>\n",
       "    </tr>\n",
       "    <tr>\n",
       "      <th>photos_show</th>\n",
       "      <td>1611</td>\n",
       "    </tr>\n",
       "    <tr>\n",
       "      <th>map</th>\n",
       "      <td>1266</td>\n",
       "    </tr>\n",
       "    <tr>\n",
       "      <th>contacts_show</th>\n",
       "      <td>520</td>\n",
       "    </tr>\n",
       "    <tr>\n",
       "      <th>advert_open</th>\n",
       "      <td>387</td>\n",
       "    </tr>\n",
       "    <tr>\n",
       "      <th>favorites_add</th>\n",
       "      <td>102</td>\n",
       "    </tr>\n",
       "    <tr>\n",
       "      <th>tips_click</th>\n",
       "      <td>44</td>\n",
       "    </tr>\n",
       "  </tbody>\n",
       "</table>\n",
       "</div>"
      ],
      "text/plain": [
       "               event_name\n",
       "tips_show            3636\n",
       "search               2463\n",
       "photos_show          1611\n",
       "map                  1266\n",
       "contacts_show         520\n",
       "advert_open           387\n",
       "favorites_add         102\n",
       "tips_click             44"
      ]
     },
     "execution_count": 51,
     "metadata": {},
     "output_type": "execute_result"
    }
   ],
   "source": [
    "first_events = df.groupby('session_id').agg({'event_name': 'first'})['event_name'].value_counts().to_frame()\n",
    "first_events"
   ]
  },
  {
   "cell_type": "markdown",
   "id": "99f0155e",
   "metadata": {},
   "source": [
    "Такими событиями стали: **tips_show** - \"пользователь увидел рекомендованные объявления\", **search** - \"разные события, связанные с поиском по сайту\", **photos_show** - \"просмотр фотографий в объявлении\" и **map** - \"пользователь открыл карту размещенных объявлений\""
   ]
  },
  {
   "cell_type": "markdown",
   "id": "7f0f6fee",
   "metadata": {},
   "source": [
    "Какие события чаще всего совершают пользователи"
   ]
  },
  {
   "cell_type": "code",
   "execution_count": 52,
   "id": "a3d84603",
   "metadata": {},
   "outputs": [
    {
     "data": {
      "text/html": [
       "<div>\n",
       "<style scoped>\n",
       "    .dataframe tbody tr th:only-of-type {\n",
       "        vertical-align: middle;\n",
       "    }\n",
       "\n",
       "    .dataframe tbody tr th {\n",
       "        vertical-align: top;\n",
       "    }\n",
       "\n",
       "    .dataframe thead th {\n",
       "        text-align: right;\n",
       "    }\n",
       "</style>\n",
       "<table border=\"1\" class=\"dataframe\">\n",
       "  <thead>\n",
       "    <tr style=\"text-align: right;\">\n",
       "      <th></th>\n",
       "      <th>event_name</th>\n",
       "    </tr>\n",
       "  </thead>\n",
       "  <tbody>\n",
       "    <tr>\n",
       "      <th>tips_show</th>\n",
       "      <td>39907</td>\n",
       "    </tr>\n",
       "    <tr>\n",
       "      <th>photos_show</th>\n",
       "      <td>9352</td>\n",
       "    </tr>\n",
       "    <tr>\n",
       "      <th>search</th>\n",
       "      <td>6684</td>\n",
       "    </tr>\n",
       "    <tr>\n",
       "      <th>advert_open</th>\n",
       "      <td>6146</td>\n",
       "    </tr>\n",
       "    <tr>\n",
       "      <th>contacts_show</th>\n",
       "      <td>4376</td>\n",
       "    </tr>\n",
       "    <tr>\n",
       "      <th>map</th>\n",
       "      <td>3749</td>\n",
       "    </tr>\n",
       "    <tr>\n",
       "      <th>favorites_add</th>\n",
       "      <td>1414</td>\n",
       "    </tr>\n",
       "    <tr>\n",
       "      <th>tips_click</th>\n",
       "      <td>811</td>\n",
       "    </tr>\n",
       "    <tr>\n",
       "      <th>contacts_call</th>\n",
       "      <td>534</td>\n",
       "    </tr>\n",
       "  </tbody>\n",
       "</table>\n",
       "</div>"
      ],
      "text/plain": [
       "               event_name\n",
       "tips_show           39907\n",
       "photos_show          9352\n",
       "search               6684\n",
       "advert_open          6146\n",
       "contacts_show        4376\n",
       "map                  3749\n",
       "favorites_add        1414\n",
       "tips_click            811\n",
       "contacts_call         534"
      ]
     },
     "execution_count": 52,
     "metadata": {},
     "output_type": "execute_result"
    }
   ],
   "source": [
    "freq_events = df['event_name'].value_counts().to_frame()\n",
    "freq_events"
   ]
  },
  {
   "cell_type": "code",
   "execution_count": 53,
   "id": "df20ace9",
   "metadata": {},
   "outputs": [
    {
     "data": {
      "image/png": "[encoded data removed]",
      "text/plain": [
       "<Figure size 1008x504 with 1 Axes>"
      ]
     },
     "metadata": {},
     "output_type": "display_data"
    }
   ],
   "source": [
    "freq_events.plot(kind='bar', figsize=(14,7))\n",
    "plt.title('Часто совершаемые действия в приложении', fontsize=18)\n",
    "plt.gca().set(xlabel='типы событий', ylabel='количество событий')\n",
    "plt.xticks(rotation=45)\n",
    "plt;"
   ]
  },
  {
   "cell_type": "markdown",
   "id": "31297576",
   "metadata": {},
   "source": [
    "Самые частые события - это **tips_show** пользователь увидел рекомендованные объявления, **photos_show** - просмотр фотографий в объявлении, **search** - поиск по сайту, **advert_open** - открытие карточки объявления."
   ]
  },
  {
   "cell_type": "markdown",
   "id": "37da7852",
   "metadata": {},
   "source": [
    "### Конверсия в целевое действие — просмотр контактов <a class=\"anchor\" id=\"conv_show_contacts\"></a>"
   ]
  },
  {
   "cell_type": "markdown",
   "id": "f7cd5317",
   "metadata": {},
   "source": [
    "Сгруппируем данные по пользователям и номеру сессии и посчитаем число визитов"
   ]
  },
  {
   "cell_type": "code",
   "execution_count": 54,
   "id": "fa0e9292",
   "metadata": {},
   "outputs": [
    {
     "data": {
      "text/html": [
       "<div>\n",
       "<style scoped>\n",
       "    .dataframe tbody tr th:only-of-type {\n",
       "        vertical-align: middle;\n",
       "    }\n",
       "\n",
       "    .dataframe tbody tr th {\n",
       "        vertical-align: top;\n",
       "    }\n",
       "\n",
       "    .dataframe thead th {\n",
       "        text-align: right;\n",
       "    }\n",
       "</style>\n",
       "<table border=\"1\" class=\"dataframe\">\n",
       "  <thead>\n",
       "    <tr style=\"text-align: right;\">\n",
       "      <th></th>\n",
       "      <th>user_id</th>\n",
       "      <th>visits</th>\n",
       "    </tr>\n",
       "  </thead>\n",
       "  <tbody>\n",
       "    <tr>\n",
       "      <th>0</th>\n",
       "      <td>0001b1d5-b74a-4cbf-aeb0-7df5947bf349</td>\n",
       "      <td>35</td>\n",
       "    </tr>\n",
       "    <tr>\n",
       "      <th>1</th>\n",
       "      <td>00157779-810c-4498-9e05-a1e9e3cedf93</td>\n",
       "      <td>71</td>\n",
       "    </tr>\n",
       "    <tr>\n",
       "      <th>2</th>\n",
       "      <td>00463033-5717-4bf1-91b4-09183923b9df</td>\n",
       "      <td>10</td>\n",
       "    </tr>\n",
       "    <tr>\n",
       "      <th>3</th>\n",
       "      <td>004690c3-5a84-4bb7-a8af-e0c8f8fca64e</td>\n",
       "      <td>32</td>\n",
       "    </tr>\n",
       "    <tr>\n",
       "      <th>4</th>\n",
       "      <td>00551e79-152e-4441-9cf7-565d7eb04090</td>\n",
       "      <td>8</td>\n",
       "    </tr>\n",
       "  </tbody>\n",
       "</table>\n",
       "</div>"
      ],
      "text/plain": [
       "                                user_id  visits\n",
       "0  0001b1d5-b74a-4cbf-aeb0-7df5947bf349      35\n",
       "1  00157779-810c-4498-9e05-a1e9e3cedf93      71\n",
       "2  00463033-5717-4bf1-91b4-09183923b9df      10\n",
       "3  004690c3-5a84-4bb7-a8af-e0c8f8fca64e      32\n",
       "4  00551e79-152e-4441-9cf7-565d7eb04090       8"
      ]
     },
     "execution_count": 54,
     "metadata": {},
     "output_type": "execute_result"
    }
   ],
   "source": [
    "visits = df.groupby('user_id', as_index=False)\\\n",
    ".agg({'event_date':'count'})\\\n",
    ".rename(columns={'event_date':'visits'})\n",
    "visits.head()"
   ]
  },
  {
   "cell_type": "markdown",
   "id": "14c596cb",
   "metadata": {},
   "source": [
    "Посчитаем, сколько раз пользователи совершили целевое действие - просмотр контактов"
   ]
  },
  {
   "cell_type": "code",
   "execution_count": 55,
   "id": "a583bda1",
   "metadata": {},
   "outputs": [
    {
     "data": {
      "text/html": [
       "<div>\n",
       "<style scoped>\n",
       "    .dataframe tbody tr th:only-of-type {\n",
       "        vertical-align: middle;\n",
       "    }\n",
       "\n",
       "    .dataframe tbody tr th {\n",
       "        vertical-align: top;\n",
       "    }\n",
       "\n",
       "    .dataframe thead th {\n",
       "        text-align: right;\n",
       "    }\n",
       "</style>\n",
       "<table border=\"1\" class=\"dataframe\">\n",
       "  <thead>\n",
       "    <tr style=\"text-align: right;\">\n",
       "      <th></th>\n",
       "      <th>user_id</th>\n",
       "      <th>conversions</th>\n",
       "    </tr>\n",
       "  </thead>\n",
       "  <tbody>\n",
       "    <tr>\n",
       "      <th>0</th>\n",
       "      <td>00157779-810c-4498-9e05-a1e9e3cedf93</td>\n",
       "      <td>11</td>\n",
       "    </tr>\n",
       "    <tr>\n",
       "      <th>1</th>\n",
       "      <td>00551e79-152e-4441-9cf7-565d7eb04090</td>\n",
       "      <td>3</td>\n",
       "    </tr>\n",
       "    <tr>\n",
       "      <th>2</th>\n",
       "      <td>005fbea5-2678-406f-88a6-fbe9787e2268</td>\n",
       "      <td>3</td>\n",
       "    </tr>\n",
       "    <tr>\n",
       "      <th>3</th>\n",
       "      <td>00753c79-ea81-4456-acd0-a47a23ca2fb9</td>\n",
       "      <td>1</td>\n",
       "    </tr>\n",
       "    <tr>\n",
       "      <th>4</th>\n",
       "      <td>007d031d-5018-4e02-b7ee-72a30609173f</td>\n",
       "      <td>2</td>\n",
       "    </tr>\n",
       "    <tr>\n",
       "      <th>...</th>\n",
       "      <td>...</td>\n",
       "      <td>...</td>\n",
       "    </tr>\n",
       "    <tr>\n",
       "      <th>976</th>\n",
       "      <td>fee3ba1c-16f4-46f7-bf56-4bf80cc4e2f5</td>\n",
       "      <td>17</td>\n",
       "    </tr>\n",
       "    <tr>\n",
       "      <th>977</th>\n",
       "      <td>ff1554b5-919e-40b1-90bb-ee1f7f6d5846</td>\n",
       "      <td>1</td>\n",
       "    </tr>\n",
       "    <tr>\n",
       "      <th>978</th>\n",
       "      <td>ffc01466-fdb1-4460-ae94-e800f52eb136</td>\n",
       "      <td>1</td>\n",
       "    </tr>\n",
       "    <tr>\n",
       "      <th>979</th>\n",
       "      <td>ffe68f10-e48e-470e-be9b-eeb93128ff1a</td>\n",
       "      <td>1</td>\n",
       "    </tr>\n",
       "    <tr>\n",
       "      <th>980</th>\n",
       "      <td>fffb9e79-b927-4dbb-9b48-7fd09b23a62b</td>\n",
       "      <td>68</td>\n",
       "    </tr>\n",
       "  </tbody>\n",
       "</table>\n",
       "<p>981 rows × 2 columns</p>\n",
       "</div>"
      ],
      "text/plain": [
       "                                  user_id  conversions\n",
       "0    00157779-810c-4498-9e05-a1e9e3cedf93           11\n",
       "1    00551e79-152e-4441-9cf7-565d7eb04090            3\n",
       "2    005fbea5-2678-406f-88a6-fbe9787e2268            3\n",
       "3    00753c79-ea81-4456-acd0-a47a23ca2fb9            1\n",
       "4    007d031d-5018-4e02-b7ee-72a30609173f            2\n",
       "..                                    ...          ...\n",
       "976  fee3ba1c-16f4-46f7-bf56-4bf80cc4e2f5           17\n",
       "977  ff1554b5-919e-40b1-90bb-ee1f7f6d5846            1\n",
       "978  ffc01466-fdb1-4460-ae94-e800f52eb136            1\n",
       "979  ffe68f10-e48e-470e-be9b-eeb93128ff1a            1\n",
       "980  fffb9e79-b927-4dbb-9b48-7fd09b23a62b           68\n",
       "\n",
       "[981 rows x 2 columns]"
      ]
     },
     "execution_count": 55,
     "metadata": {},
     "output_type": "execute_result"
    }
   ],
   "source": [
    "conversion = df.query('event_name==\"contacts_show\"')\\\n",
    ".groupby('user_id', as_index=False)\\\n",
    ".agg({'event_name':'count'})\\\n",
    ".rename(columns={'event_name':'conversions'})\n",
    "conversion"
   ]
  },
  {
   "cell_type": "code",
   "execution_count": 56,
   "id": "75833295",
   "metadata": {},
   "outputs": [],
   "source": [
    "visits = pd.merge(visits, conversion, on='user_id', how='left')"
   ]
  },
  {
   "cell_type": "code",
   "execution_count": 57,
   "id": "a52cd330",
   "metadata": {},
   "outputs": [
    {
     "data": {
      "text/html": [
       "<div>\n",
       "<style scoped>\n",
       "    .dataframe tbody tr th:only-of-type {\n",
       "        vertical-align: middle;\n",
       "    }\n",
       "\n",
       "    .dataframe tbody tr th {\n",
       "        vertical-align: top;\n",
       "    }\n",
       "\n",
       "    .dataframe thead th {\n",
       "        text-align: right;\n",
       "    }\n",
       "</style>\n",
       "<table border=\"1\" class=\"dataframe\">\n",
       "  <thead>\n",
       "    <tr style=\"text-align: right;\">\n",
       "      <th></th>\n",
       "      <th>user_id</th>\n",
       "      <th>visits</th>\n",
       "      <th>conversions</th>\n",
       "    </tr>\n",
       "  </thead>\n",
       "  <tbody>\n",
       "    <tr>\n",
       "      <th>0</th>\n",
       "      <td>0001b1d5-b74a-4cbf-aeb0-7df5947bf349</td>\n",
       "      <td>35</td>\n",
       "      <td>NaN</td>\n",
       "    </tr>\n",
       "    <tr>\n",
       "      <th>1</th>\n",
       "      <td>00157779-810c-4498-9e05-a1e9e3cedf93</td>\n",
       "      <td>71</td>\n",
       "      <td>11.0</td>\n",
       "    </tr>\n",
       "    <tr>\n",
       "      <th>2</th>\n",
       "      <td>00463033-5717-4bf1-91b4-09183923b9df</td>\n",
       "      <td>10</td>\n",
       "      <td>NaN</td>\n",
       "    </tr>\n",
       "    <tr>\n",
       "      <th>3</th>\n",
       "      <td>004690c3-5a84-4bb7-a8af-e0c8f8fca64e</td>\n",
       "      <td>32</td>\n",
       "      <td>NaN</td>\n",
       "    </tr>\n",
       "    <tr>\n",
       "      <th>4</th>\n",
       "      <td>00551e79-152e-4441-9cf7-565d7eb04090</td>\n",
       "      <td>8</td>\n",
       "      <td>3.0</td>\n",
       "    </tr>\n",
       "    <tr>\n",
       "      <th>...</th>\n",
       "      <td>...</td>\n",
       "      <td>...</td>\n",
       "      <td>...</td>\n",
       "    </tr>\n",
       "    <tr>\n",
       "      <th>4288</th>\n",
       "      <td>ffab8d8a-30bb-424a-a3ab-0b63ebbf7b07</td>\n",
       "      <td>17</td>\n",
       "      <td>NaN</td>\n",
       "    </tr>\n",
       "    <tr>\n",
       "      <th>4289</th>\n",
       "      <td>ffc01466-fdb1-4460-ae94-e800f52eb136</td>\n",
       "      <td>7</td>\n",
       "      <td>1.0</td>\n",
       "    </tr>\n",
       "    <tr>\n",
       "      <th>4290</th>\n",
       "      <td>ffcf50d9-293c-4254-8243-4890b030b238</td>\n",
       "      <td>2</td>\n",
       "      <td>NaN</td>\n",
       "    </tr>\n",
       "    <tr>\n",
       "      <th>4291</th>\n",
       "      <td>ffe68f10-e48e-470e-be9b-eeb93128ff1a</td>\n",
       "      <td>13</td>\n",
       "      <td>1.0</td>\n",
       "    </tr>\n",
       "    <tr>\n",
       "      <th>4292</th>\n",
       "      <td>fffb9e79-b927-4dbb-9b48-7fd09b23a62b</td>\n",
       "      <td>302</td>\n",
       "      <td>68.0</td>\n",
       "    </tr>\n",
       "  </tbody>\n",
       "</table>\n",
       "<p>4293 rows × 3 columns</p>\n",
       "</div>"
      ],
      "text/plain": [
       "                                   user_id  visits  conversions\n",
       "0     0001b1d5-b74a-4cbf-aeb0-7df5947bf349      35          NaN\n",
       "1     00157779-810c-4498-9e05-a1e9e3cedf93      71         11.0\n",
       "2     00463033-5717-4bf1-91b4-09183923b9df      10          NaN\n",
       "3     004690c3-5a84-4bb7-a8af-e0c8f8fca64e      32          NaN\n",
       "4     00551e79-152e-4441-9cf7-565d7eb04090       8          3.0\n",
       "...                                    ...     ...          ...\n",
       "4288  ffab8d8a-30bb-424a-a3ab-0b63ebbf7b07      17          NaN\n",
       "4289  ffc01466-fdb1-4460-ae94-e800f52eb136       7          1.0\n",
       "4290  ffcf50d9-293c-4254-8243-4890b030b238       2          NaN\n",
       "4291  ffe68f10-e48e-470e-be9b-eeb93128ff1a      13          1.0\n",
       "4292  fffb9e79-b927-4dbb-9b48-7fd09b23a62b     302         68.0\n",
       "\n",
       "[4293 rows x 3 columns]"
      ]
     },
     "execution_count": 57,
     "metadata": {},
     "output_type": "execute_result"
    }
   ],
   "source": [
    "visits"
   ]
  },
  {
   "cell_type": "markdown",
   "id": "cccc8103",
   "metadata": {},
   "source": [
    "Заполним пропуски нулями"
   ]
  },
  {
   "cell_type": "code",
   "execution_count": 58,
   "id": "d9b30bdb",
   "metadata": {},
   "outputs": [],
   "source": [
    "visits['conversions'] = visits['conversions'].fillna(0)"
   ]
  },
  {
   "cell_type": "code",
   "execution_count": 59,
   "id": "3104584c",
   "metadata": {},
   "outputs": [
    {
     "data": {
      "image/png": "[encoded data removed]",
      "text/plain": [
       "<Figure size 1080x576 with 1 Axes>"
      ]
     },
     "metadata": {},
     "output_type": "display_data"
    },
    {
     "name": "stdout",
     "output_type": "stream",
     "text": [
      "[ 2.  5. 15.]\n"
     ]
    }
   ],
   "source": [
    "plt.figure(figsize=(15, 8))\n",
    "sns.histplot(visits['conversions'], bins=30)\n",
    "plt.title('Количество конверсий в целевое действие — просмотр контактов')\n",
    "plt.xlabel('Количество конверсий')\n",
    "plt.ylabel('Количество пользователей')\n",
    "plt.xlim(0, 20)\n",
    "plt.show()\n",
    "print(np.percentile(visits['conversions'], [90, 95, 99]))"
   ]
  },
  {
   "cell_type": "markdown",
   "id": "44eeca49",
   "metadata": {},
   "source": [
    "*На каждого пользователя приходится от одной до 5 сессий;\n",
    "Большая часть пользователей не совершает целевое действие - просмотр контактов.*\n",
    "\n",
    "*Вычислим конверсию в действие contacts_show, отфильтруем основной датафрейм. Затем найдем уникальных пользователей в отфильтрованном датафрейме*"
   ]
  },
  {
   "cell_type": "code",
   "execution_count": 60,
   "id": "a73f6339",
   "metadata": {},
   "outputs": [],
   "source": [
    "contacts_show_df = df.query('event_name == \"contacts_show\"')"
   ]
  },
  {
   "cell_type": "code",
   "execution_count": 61,
   "id": "09d6a1e9",
   "metadata": {},
   "outputs": [
    {
     "data": {
      "text/plain": [
       "981"
      ]
     },
     "execution_count": 61,
     "metadata": {},
     "output_type": "execute_result"
    }
   ],
   "source": [
    "contacts_show_df['user_id'].nunique()"
   ]
  },
  {
   "cell_type": "code",
   "execution_count": 62,
   "id": "faab837a",
   "metadata": {},
   "outputs": [
    {
     "data": {
      "text/plain": [
       "22.851153039832283"
      ]
     },
     "execution_count": 62,
     "metadata": {},
     "output_type": "execute_result"
    }
   ],
   "source": [
    "(contacts_show_df['user_id'].nunique() / df['user_id'].nunique()) * 100"
   ]
  },
  {
   "cell_type": "markdown",
   "id": "c89fd51d",
   "metadata": {},
   "source": [
    "### Вывод после исследовательского анализа данных <a class=\"anchor\" id=\"opinion2\"></a>\n",
    "\n",
    "- Поведение покупателей меняется с каждой неделей и **retention rate** уменьшается, но из-за недостаточного промежутка времени в исследовании, возможна погрешность и выводы поверхностны;\n",
    "\n",
    "\n",
    "- Пользователь тратит где-то 15-16 минут на приложение за сессию, на каждого пользователя приходится от 1 до 5 сессий;\n",
    "\n",
    "- Самые частые события - это **tips_show** пользователь увидел рекомендованные объявления, **photos_show** - просмотр фотографий в объявлении, **search** - поиск по сайту, **advert_open** - открытие карточки объявления;\n",
    "\n",
    "- По нашим расчетам до события **contacts_show** доходят ~23% пользователей. 77% - достаточно большой отток от общего количества пришедших к нам пользователей. Возможно управление приложением не достаточно интуитивно и пользователь путается в большом количестве рекомендаций и приложение нужно как-то упростить."
   ]
  },
  {
   "cell_type": "markdown",
   "id": "6a361a3f",
   "metadata": {},
   "source": [
    "## Выбор сегментации пользователей, на основе их действий <a class=\"anchor\" id=\"segment\"></a>"
   ]
  },
  {
   "cell_type": "markdown",
   "id": "b583ed4e",
   "metadata": {},
   "source": [
    "### Разделим пользователей на группы в зависимости от их активности и достижения целевого действия <a class=\"anchor\" id=\"segment2\"></a>\n",
    "\n",
    "*Данное разделение позволит понять нам, насколько влияет активность пользователей в приложении на их конечный результат (целевое действие - просмотр контакта), если он есть вообще. Либо же их активность вообще ни на что не влияет и не важно, много или мало они тратят времени в приложении. К примеру, пользователь зашел, сразу зная, чего он хочет и если не обнаружил интересуемого объявления, то вышел, не совершив целевого действия **ИЛИ** наоборот - нашел объявление ---> совершил целевое действие ---> вышел из приложения, потратив минимум времени. Может быть и другой вариант, чем больше тратит времени, тем выше шанс получить желаемый результат.*\n",
    "\n",
    "*Давайте попробуем разобраться.*"
   ]
  },
  {
   "cell_type": "code",
   "execution_count": 63,
   "id": "739ac7ce",
   "metadata": {},
   "outputs": [],
   "source": [
    "last_visits = df.groupby(['user_id'])['event_date'].max().reset_index()\n",
    "last_visits.columns = ['user_id', 'last_dt']"
   ]
  },
  {
   "cell_type": "code",
   "execution_count": 64,
   "id": "adf375bd",
   "metadata": {},
   "outputs": [],
   "source": [
    "df = df.merge(last_visits, on='user_id')"
   ]
  },
  {
   "cell_type": "code",
   "execution_count": 65,
   "id": "3ee81639",
   "metadata": {},
   "outputs": [],
   "source": [
    "df['duration'] = (df['last_dt'] - df['event_date']).dt.days + 1"
   ]
  },
  {
   "cell_type": "markdown",
   "id": "088a72e2",
   "metadata": {},
   "source": [
    "ЗАДАДИМ ФУНКЦИЮ, в которой промаркируем пользователей, совершивших интересующее нас событие(ставим 1). При группировке по пользователю можно сложить единицы, узнав сколько раз пользователь посмотрел контакты и увидеть, совершалось ли вообще пользователем какое-то событие."
   ]
  },
  {
   "cell_type": "code",
   "execution_count": 66,
   "id": "189210aa",
   "metadata": {},
   "outputs": [],
   "source": [
    "def markers(name):\n",
    "\n",
    "    df[name] = \"\"\n",
    "    for i in range(len(df['event_name'])):\n",
    "        if df['event_name'][i] == name:\n",
    "            df[name][i] = 1\n",
    "        else:\n",
    "            df[name][i] = 0"
   ]
  },
  {
   "cell_type": "markdown",
   "id": "1bb4dba0",
   "metadata": {},
   "source": [
    "Выберем наиболее популярные события (процесс в обработке займет некоторое время)"
   ]
  },
  {
   "cell_type": "code",
   "execution_count": 67,
   "id": "18f40aeb",
   "metadata": {},
   "outputs": [],
   "source": [
    "markers('contacts_show')"
   ]
  },
  {
   "cell_type": "code",
   "execution_count": 68,
   "id": "82a81fc3",
   "metadata": {},
   "outputs": [],
   "source": [
    "markers('photos_show')"
   ]
  },
  {
   "cell_type": "code",
   "execution_count": 69,
   "id": "dd769e85",
   "metadata": {},
   "outputs": [],
   "source": [
    "markers('tips_show')"
   ]
  },
  {
   "cell_type": "code",
   "execution_count": 70,
   "id": "324a6d18",
   "metadata": {},
   "outputs": [],
   "source": [
    "markers('search')"
   ]
  },
  {
   "cell_type": "code",
   "execution_count": 71,
   "id": "00b3f376",
   "metadata": {},
   "outputs": [
    {
     "data": {
      "text/html": [
       "<div>\n",
       "<style scoped>\n",
       "    .dataframe tbody tr th:only-of-type {\n",
       "        vertical-align: middle;\n",
       "    }\n",
       "\n",
       "    .dataframe tbody tr th {\n",
       "        vertical-align: top;\n",
       "    }\n",
       "\n",
       "    .dataframe thead th {\n",
       "        text-align: right;\n",
       "    }\n",
       "</style>\n",
       "<table border=\"1\" class=\"dataframe\">\n",
       "  <thead>\n",
       "    <tr style=\"text-align: right;\">\n",
       "      <th></th>\n",
       "      <th>event_time</th>\n",
       "      <th>event_name</th>\n",
       "      <th>user_id</th>\n",
       "      <th>source</th>\n",
       "      <th>event_date</th>\n",
       "      <th>event_date_graph</th>\n",
       "      <th>session_id</th>\n",
       "      <th>last_dt</th>\n",
       "      <th>duration</th>\n",
       "      <th>contacts_show</th>\n",
       "      <th>photos_show</th>\n",
       "      <th>tips_show</th>\n",
       "      <th>search</th>\n",
       "    </tr>\n",
       "  </thead>\n",
       "  <tbody>\n",
       "    <tr>\n",
       "      <th>70563</th>\n",
       "      <td>2019-10-28 09:04:22</td>\n",
       "      <td>photos_show</td>\n",
       "      <td>f7ebe532-628f-474e-9a99-74ccd6880373</td>\n",
       "      <td>yandex</td>\n",
       "      <td>2019-10-28</td>\n",
       "      <td>2019-10-28</td>\n",
       "      <td>9705</td>\n",
       "      <td>2019-10-28</td>\n",
       "      <td>1</td>\n",
       "      <td>0</td>\n",
       "      <td>1</td>\n",
       "      <td>0</td>\n",
       "      <td>0</td>\n",
       "    </tr>\n",
       "    <tr>\n",
       "      <th>37448</th>\n",
       "      <td>2019-10-26 17:36:03</td>\n",
       "      <td>tips_show</td>\n",
       "      <td>8838c496-799c-48b9-9db9-f1415761ee69</td>\n",
       "      <td>other</td>\n",
       "      <td>2019-10-26</td>\n",
       "      <td>2019-10-26</td>\n",
       "      <td>5324</td>\n",
       "      <td>2019-10-26</td>\n",
       "      <td>1</td>\n",
       "      <td>0</td>\n",
       "      <td>0</td>\n",
       "      <td>1</td>\n",
       "      <td>0</td>\n",
       "    </tr>\n",
       "    <tr>\n",
       "      <th>68566</th>\n",
       "      <td>2019-10-18 19:20:03</td>\n",
       "      <td>tips_show</td>\n",
       "      <td>f06b73ca-9f77-4509-8c1d-c2cad213746d</td>\n",
       "      <td>google</td>\n",
       "      <td>2019-10-18</td>\n",
       "      <td>2019-10-18</td>\n",
       "      <td>9408</td>\n",
       "      <td>2019-10-18</td>\n",
       "      <td>1</td>\n",
       "      <td>0</td>\n",
       "      <td>0</td>\n",
       "      <td>1</td>\n",
       "      <td>0</td>\n",
       "    </tr>\n",
       "    <tr>\n",
       "      <th>7373</th>\n",
       "      <td>2019-10-09 13:20:22</td>\n",
       "      <td>tips_show</td>\n",
       "      <td>17171949-e046-4620-be96-dcfca0fd7a5c</td>\n",
       "      <td>yandex</td>\n",
       "      <td>2019-10-09</td>\n",
       "      <td>2019-10-09</td>\n",
       "      <td>1035</td>\n",
       "      <td>2019-10-09</td>\n",
       "      <td>1</td>\n",
       "      <td>0</td>\n",
       "      <td>0</td>\n",
       "      <td>1</td>\n",
       "      <td>0</td>\n",
       "    </tr>\n",
       "    <tr>\n",
       "      <th>40799</th>\n",
       "      <td>2019-10-26 13:36:20</td>\n",
       "      <td>tips_show</td>\n",
       "      <td>96cef8c5-327f-49f4-98ec-cb1d9a931d48</td>\n",
       "      <td>yandex</td>\n",
       "      <td>2019-10-26</td>\n",
       "      <td>2019-10-26</td>\n",
       "      <td>5794</td>\n",
       "      <td>2019-10-28</td>\n",
       "      <td>3</td>\n",
       "      <td>0</td>\n",
       "      <td>0</td>\n",
       "      <td>1</td>\n",
       "      <td>0</td>\n",
       "    </tr>\n",
       "  </tbody>\n",
       "</table>\n",
       "</div>"
      ],
      "text/plain": [
       "               event_time   event_name                               user_id  \\\n",
       "70563 2019-10-28 09:04:22  photos_show  f7ebe532-628f-474e-9a99-74ccd6880373   \n",
       "37448 2019-10-26 17:36:03    tips_show  8838c496-799c-48b9-9db9-f1415761ee69   \n",
       "68566 2019-10-18 19:20:03    tips_show  f06b73ca-9f77-4509-8c1d-c2cad213746d   \n",
       "7373  2019-10-09 13:20:22    tips_show  17171949-e046-4620-be96-dcfca0fd7a5c   \n",
       "40799 2019-10-26 13:36:20    tips_show  96cef8c5-327f-49f4-98ec-cb1d9a931d48   \n",
       "\n",
       "       source event_date event_date_graph  session_id    last_dt  duration  \\\n",
       "70563  yandex 2019-10-28       2019-10-28        9705 2019-10-28         1   \n",
       "37448   other 2019-10-26       2019-10-26        5324 2019-10-26         1   \n",
       "68566  google 2019-10-18       2019-10-18        9408 2019-10-18         1   \n",
       "7373   yandex 2019-10-09       2019-10-09        1035 2019-10-09         1   \n",
       "40799  yandex 2019-10-26       2019-10-26        5794 2019-10-28         3   \n",
       "\n",
       "      contacts_show photos_show tips_show search  \n",
       "70563             0           1         0      0  \n",
       "37448             0           0         1      0  \n",
       "68566             0           0         1      0  \n",
       "7373              0           0         1      0  \n",
       "40799             0           0         1      0  "
      ]
     },
     "execution_count": 71,
     "metadata": {},
     "output_type": "execute_result"
    }
   ],
   "source": [
    "df.sample(5)"
   ]
  },
  {
   "cell_type": "code",
   "execution_count": 72,
   "id": "00a514e6",
   "metadata": {},
   "outputs": [
    {
     "data": {
      "text/html": [
       "<div>\n",
       "<style scoped>\n",
       "    .dataframe tbody tr th:only-of-type {\n",
       "        vertical-align: middle;\n",
       "    }\n",
       "\n",
       "    .dataframe tbody tr th {\n",
       "        vertical-align: top;\n",
       "    }\n",
       "\n",
       "    .dataframe thead th {\n",
       "        text-align: right;\n",
       "    }\n",
       "</style>\n",
       "<table border=\"1\" class=\"dataframe\">\n",
       "  <thead>\n",
       "    <tr style=\"text-align: right;\">\n",
       "      <th></th>\n",
       "      <th>duration</th>\n",
       "      <th>session_id</th>\n",
       "      <th>event_name</th>\n",
       "      <th>contacts_show</th>\n",
       "      <th>photos_show</th>\n",
       "      <th>tips_show</th>\n",
       "      <th>search</th>\n",
       "    </tr>\n",
       "    <tr>\n",
       "      <th>user_id</th>\n",
       "      <th></th>\n",
       "      <th></th>\n",
       "      <th></th>\n",
       "      <th></th>\n",
       "      <th></th>\n",
       "      <th></th>\n",
       "      <th></th>\n",
       "    </tr>\n",
       "  </thead>\n",
       "  <tbody>\n",
       "    <tr>\n",
       "      <th>0001b1d5-b74a-4cbf-aeb0-7df5947bf349</th>\n",
       "      <td>6.742857</td>\n",
       "      <td>35</td>\n",
       "      <td>35</td>\n",
       "      <td>0</td>\n",
       "      <td>0</td>\n",
       "      <td>1</td>\n",
       "      <td>0</td>\n",
       "    </tr>\n",
       "    <tr>\n",
       "      <th>00157779-810c-4498-9e05-a1e9e3cedf93</th>\n",
       "      <td>9.915493</td>\n",
       "      <td>71</td>\n",
       "      <td>71</td>\n",
       "      <td>11</td>\n",
       "      <td>1</td>\n",
       "      <td>0</td>\n",
       "      <td>1</td>\n",
       "    </tr>\n",
       "    <tr>\n",
       "      <th>00463033-5717-4bf1-91b4-09183923b9df</th>\n",
       "      <td>1.000000</td>\n",
       "      <td>10</td>\n",
       "      <td>10</td>\n",
       "      <td>0</td>\n",
       "      <td>1</td>\n",
       "      <td>0</td>\n",
       "      <td>0</td>\n",
       "    </tr>\n",
       "    <tr>\n",
       "      <th>004690c3-5a84-4bb7-a8af-e0c8f8fca64e</th>\n",
       "      <td>6.718750</td>\n",
       "      <td>32</td>\n",
       "      <td>32</td>\n",
       "      <td>0</td>\n",
       "      <td>0</td>\n",
       "      <td>1</td>\n",
       "      <td>1</td>\n",
       "    </tr>\n",
       "    <tr>\n",
       "      <th>00551e79-152e-4441-9cf7-565d7eb04090</th>\n",
       "      <td>2.625000</td>\n",
       "      <td>8</td>\n",
       "      <td>8</td>\n",
       "      <td>3</td>\n",
       "      <td>1</td>\n",
       "      <td>0</td>\n",
       "      <td>1</td>\n",
       "    </tr>\n",
       "    <tr>\n",
       "      <th>...</th>\n",
       "      <td>...</td>\n",
       "      <td>...</td>\n",
       "      <td>...</td>\n",
       "      <td>...</td>\n",
       "      <td>...</td>\n",
       "      <td>...</td>\n",
       "      <td>...</td>\n",
       "    </tr>\n",
       "    <tr>\n",
       "      <th>ffab8d8a-30bb-424a-a3ab-0b63ebbf7b07</th>\n",
       "      <td>8.647059</td>\n",
       "      <td>17</td>\n",
       "      <td>17</td>\n",
       "      <td>0</td>\n",
       "      <td>0</td>\n",
       "      <td>1</td>\n",
       "      <td>0</td>\n",
       "    </tr>\n",
       "    <tr>\n",
       "      <th>ffc01466-fdb1-4460-ae94-e800f52eb136</th>\n",
       "      <td>1.000000</td>\n",
       "      <td>7</td>\n",
       "      <td>7</td>\n",
       "      <td>1</td>\n",
       "      <td>1</td>\n",
       "      <td>0</td>\n",
       "      <td>0</td>\n",
       "    </tr>\n",
       "    <tr>\n",
       "      <th>ffcf50d9-293c-4254-8243-4890b030b238</th>\n",
       "      <td>1.000000</td>\n",
       "      <td>2</td>\n",
       "      <td>2</td>\n",
       "      <td>0</td>\n",
       "      <td>0</td>\n",
       "      <td>1</td>\n",
       "      <td>0</td>\n",
       "    </tr>\n",
       "    <tr>\n",
       "      <th>ffe68f10-e48e-470e-be9b-eeb93128ff1a</th>\n",
       "      <td>4.000000</td>\n",
       "      <td>13</td>\n",
       "      <td>13</td>\n",
       "      <td>1</td>\n",
       "      <td>1</td>\n",
       "      <td>0</td>\n",
       "      <td>1</td>\n",
       "    </tr>\n",
       "    <tr>\n",
       "      <th>fffb9e79-b927-4dbb-9b48-7fd09b23a62b</th>\n",
       "      <td>12.562914</td>\n",
       "      <td>302</td>\n",
       "      <td>302</td>\n",
       "      <td>68</td>\n",
       "      <td>0</td>\n",
       "      <td>1</td>\n",
       "      <td>0</td>\n",
       "    </tr>\n",
       "  </tbody>\n",
       "</table>\n",
       "<p>4293 rows × 7 columns</p>\n",
       "</div>"
      ],
      "text/plain": [
       "                                       duration  session_id  event_name  \\\n",
       "user_id                                                                   \n",
       "0001b1d5-b74a-4cbf-aeb0-7df5947bf349   6.742857          35          35   \n",
       "00157779-810c-4498-9e05-a1e9e3cedf93   9.915493          71          71   \n",
       "00463033-5717-4bf1-91b4-09183923b9df   1.000000          10          10   \n",
       "004690c3-5a84-4bb7-a8af-e0c8f8fca64e   6.718750          32          32   \n",
       "00551e79-152e-4441-9cf7-565d7eb04090   2.625000           8           8   \n",
       "...                                         ...         ...         ...   \n",
       "ffab8d8a-30bb-424a-a3ab-0b63ebbf7b07   8.647059          17          17   \n",
       "ffc01466-fdb1-4460-ae94-e800f52eb136   1.000000           7           7   \n",
       "ffcf50d9-293c-4254-8243-4890b030b238   1.000000           2           2   \n",
       "ffe68f10-e48e-470e-be9b-eeb93128ff1a   4.000000          13          13   \n",
       "fffb9e79-b927-4dbb-9b48-7fd09b23a62b  12.562914         302         302   \n",
       "\n",
       "                                      contacts_show  photos_show  tips_show  \\\n",
       "user_id                                                                       \n",
       "0001b1d5-b74a-4cbf-aeb0-7df5947bf349              0            0          1   \n",
       "00157779-810c-4498-9e05-a1e9e3cedf93             11            1          0   \n",
       "00463033-5717-4bf1-91b4-09183923b9df              0            1          0   \n",
       "004690c3-5a84-4bb7-a8af-e0c8f8fca64e              0            0          1   \n",
       "00551e79-152e-4441-9cf7-565d7eb04090              3            1          0   \n",
       "...                                             ...          ...        ...   \n",
       "ffab8d8a-30bb-424a-a3ab-0b63ebbf7b07              0            0          1   \n",
       "ffc01466-fdb1-4460-ae94-e800f52eb136              1            1          0   \n",
       "ffcf50d9-293c-4254-8243-4890b030b238              0            0          1   \n",
       "ffe68f10-e48e-470e-be9b-eeb93128ff1a              1            1          0   \n",
       "fffb9e79-b927-4dbb-9b48-7fd09b23a62b             68            0          1   \n",
       "\n",
       "                                      search  \n",
       "user_id                                       \n",
       "0001b1d5-b74a-4cbf-aeb0-7df5947bf349       0  \n",
       "00157779-810c-4498-9e05-a1e9e3cedf93       1  \n",
       "00463033-5717-4bf1-91b4-09183923b9df       0  \n",
       "004690c3-5a84-4bb7-a8af-e0c8f8fca64e       1  \n",
       "00551e79-152e-4441-9cf7-565d7eb04090       1  \n",
       "...                                      ...  \n",
       "ffab8d8a-30bb-424a-a3ab-0b63ebbf7b07       0  \n",
       "ffc01466-fdb1-4460-ae94-e800f52eb136       0  \n",
       "ffcf50d9-293c-4254-8243-4890b030b238       0  \n",
       "ffe68f10-e48e-470e-be9b-eeb93128ff1a       1  \n",
       "fffb9e79-b927-4dbb-9b48-7fd09b23a62b       0  \n",
       "\n",
       "[4293 rows x 7 columns]"
      ]
     },
     "execution_count": 72,
     "metadata": {},
     "output_type": "execute_result"
    }
   ],
   "source": [
    "user_groups = df.groupby('user_id').agg({'duration':'mean', \n",
    "                                                          'session_id':'count', \n",
    "                                                          'event_name':'count',\n",
    "                                                          'contacts_show':'sum', \n",
    "                                                          'photos_show':'max',\n",
    "                                                          'tips_show':'max',\n",
    "                                                          'search':'max'})\n",
    "\n",
    "user_groups"
   ]
  },
  {
   "cell_type": "markdown",
   "id": "3ddb0a76",
   "metadata": {},
   "source": [
    "### Считаем конверсию для каждой из групп <a class=\"anchor\" id=\"conv_group\"></a>"
   ]
  },
  {
   "cell_type": "code",
   "execution_count": 73,
   "id": "d9a0ba15",
   "metadata": {},
   "outputs": [
    {
     "data": {
      "text/html": [
       "<div>\n",
       "<style scoped>\n",
       "    .dataframe tbody tr th:only-of-type {\n",
       "        vertical-align: middle;\n",
       "    }\n",
       "\n",
       "    .dataframe tbody tr th {\n",
       "        vertical-align: top;\n",
       "    }\n",
       "\n",
       "    .dataframe thead th {\n",
       "        text-align: right;\n",
       "    }\n",
       "</style>\n",
       "<table border=\"1\" class=\"dataframe\">\n",
       "  <thead>\n",
       "    <tr style=\"text-align: right;\">\n",
       "      <th></th>\n",
       "      <th>duration</th>\n",
       "      <th>session_id</th>\n",
       "      <th>event_name</th>\n",
       "      <th>contacts_show</th>\n",
       "      <th>photos_show</th>\n",
       "      <th>tips_show</th>\n",
       "      <th>search</th>\n",
       "      <th>conversion</th>\n",
       "    </tr>\n",
       "    <tr>\n",
       "      <th>user_id</th>\n",
       "      <th></th>\n",
       "      <th></th>\n",
       "      <th></th>\n",
       "      <th></th>\n",
       "      <th></th>\n",
       "      <th></th>\n",
       "      <th></th>\n",
       "      <th></th>\n",
       "    </tr>\n",
       "  </thead>\n",
       "  <tbody>\n",
       "    <tr>\n",
       "      <th>0001b1d5-b74a-4cbf-aeb0-7df5947bf349</th>\n",
       "      <td>6.742857</td>\n",
       "      <td>35</td>\n",
       "      <td>35</td>\n",
       "      <td>0</td>\n",
       "      <td>0</td>\n",
       "      <td>1</td>\n",
       "      <td>0</td>\n",
       "      <td>0.00</td>\n",
       "    </tr>\n",
       "    <tr>\n",
       "      <th>00157779-810c-4498-9e05-a1e9e3cedf93</th>\n",
       "      <td>9.915493</td>\n",
       "      <td>71</td>\n",
       "      <td>71</td>\n",
       "      <td>11</td>\n",
       "      <td>1</td>\n",
       "      <td>0</td>\n",
       "      <td>1</td>\n",
       "      <td>0.15</td>\n",
       "    </tr>\n",
       "    <tr>\n",
       "      <th>00463033-5717-4bf1-91b4-09183923b9df</th>\n",
       "      <td>1.000000</td>\n",
       "      <td>10</td>\n",
       "      <td>10</td>\n",
       "      <td>0</td>\n",
       "      <td>1</td>\n",
       "      <td>0</td>\n",
       "      <td>0</td>\n",
       "      <td>0.00</td>\n",
       "    </tr>\n",
       "    <tr>\n",
       "      <th>004690c3-5a84-4bb7-a8af-e0c8f8fca64e</th>\n",
       "      <td>6.718750</td>\n",
       "      <td>32</td>\n",
       "      <td>32</td>\n",
       "      <td>0</td>\n",
       "      <td>0</td>\n",
       "      <td>1</td>\n",
       "      <td>1</td>\n",
       "      <td>0.00</td>\n",
       "    </tr>\n",
       "    <tr>\n",
       "      <th>00551e79-152e-4441-9cf7-565d7eb04090</th>\n",
       "      <td>2.625000</td>\n",
       "      <td>8</td>\n",
       "      <td>8</td>\n",
       "      <td>3</td>\n",
       "      <td>1</td>\n",
       "      <td>0</td>\n",
       "      <td>1</td>\n",
       "      <td>0.38</td>\n",
       "    </tr>\n",
       "    <tr>\n",
       "      <th>...</th>\n",
       "      <td>...</td>\n",
       "      <td>...</td>\n",
       "      <td>...</td>\n",
       "      <td>...</td>\n",
       "      <td>...</td>\n",
       "      <td>...</td>\n",
       "      <td>...</td>\n",
       "      <td>...</td>\n",
       "    </tr>\n",
       "    <tr>\n",
       "      <th>ffab8d8a-30bb-424a-a3ab-0b63ebbf7b07</th>\n",
       "      <td>8.647059</td>\n",
       "      <td>17</td>\n",
       "      <td>17</td>\n",
       "      <td>0</td>\n",
       "      <td>0</td>\n",
       "      <td>1</td>\n",
       "      <td>0</td>\n",
       "      <td>0.00</td>\n",
       "    </tr>\n",
       "    <tr>\n",
       "      <th>ffc01466-fdb1-4460-ae94-e800f52eb136</th>\n",
       "      <td>1.000000</td>\n",
       "      <td>7</td>\n",
       "      <td>7</td>\n",
       "      <td>1</td>\n",
       "      <td>1</td>\n",
       "      <td>0</td>\n",
       "      <td>0</td>\n",
       "      <td>0.14</td>\n",
       "    </tr>\n",
       "    <tr>\n",
       "      <th>ffcf50d9-293c-4254-8243-4890b030b238</th>\n",
       "      <td>1.000000</td>\n",
       "      <td>2</td>\n",
       "      <td>2</td>\n",
       "      <td>0</td>\n",
       "      <td>0</td>\n",
       "      <td>1</td>\n",
       "      <td>0</td>\n",
       "      <td>0.00</td>\n",
       "    </tr>\n",
       "    <tr>\n",
       "      <th>ffe68f10-e48e-470e-be9b-eeb93128ff1a</th>\n",
       "      <td>4.000000</td>\n",
       "      <td>13</td>\n",
       "      <td>13</td>\n",
       "      <td>1</td>\n",
       "      <td>1</td>\n",
       "      <td>0</td>\n",
       "      <td>1</td>\n",
       "      <td>0.08</td>\n",
       "    </tr>\n",
       "    <tr>\n",
       "      <th>fffb9e79-b927-4dbb-9b48-7fd09b23a62b</th>\n",
       "      <td>12.562914</td>\n",
       "      <td>302</td>\n",
       "      <td>302</td>\n",
       "      <td>68</td>\n",
       "      <td>0</td>\n",
       "      <td>1</td>\n",
       "      <td>0</td>\n",
       "      <td>0.23</td>\n",
       "    </tr>\n",
       "  </tbody>\n",
       "</table>\n",
       "<p>4293 rows × 8 columns</p>\n",
       "</div>"
      ],
      "text/plain": [
       "                                       duration  session_id  event_name  \\\n",
       "user_id                                                                   \n",
       "0001b1d5-b74a-4cbf-aeb0-7df5947bf349   6.742857          35          35   \n",
       "00157779-810c-4498-9e05-a1e9e3cedf93   9.915493          71          71   \n",
       "00463033-5717-4bf1-91b4-09183923b9df   1.000000          10          10   \n",
       "004690c3-5a84-4bb7-a8af-e0c8f8fca64e   6.718750          32          32   \n",
       "00551e79-152e-4441-9cf7-565d7eb04090   2.625000           8           8   \n",
       "...                                         ...         ...         ...   \n",
       "ffab8d8a-30bb-424a-a3ab-0b63ebbf7b07   8.647059          17          17   \n",
       "ffc01466-fdb1-4460-ae94-e800f52eb136   1.000000           7           7   \n",
       "ffcf50d9-293c-4254-8243-4890b030b238   1.000000           2           2   \n",
       "ffe68f10-e48e-470e-be9b-eeb93128ff1a   4.000000          13          13   \n",
       "fffb9e79-b927-4dbb-9b48-7fd09b23a62b  12.562914         302         302   \n",
       "\n",
       "                                      contacts_show  photos_show  tips_show  \\\n",
       "user_id                                                                       \n",
       "0001b1d5-b74a-4cbf-aeb0-7df5947bf349              0            0          1   \n",
       "00157779-810c-4498-9e05-a1e9e3cedf93             11            1          0   \n",
       "00463033-5717-4bf1-91b4-09183923b9df              0            1          0   \n",
       "004690c3-5a84-4bb7-a8af-e0c8f8fca64e              0            0          1   \n",
       "00551e79-152e-4441-9cf7-565d7eb04090              3            1          0   \n",
       "...                                             ...          ...        ...   \n",
       "ffab8d8a-30bb-424a-a3ab-0b63ebbf7b07              0            0          1   \n",
       "ffc01466-fdb1-4460-ae94-e800f52eb136              1            1          0   \n",
       "ffcf50d9-293c-4254-8243-4890b030b238              0            0          1   \n",
       "ffe68f10-e48e-470e-be9b-eeb93128ff1a              1            1          0   \n",
       "fffb9e79-b927-4dbb-9b48-7fd09b23a62b             68            0          1   \n",
       "\n",
       "                                      search  conversion  \n",
       "user_id                                                   \n",
       "0001b1d5-b74a-4cbf-aeb0-7df5947bf349       0        0.00  \n",
       "00157779-810c-4498-9e05-a1e9e3cedf93       1        0.15  \n",
       "00463033-5717-4bf1-91b4-09183923b9df       0        0.00  \n",
       "004690c3-5a84-4bb7-a8af-e0c8f8fca64e       1        0.00  \n",
       "00551e79-152e-4441-9cf7-565d7eb04090       1        0.38  \n",
       "...                                      ...         ...  \n",
       "ffab8d8a-30bb-424a-a3ab-0b63ebbf7b07       0        0.00  \n",
       "ffc01466-fdb1-4460-ae94-e800f52eb136       0        0.14  \n",
       "ffcf50d9-293c-4254-8243-4890b030b238       0        0.00  \n",
       "ffe68f10-e48e-470e-be9b-eeb93128ff1a       1        0.08  \n",
       "fffb9e79-b927-4dbb-9b48-7fd09b23a62b       0        0.23  \n",
       "\n",
       "[4293 rows x 8 columns]"
      ]
     },
     "execution_count": 73,
     "metadata": {},
     "output_type": "execute_result"
    }
   ],
   "source": [
    "user_groups['conversion'] = (user_groups['contacts_show']/user_groups['session_id']).round(2)\n",
    "user_groups"
   ]
  },
  {
   "cell_type": "code",
   "execution_count": 74,
   "id": "2d9c04b9",
   "metadata": {},
   "outputs": [
    {
     "data": {
      "text/html": [
       "<div>\n",
       "<style scoped>\n",
       "    .dataframe tbody tr th:only-of-type {\n",
       "        vertical-align: middle;\n",
       "    }\n",
       "\n",
       "    .dataframe tbody tr th {\n",
       "        vertical-align: top;\n",
       "    }\n",
       "\n",
       "    .dataframe thead th {\n",
       "        text-align: right;\n",
       "    }\n",
       "</style>\n",
       "<table border=\"1\" class=\"dataframe\">\n",
       "  <thead>\n",
       "    <tr style=\"text-align: right;\">\n",
       "      <th></th>\n",
       "      <th>duration</th>\n",
       "      <th>session_id</th>\n",
       "      <th>event_name</th>\n",
       "      <th>contacts_show</th>\n",
       "      <th>photos_show</th>\n",
       "      <th>tips_show</th>\n",
       "      <th>search</th>\n",
       "      <th>conversion</th>\n",
       "    </tr>\n",
       "  </thead>\n",
       "  <tbody>\n",
       "    <tr>\n",
       "      <th>count</th>\n",
       "      <td>4293.000000</td>\n",
       "      <td>4293.000000</td>\n",
       "      <td>4293.000000</td>\n",
       "      <td>4293.000000</td>\n",
       "      <td>4293.000000</td>\n",
       "      <td>4293.000000</td>\n",
       "      <td>4293.000000</td>\n",
       "      <td>4293.000000</td>\n",
       "    </tr>\n",
       "    <tr>\n",
       "      <th>mean</th>\n",
       "      <td>2.374814</td>\n",
       "      <td>16.998137</td>\n",
       "      <td>16.998137</td>\n",
       "      <td>1.019334</td>\n",
       "      <td>0.255066</td>\n",
       "      <td>0.652457</td>\n",
       "      <td>0.388074</td>\n",
       "      <td>0.058658</td>\n",
       "    </tr>\n",
       "    <tr>\n",
       "      <th>std</th>\n",
       "      <td>2.967411</td>\n",
       "      <td>28.587157</td>\n",
       "      <td>28.587157</td>\n",
       "      <td>4.678115</td>\n",
       "      <td>0.435949</td>\n",
       "      <td>0.476245</td>\n",
       "      <td>0.487368</td>\n",
       "      <td>0.154683</td>\n",
       "    </tr>\n",
       "    <tr>\n",
       "      <th>min</th>\n",
       "      <td>1.000000</td>\n",
       "      <td>1.000000</td>\n",
       "      <td>1.000000</td>\n",
       "      <td>0.000000</td>\n",
       "      <td>0.000000</td>\n",
       "      <td>0.000000</td>\n",
       "      <td>0.000000</td>\n",
       "      <td>0.000000</td>\n",
       "    </tr>\n",
       "    <tr>\n",
       "      <th>25%</th>\n",
       "      <td>1.000000</td>\n",
       "      <td>5.000000</td>\n",
       "      <td>5.000000</td>\n",
       "      <td>0.000000</td>\n",
       "      <td>0.000000</td>\n",
       "      <td>0.000000</td>\n",
       "      <td>0.000000</td>\n",
       "      <td>0.000000</td>\n",
       "    </tr>\n",
       "    <tr>\n",
       "      <th>50%</th>\n",
       "      <td>1.000000</td>\n",
       "      <td>9.000000</td>\n",
       "      <td>9.000000</td>\n",
       "      <td>0.000000</td>\n",
       "      <td>0.000000</td>\n",
       "      <td>1.000000</td>\n",
       "      <td>0.000000</td>\n",
       "      <td>0.000000</td>\n",
       "    </tr>\n",
       "    <tr>\n",
       "      <th>75%</th>\n",
       "      <td>2.111111</td>\n",
       "      <td>17.000000</td>\n",
       "      <td>17.000000</td>\n",
       "      <td>0.000000</td>\n",
       "      <td>1.000000</td>\n",
       "      <td>1.000000</td>\n",
       "      <td>1.000000</td>\n",
       "      <td>0.000000</td>\n",
       "    </tr>\n",
       "    <tr>\n",
       "      <th>max</th>\n",
       "      <td>22.450704</td>\n",
       "      <td>470.000000</td>\n",
       "      <td>470.000000</td>\n",
       "      <td>136.000000</td>\n",
       "      <td>1.000000</td>\n",
       "      <td>1.000000</td>\n",
       "      <td>1.000000</td>\n",
       "      <td>1.000000</td>\n",
       "    </tr>\n",
       "  </tbody>\n",
       "</table>\n",
       "</div>"
      ],
      "text/plain": [
       "          duration   session_id   event_name  contacts_show  photos_show  \\\n",
       "count  4293.000000  4293.000000  4293.000000    4293.000000  4293.000000   \n",
       "mean      2.374814    16.998137    16.998137       1.019334     0.255066   \n",
       "std       2.967411    28.587157    28.587157       4.678115     0.435949   \n",
       "min       1.000000     1.000000     1.000000       0.000000     0.000000   \n",
       "25%       1.000000     5.000000     5.000000       0.000000     0.000000   \n",
       "50%       1.000000     9.000000     9.000000       0.000000     0.000000   \n",
       "75%       2.111111    17.000000    17.000000       0.000000     1.000000   \n",
       "max      22.450704   470.000000   470.000000     136.000000     1.000000   \n",
       "\n",
       "         tips_show       search   conversion  \n",
       "count  4293.000000  4293.000000  4293.000000  \n",
       "mean      0.652457     0.388074     0.058658  \n",
       "std       0.476245     0.487368     0.154683  \n",
       "min       0.000000     0.000000     0.000000  \n",
       "25%       0.000000     0.000000     0.000000  \n",
       "50%       1.000000     0.000000     0.000000  \n",
       "75%       1.000000     1.000000     0.000000  \n",
       "max       1.000000     1.000000     1.000000  "
      ]
     },
     "execution_count": 74,
     "metadata": {},
     "output_type": "execute_result"
    }
   ],
   "source": [
    "user_groups.describe()"
   ]
  },
  {
   "cell_type": "markdown",
   "id": "e113c781",
   "metadata": {},
   "source": [
    "Разделим пользователей на 3 группы в зависимости от их активности и достижения целевого действия:\n",
    "\n",
    "- Группа №1. Пользуются и смотрят контакты.\n",
    "\n",
    "- Группа №2. Пользуются приложением, но не смотрели контакты.\n",
    "\n",
    "- Группа №3. Почти не пользуются, контакты не смотрели."
   ]
  },
  {
   "cell_type": "code",
   "execution_count": 75,
   "id": "8efce805",
   "metadata": {},
   "outputs": [],
   "source": [
    "active_group = user_groups.query('duration >= 2 and contacts_show >= 1') #группа №1\n",
    "active_nocontacts_group = user_groups.query('duration >= 2 and contacts_show == 0') #группа №2\n",
    "inactive_group = user_groups.query('duration < 2 and contacts_show == 0') #группа №3"
   ]
  },
  {
   "cell_type": "code",
   "execution_count": 76,
   "id": "d155576a",
   "metadata": {},
   "outputs": [
    {
     "data": {
      "text/html": [
       "<div>\n",
       "<style scoped>\n",
       "    .dataframe tbody tr th:only-of-type {\n",
       "        vertical-align: middle;\n",
       "    }\n",
       "\n",
       "    .dataframe tbody tr th {\n",
       "        vertical-align: top;\n",
       "    }\n",
       "\n",
       "    .dataframe thead th {\n",
       "        text-align: right;\n",
       "    }\n",
       "</style>\n",
       "<table border=\"1\" class=\"dataframe\">\n",
       "  <thead>\n",
       "    <tr style=\"text-align: right;\">\n",
       "      <th></th>\n",
       "      <th>duration</th>\n",
       "      <th>session_id</th>\n",
       "      <th>event_name</th>\n",
       "      <th>contacts_show</th>\n",
       "      <th>photos_show</th>\n",
       "      <th>tips_show</th>\n",
       "      <th>search</th>\n",
       "      <th>conversion</th>\n",
       "    </tr>\n",
       "  </thead>\n",
       "  <tbody>\n",
       "    <tr>\n",
       "      <th>count</th>\n",
       "      <td>381.000000</td>\n",
       "      <td>381.000000</td>\n",
       "      <td>381.000000</td>\n",
       "      <td>381.000000</td>\n",
       "      <td>381.000000</td>\n",
       "      <td>381.000000</td>\n",
       "      <td>381.000000</td>\n",
       "      <td>381.000000</td>\n",
       "    </tr>\n",
       "    <tr>\n",
       "      <th>mean</th>\n",
       "      <td>6.087046</td>\n",
       "      <td>46.020997</td>\n",
       "      <td>46.020997</td>\n",
       "      <td>6.267717</td>\n",
       "      <td>0.438320</td>\n",
       "      <td>0.493438</td>\n",
       "      <td>0.488189</td>\n",
       "      <td>0.197270</td>\n",
       "    </tr>\n",
       "    <tr>\n",
       "      <th>std</th>\n",
       "      <td>3.963732</td>\n",
       "      <td>67.282668</td>\n",
       "      <td>67.282668</td>\n",
       "      <td>12.709372</td>\n",
       "      <td>0.496833</td>\n",
       "      <td>0.500614</td>\n",
       "      <td>0.500518</td>\n",
       "      <td>0.187691</td>\n",
       "    </tr>\n",
       "    <tr>\n",
       "      <th>min</th>\n",
       "      <td>2.000000</td>\n",
       "      <td>2.000000</td>\n",
       "      <td>2.000000</td>\n",
       "      <td>1.000000</td>\n",
       "      <td>0.000000</td>\n",
       "      <td>0.000000</td>\n",
       "      <td>0.000000</td>\n",
       "      <td>0.000000</td>\n",
       "    </tr>\n",
       "    <tr>\n",
       "      <th>25%</th>\n",
       "      <td>3.229885</td>\n",
       "      <td>10.000000</td>\n",
       "      <td>10.000000</td>\n",
       "      <td>1.000000</td>\n",
       "      <td>0.000000</td>\n",
       "      <td>0.000000</td>\n",
       "      <td>0.000000</td>\n",
       "      <td>0.060000</td>\n",
       "    </tr>\n",
       "    <tr>\n",
       "      <th>50%</th>\n",
       "      <td>4.875000</td>\n",
       "      <td>21.000000</td>\n",
       "      <td>21.000000</td>\n",
       "      <td>3.000000</td>\n",
       "      <td>0.000000</td>\n",
       "      <td>0.000000</td>\n",
       "      <td>0.000000</td>\n",
       "      <td>0.140000</td>\n",
       "    </tr>\n",
       "    <tr>\n",
       "      <th>75%</th>\n",
       "      <td>7.753780</td>\n",
       "      <td>55.000000</td>\n",
       "      <td>55.000000</td>\n",
       "      <td>6.000000</td>\n",
       "      <td>1.000000</td>\n",
       "      <td>1.000000</td>\n",
       "      <td>1.000000</td>\n",
       "      <td>0.250000</td>\n",
       "    </tr>\n",
       "    <tr>\n",
       "      <th>max</th>\n",
       "      <td>22.450704</td>\n",
       "      <td>470.000000</td>\n",
       "      <td>470.000000</td>\n",
       "      <td>136.000000</td>\n",
       "      <td>1.000000</td>\n",
       "      <td>1.000000</td>\n",
       "      <td>1.000000</td>\n",
       "      <td>1.000000</td>\n",
       "    </tr>\n",
       "  </tbody>\n",
       "</table>\n",
       "</div>"
      ],
      "text/plain": [
       "         duration  session_id  event_name  contacts_show  photos_show  \\\n",
       "count  381.000000  381.000000  381.000000     381.000000   381.000000   \n",
       "mean     6.087046   46.020997   46.020997       6.267717     0.438320   \n",
       "std      3.963732   67.282668   67.282668      12.709372     0.496833   \n",
       "min      2.000000    2.000000    2.000000       1.000000     0.000000   \n",
       "25%      3.229885   10.000000   10.000000       1.000000     0.000000   \n",
       "50%      4.875000   21.000000   21.000000       3.000000     0.000000   \n",
       "75%      7.753780   55.000000   55.000000       6.000000     1.000000   \n",
       "max     22.450704  470.000000  470.000000     136.000000     1.000000   \n",
       "\n",
       "        tips_show      search  conversion  \n",
       "count  381.000000  381.000000  381.000000  \n",
       "mean     0.493438    0.488189    0.197270  \n",
       "std      0.500614    0.500518    0.187691  \n",
       "min      0.000000    0.000000    0.000000  \n",
       "25%      0.000000    0.000000    0.060000  \n",
       "50%      0.000000    0.000000    0.140000  \n",
       "75%      1.000000    1.000000    0.250000  \n",
       "max      1.000000    1.000000    1.000000  "
      ]
     },
     "execution_count": 76,
     "metadata": {},
     "output_type": "execute_result"
    }
   ],
   "source": [
    "active_group.describe()"
   ]
  },
  {
   "cell_type": "code",
   "execution_count": null,
   "id": "d2d02072",
   "metadata": {},
   "outputs": [],
   "source": []
  },
  {
   "cell_type": "markdown",
   "id": "a86c8a47",
   "metadata": {},
   "source": [
    "Активные пользователи, достигают целевого действия"
   ]
  },
  {
   "cell_type": "code",
   "execution_count": 77,
   "id": "da6b84d2",
   "metadata": {},
   "outputs": [
    {
     "data": {
      "text/html": [
       "<div>\n",
       "<style scoped>\n",
       "    .dataframe tbody tr th:only-of-type {\n",
       "        vertical-align: middle;\n",
       "    }\n",
       "\n",
       "    .dataframe tbody tr th {\n",
       "        vertical-align: top;\n",
       "    }\n",
       "\n",
       "    .dataframe thead th {\n",
       "        text-align: right;\n",
       "    }\n",
       "</style>\n",
       "<table border=\"1\" class=\"dataframe\">\n",
       "  <thead>\n",
       "    <tr style=\"text-align: right;\">\n",
       "      <th></th>\n",
       "      <th>duration</th>\n",
       "      <th>session_id</th>\n",
       "      <th>event_name</th>\n",
       "      <th>contacts_show</th>\n",
       "      <th>photos_show</th>\n",
       "      <th>tips_show</th>\n",
       "      <th>search</th>\n",
       "      <th>conversion</th>\n",
       "    </tr>\n",
       "  </thead>\n",
       "  <tbody>\n",
       "    <tr>\n",
       "      <th>count</th>\n",
       "      <td>729.000000</td>\n",
       "      <td>729.000000</td>\n",
       "      <td>729.000000</td>\n",
       "      <td>729.0</td>\n",
       "      <td>729.000000</td>\n",
       "      <td>729.000000</td>\n",
       "      <td>729.000000</td>\n",
       "      <td>729.0</td>\n",
       "    </tr>\n",
       "    <tr>\n",
       "      <th>mean</th>\n",
       "      <td>6.091009</td>\n",
       "      <td>24.395062</td>\n",
       "      <td>24.395062</td>\n",
       "      <td>0.0</td>\n",
       "      <td>0.329218</td>\n",
       "      <td>0.614540</td>\n",
       "      <td>0.482853</td>\n",
       "      <td>0.0</td>\n",
       "    </tr>\n",
       "    <tr>\n",
       "      <th>std</th>\n",
       "      <td>3.888616</td>\n",
       "      <td>32.912351</td>\n",
       "      <td>32.912351</td>\n",
       "      <td>0.0</td>\n",
       "      <td>0.470252</td>\n",
       "      <td>0.487038</td>\n",
       "      <td>0.500049</td>\n",
       "      <td>0.0</td>\n",
       "    </tr>\n",
       "    <tr>\n",
       "      <th>min</th>\n",
       "      <td>2.000000</td>\n",
       "      <td>2.000000</td>\n",
       "      <td>2.000000</td>\n",
       "      <td>0.0</td>\n",
       "      <td>0.000000</td>\n",
       "      <td>0.000000</td>\n",
       "      <td>0.000000</td>\n",
       "      <td>0.0</td>\n",
       "    </tr>\n",
       "    <tr>\n",
       "      <th>25%</th>\n",
       "      <td>3.100000</td>\n",
       "      <td>7.000000</td>\n",
       "      <td>7.000000</td>\n",
       "      <td>0.0</td>\n",
       "      <td>0.000000</td>\n",
       "      <td>0.000000</td>\n",
       "      <td>0.000000</td>\n",
       "      <td>0.0</td>\n",
       "    </tr>\n",
       "    <tr>\n",
       "      <th>50%</th>\n",
       "      <td>5.000000</td>\n",
       "      <td>13.000000</td>\n",
       "      <td>13.000000</td>\n",
       "      <td>0.0</td>\n",
       "      <td>0.000000</td>\n",
       "      <td>1.000000</td>\n",
       "      <td>0.000000</td>\n",
       "      <td>0.0</td>\n",
       "    </tr>\n",
       "    <tr>\n",
       "      <th>75%</th>\n",
       "      <td>7.714286</td>\n",
       "      <td>27.000000</td>\n",
       "      <td>27.000000</td>\n",
       "      <td>0.0</td>\n",
       "      <td>1.000000</td>\n",
       "      <td>1.000000</td>\n",
       "      <td>1.000000</td>\n",
       "      <td>0.0</td>\n",
       "    </tr>\n",
       "    <tr>\n",
       "      <th>max</th>\n",
       "      <td>21.421182</td>\n",
       "      <td>406.000000</td>\n",
       "      <td>406.000000</td>\n",
       "      <td>0.0</td>\n",
       "      <td>1.000000</td>\n",
       "      <td>1.000000</td>\n",
       "      <td>1.000000</td>\n",
       "      <td>0.0</td>\n",
       "    </tr>\n",
       "  </tbody>\n",
       "</table>\n",
       "</div>"
      ],
      "text/plain": [
       "         duration  session_id  event_name  contacts_show  photos_show  \\\n",
       "count  729.000000  729.000000  729.000000          729.0   729.000000   \n",
       "mean     6.091009   24.395062   24.395062            0.0     0.329218   \n",
       "std      3.888616   32.912351   32.912351            0.0     0.470252   \n",
       "min      2.000000    2.000000    2.000000            0.0     0.000000   \n",
       "25%      3.100000    7.000000    7.000000            0.0     0.000000   \n",
       "50%      5.000000   13.000000   13.000000            0.0     0.000000   \n",
       "75%      7.714286   27.000000   27.000000            0.0     1.000000   \n",
       "max     21.421182  406.000000  406.000000            0.0     1.000000   \n",
       "\n",
       "        tips_show      search  conversion  \n",
       "count  729.000000  729.000000       729.0  \n",
       "mean     0.614540    0.482853         0.0  \n",
       "std      0.487038    0.500049         0.0  \n",
       "min      0.000000    0.000000         0.0  \n",
       "25%      0.000000    0.000000         0.0  \n",
       "50%      1.000000    0.000000         0.0  \n",
       "75%      1.000000    1.000000         0.0  \n",
       "max      1.000000    1.000000         0.0  "
      ]
     },
     "execution_count": 77,
     "metadata": {},
     "output_type": "execute_result"
    }
   ],
   "source": [
    "active_nocontacts_group.describe()"
   ]
  },
  {
   "cell_type": "markdown",
   "id": "d126ef9f",
   "metadata": {},
   "source": [
    "Активные пользователи, но не интересуются контактами. Возможно не могут найти то, что им нужно или им недостаточно функционала приложения"
   ]
  },
  {
   "cell_type": "code",
   "execution_count": 78,
   "id": "be4d681f",
   "metadata": {},
   "outputs": [
    {
     "data": {
      "text/html": [
       "<div>\n",
       "<style scoped>\n",
       "    .dataframe tbody tr th:only-of-type {\n",
       "        vertical-align: middle;\n",
       "    }\n",
       "\n",
       "    .dataframe tbody tr th {\n",
       "        vertical-align: top;\n",
       "    }\n",
       "\n",
       "    .dataframe thead th {\n",
       "        text-align: right;\n",
       "    }\n",
       "</style>\n",
       "<table border=\"1\" class=\"dataframe\">\n",
       "  <thead>\n",
       "    <tr style=\"text-align: right;\">\n",
       "      <th></th>\n",
       "      <th>duration</th>\n",
       "      <th>session_id</th>\n",
       "      <th>event_name</th>\n",
       "      <th>contacts_show</th>\n",
       "      <th>photos_show</th>\n",
       "      <th>tips_show</th>\n",
       "      <th>search</th>\n",
       "      <th>conversion</th>\n",
       "    </tr>\n",
       "  </thead>\n",
       "  <tbody>\n",
       "    <tr>\n",
       "      <th>count</th>\n",
       "      <td>2583.000000</td>\n",
       "      <td>2583.000000</td>\n",
       "      <td>2583.000000</td>\n",
       "      <td>2583.0</td>\n",
       "      <td>2583.000000</td>\n",
       "      <td>2583.000000</td>\n",
       "      <td>2583.000000</td>\n",
       "      <td>2583.0</td>\n",
       "    </tr>\n",
       "    <tr>\n",
       "      <th>mean</th>\n",
       "      <td>1.062906</td>\n",
       "      <td>11.083624</td>\n",
       "      <td>11.083624</td>\n",
       "      <td>0.0</td>\n",
       "      <td>0.199768</td>\n",
       "      <td>0.711189</td>\n",
       "      <td>0.362756</td>\n",
       "      <td>0.0</td>\n",
       "    </tr>\n",
       "    <tr>\n",
       "      <th>std</th>\n",
       "      <td>0.197212</td>\n",
       "      <td>12.138657</td>\n",
       "      <td>12.138657</td>\n",
       "      <td>0.0</td>\n",
       "      <td>0.399903</td>\n",
       "      <td>0.453298</td>\n",
       "      <td>0.480888</td>\n",
       "      <td>0.0</td>\n",
       "    </tr>\n",
       "    <tr>\n",
       "      <th>min</th>\n",
       "      <td>1.000000</td>\n",
       "      <td>1.000000</td>\n",
       "      <td>1.000000</td>\n",
       "      <td>0.0</td>\n",
       "      <td>0.000000</td>\n",
       "      <td>0.000000</td>\n",
       "      <td>0.000000</td>\n",
       "      <td>0.0</td>\n",
       "    </tr>\n",
       "    <tr>\n",
       "      <th>25%</th>\n",
       "      <td>1.000000</td>\n",
       "      <td>5.000000</td>\n",
       "      <td>5.000000</td>\n",
       "      <td>0.0</td>\n",
       "      <td>0.000000</td>\n",
       "      <td>0.000000</td>\n",
       "      <td>0.000000</td>\n",
       "      <td>0.0</td>\n",
       "    </tr>\n",
       "    <tr>\n",
       "      <th>50%</th>\n",
       "      <td>1.000000</td>\n",
       "      <td>7.000000</td>\n",
       "      <td>7.000000</td>\n",
       "      <td>0.0</td>\n",
       "      <td>0.000000</td>\n",
       "      <td>1.000000</td>\n",
       "      <td>0.000000</td>\n",
       "      <td>0.0</td>\n",
       "    </tr>\n",
       "    <tr>\n",
       "      <th>75%</th>\n",
       "      <td>1.000000</td>\n",
       "      <td>13.000000</td>\n",
       "      <td>13.000000</td>\n",
       "      <td>0.0</td>\n",
       "      <td>0.000000</td>\n",
       "      <td>1.000000</td>\n",
       "      <td>1.000000</td>\n",
       "      <td>0.0</td>\n",
       "    </tr>\n",
       "    <tr>\n",
       "      <th>max</th>\n",
       "      <td>1.975610</td>\n",
       "      <td>170.000000</td>\n",
       "      <td>170.000000</td>\n",
       "      <td>0.0</td>\n",
       "      <td>1.000000</td>\n",
       "      <td>1.000000</td>\n",
       "      <td>1.000000</td>\n",
       "      <td>0.0</td>\n",
       "    </tr>\n",
       "  </tbody>\n",
       "</table>\n",
       "</div>"
      ],
      "text/plain": [
       "          duration   session_id   event_name  contacts_show  photos_show  \\\n",
       "count  2583.000000  2583.000000  2583.000000         2583.0  2583.000000   \n",
       "mean      1.062906    11.083624    11.083624            0.0     0.199768   \n",
       "std       0.197212    12.138657    12.138657            0.0     0.399903   \n",
       "min       1.000000     1.000000     1.000000            0.0     0.000000   \n",
       "25%       1.000000     5.000000     5.000000            0.0     0.000000   \n",
       "50%       1.000000     7.000000     7.000000            0.0     0.000000   \n",
       "75%       1.000000    13.000000    13.000000            0.0     0.000000   \n",
       "max       1.975610   170.000000   170.000000            0.0     1.000000   \n",
       "\n",
       "         tips_show       search  conversion  \n",
       "count  2583.000000  2583.000000      2583.0  \n",
       "mean      0.711189     0.362756         0.0  \n",
       "std       0.453298     0.480888         0.0  \n",
       "min       0.000000     0.000000         0.0  \n",
       "25%       0.000000     0.000000         0.0  \n",
       "50%       1.000000     0.000000         0.0  \n",
       "75%       1.000000     1.000000         0.0  \n",
       "max       1.000000     1.000000         0.0  "
      ]
     },
     "execution_count": 78,
     "metadata": {},
     "output_type": "execute_result"
    }
   ],
   "source": [
    "inactive_group.describe()"
   ]
  },
  {
   "cell_type": "markdown",
   "id": "7b2a1131",
   "metadata": {},
   "source": [
    "Самая многочисленная группа, почти не пользуются и не достигают цели"
   ]
  },
  {
   "cell_type": "markdown",
   "id": "fa5c6328",
   "metadata": {},
   "source": [
    "## RETENTION RATE по группам пользователей <a class=\"anchor\" id=\"rr_group\"></a>"
   ]
  },
  {
   "cell_type": "code",
   "execution_count": 79,
   "id": "9d0fec22",
   "metadata": {},
   "outputs": [
    {
     "data": {
      "text/html": [
       "<div>\n",
       "<style scoped>\n",
       "    .dataframe tbody tr th:only-of-type {\n",
       "        vertical-align: middle;\n",
       "    }\n",
       "\n",
       "    .dataframe tbody tr th {\n",
       "        vertical-align: top;\n",
       "    }\n",
       "\n",
       "    .dataframe thead th {\n",
       "        text-align: right;\n",
       "    }\n",
       "</style>\n",
       "<table border=\"1\" class=\"dataframe\">\n",
       "  <thead>\n",
       "    <tr style=\"text-align: right;\">\n",
       "      <th></th>\n",
       "      <th>event_time</th>\n",
       "      <th>event_name</th>\n",
       "      <th>user_id</th>\n",
       "      <th>source</th>\n",
       "      <th>event_date</th>\n",
       "      <th>event_date_graph</th>\n",
       "      <th>session_id</th>\n",
       "      <th>last_dt</th>\n",
       "      <th>duration</th>\n",
       "      <th>contacts_show</th>\n",
       "      <th>photos_show</th>\n",
       "      <th>tips_show</th>\n",
       "      <th>search</th>\n",
       "    </tr>\n",
       "  </thead>\n",
       "  <tbody>\n",
       "    <tr>\n",
       "      <th>56216</th>\n",
       "      <td>2019-10-19 20:27:52</td>\n",
       "      <td>search</td>\n",
       "      <td>c83f1d00-59be-4af4-99e7-f75e148aad59</td>\n",
       "      <td>google</td>\n",
       "      <td>2019-10-19</td>\n",
       "      <td>2019-10-19</td>\n",
       "      <td>7801</td>\n",
       "      <td>2019-10-19</td>\n",
       "      <td>1</td>\n",
       "      <td>0</td>\n",
       "      <td>0</td>\n",
       "      <td>0</td>\n",
       "      <td>1</td>\n",
       "    </tr>\n",
       "    <tr>\n",
       "      <th>29888</th>\n",
       "      <td>2019-10-31 14:15:31</td>\n",
       "      <td>tips_show</td>\n",
       "      <td>6c68d38e-14a0-4b9a-ab9d-7bd38367beed</td>\n",
       "      <td>yandex</td>\n",
       "      <td>2019-10-31</td>\n",
       "      <td>2019-10-31</td>\n",
       "      <td>4210</td>\n",
       "      <td>2019-10-31</td>\n",
       "      <td>1</td>\n",
       "      <td>0</td>\n",
       "      <td>0</td>\n",
       "      <td>1</td>\n",
       "      <td>0</td>\n",
       "    </tr>\n",
       "    <tr>\n",
       "      <th>53612</th>\n",
       "      <td>2019-10-16 14:12:21</td>\n",
       "      <td>search</td>\n",
       "      <td>bfe95d6c-79e3-4532-a8b7-e2270d7c8a65</td>\n",
       "      <td>google</td>\n",
       "      <td>2019-10-16</td>\n",
       "      <td>2019-10-16</td>\n",
       "      <td>7430</td>\n",
       "      <td>2019-11-03</td>\n",
       "      <td>19</td>\n",
       "      <td>0</td>\n",
       "      <td>0</td>\n",
       "      <td>0</td>\n",
       "      <td>1</td>\n",
       "    </tr>\n",
       "    <tr>\n",
       "      <th>62040</th>\n",
       "      <td>2019-10-17 22:09:58</td>\n",
       "      <td>advert_open</td>\n",
       "      <td>daaedbff-f5b3-4e85-a12e-6413d7a336d1</td>\n",
       "      <td>google</td>\n",
       "      <td>2019-10-17</td>\n",
       "      <td>2019-10-17</td>\n",
       "      <td>8611</td>\n",
       "      <td>2019-10-23</td>\n",
       "      <td>7</td>\n",
       "      <td>0</td>\n",
       "      <td>0</td>\n",
       "      <td>0</td>\n",
       "      <td>0</td>\n",
       "    </tr>\n",
       "    <tr>\n",
       "      <th>43305</th>\n",
       "      <td>2019-10-08 16:37:32</td>\n",
       "      <td>map</td>\n",
       "      <td>9ce63488-758a-481a-bcb5-a02b467e1d84</td>\n",
       "      <td>yandex</td>\n",
       "      <td>2019-10-08</td>\n",
       "      <td>2019-10-08</td>\n",
       "      <td>6027</td>\n",
       "      <td>2019-10-29</td>\n",
       "      <td>22</td>\n",
       "      <td>0</td>\n",
       "      <td>0</td>\n",
       "      <td>0</td>\n",
       "      <td>0</td>\n",
       "    </tr>\n",
       "  </tbody>\n",
       "</table>\n",
       "</div>"
      ],
      "text/plain": [
       "               event_time   event_name                               user_id  \\\n",
       "56216 2019-10-19 20:27:52       search  c83f1d00-59be-4af4-99e7-f75e148aad59   \n",
       "29888 2019-10-31 14:15:31    tips_show  6c68d38e-14a0-4b9a-ab9d-7bd38367beed   \n",
       "53612 2019-10-16 14:12:21       search  bfe95d6c-79e3-4532-a8b7-e2270d7c8a65   \n",
       "62040 2019-10-17 22:09:58  advert_open  daaedbff-f5b3-4e85-a12e-6413d7a336d1   \n",
       "43305 2019-10-08 16:37:32          map  9ce63488-758a-481a-bcb5-a02b467e1d84   \n",
       "\n",
       "       source event_date event_date_graph  session_id    last_dt  duration  \\\n",
       "56216  google 2019-10-19       2019-10-19        7801 2019-10-19         1   \n",
       "29888  yandex 2019-10-31       2019-10-31        4210 2019-10-31         1   \n",
       "53612  google 2019-10-16       2019-10-16        7430 2019-11-03        19   \n",
       "62040  google 2019-10-17       2019-10-17        8611 2019-10-23         7   \n",
       "43305  yandex 2019-10-08       2019-10-08        6027 2019-10-29        22   \n",
       "\n",
       "      contacts_show photos_show tips_show search  \n",
       "56216             0           0         0      1  \n",
       "29888             0           0         1      0  \n",
       "53612             0           0         0      1  \n",
       "62040             0           0         0      0  \n",
       "43305             0           0         0      0  "
      ]
     },
     "execution_count": 79,
     "metadata": {},
     "output_type": "execute_result"
    }
   ],
   "source": [
    "df.sample(5)"
   ]
  },
  {
   "cell_type": "code",
   "execution_count": 80,
   "id": "c7e0ce99",
   "metadata": {},
   "outputs": [
    {
     "data": {
      "text/html": [
       "<div>\n",
       "<style scoped>\n",
       "    .dataframe tbody tr th:only-of-type {\n",
       "        vertical-align: middle;\n",
       "    }\n",
       "\n",
       "    .dataframe tbody tr th {\n",
       "        vertical-align: top;\n",
       "    }\n",
       "\n",
       "    .dataframe thead th {\n",
       "        text-align: right;\n",
       "    }\n",
       "</style>\n",
       "<table border=\"1\" class=\"dataframe\">\n",
       "  <thead>\n",
       "    <tr style=\"text-align: right;\">\n",
       "      <th></th>\n",
       "      <th>event_time</th>\n",
       "      <th>event_name</th>\n",
       "      <th>user_id</th>\n",
       "      <th>source</th>\n",
       "      <th>event_date</th>\n",
       "      <th>event_date_graph</th>\n",
       "      <th>start_dt</th>\n",
       "      <th>active_week</th>\n",
       "      <th>start_week</th>\n",
       "      <th>cohort_lifetime</th>\n",
       "    </tr>\n",
       "  </thead>\n",
       "  <tbody>\n",
       "    <tr>\n",
       "      <th>57845</th>\n",
       "      <td>2019-10-29 11:50:15</td>\n",
       "      <td>tips_show</td>\n",
       "      <td>be0d9065-d1f9-4717-9eae-d64599509a54</td>\n",
       "      <td>google</td>\n",
       "      <td>2019-10-29</td>\n",
       "      <td>2019-10-29</td>\n",
       "      <td>2019-10-25</td>\n",
       "      <td>2019-10-28</td>\n",
       "      <td>2019-10-21</td>\n",
       "      <td>1</td>\n",
       "    </tr>\n",
       "    <tr>\n",
       "      <th>48946</th>\n",
       "      <td>2019-10-26 13:40:16</td>\n",
       "      <td>advert_open</td>\n",
       "      <td>82ee44d2-149b-407d-83af-83503d103631</td>\n",
       "      <td>google</td>\n",
       "      <td>2019-10-26</td>\n",
       "      <td>2019-10-26</td>\n",
       "      <td>2019-10-21</td>\n",
       "      <td>2019-10-21</td>\n",
       "      <td>2019-10-21</td>\n",
       "      <td>0</td>\n",
       "    </tr>\n",
       "    <tr>\n",
       "      <th>51746</th>\n",
       "      <td>2019-10-27 11:09:26</td>\n",
       "      <td>search</td>\n",
       "      <td>2552d969-dbd4-4fcb-aad2-5b2fcff28d61</td>\n",
       "      <td>yandex</td>\n",
       "      <td>2019-10-27</td>\n",
       "      <td>2019-10-27</td>\n",
       "      <td>2019-10-25</td>\n",
       "      <td>2019-10-21</td>\n",
       "      <td>2019-10-21</td>\n",
       "      <td>0</td>\n",
       "    </tr>\n",
       "    <tr>\n",
       "      <th>62237</th>\n",
       "      <td>2019-10-30 19:31:48</td>\n",
       "      <td>tips_show</td>\n",
       "      <td>aed9d717-9562-4ac9-8629-d7ef7fd7029e</td>\n",
       "      <td>yandex</td>\n",
       "      <td>2019-10-30</td>\n",
       "      <td>2019-10-30</td>\n",
       "      <td>2019-10-26</td>\n",
       "      <td>2019-10-28</td>\n",
       "      <td>2019-10-21</td>\n",
       "      <td>1</td>\n",
       "    </tr>\n",
       "    <tr>\n",
       "      <th>49374</th>\n",
       "      <td>2019-10-26 16:02:53</td>\n",
       "      <td>tips_show</td>\n",
       "      <td>7f15c639-ae43-4236-aa94-8d527a56455e</td>\n",
       "      <td>yandex</td>\n",
       "      <td>2019-10-26</td>\n",
       "      <td>2019-10-26</td>\n",
       "      <td>2019-10-14</td>\n",
       "      <td>2019-10-21</td>\n",
       "      <td>2019-10-14</td>\n",
       "      <td>1</td>\n",
       "    </tr>\n",
       "  </tbody>\n",
       "</table>\n",
       "</div>"
      ],
      "text/plain": [
       "               event_time   event_name                               user_id  \\\n",
       "57845 2019-10-29 11:50:15    tips_show  be0d9065-d1f9-4717-9eae-d64599509a54   \n",
       "48946 2019-10-26 13:40:16  advert_open  82ee44d2-149b-407d-83af-83503d103631   \n",
       "51746 2019-10-27 11:09:26       search  2552d969-dbd4-4fcb-aad2-5b2fcff28d61   \n",
       "62237 2019-10-30 19:31:48    tips_show  aed9d717-9562-4ac9-8629-d7ef7fd7029e   \n",
       "49374 2019-10-26 16:02:53    tips_show  7f15c639-ae43-4236-aa94-8d527a56455e   \n",
       "\n",
       "       source event_date event_date_graph   start_dt active_week start_week  \\\n",
       "57845  google 2019-10-29       2019-10-29 2019-10-25  2019-10-28 2019-10-21   \n",
       "48946  google 2019-10-26       2019-10-26 2019-10-21  2019-10-21 2019-10-21   \n",
       "51746  yandex 2019-10-27       2019-10-27 2019-10-25  2019-10-21 2019-10-21   \n",
       "62237  yandex 2019-10-30       2019-10-30 2019-10-26  2019-10-28 2019-10-21   \n",
       "49374  yandex 2019-10-26       2019-10-26 2019-10-14  2019-10-21 2019-10-14   \n",
       "\n",
       "       cohort_lifetime  \n",
       "57845                1  \n",
       "48946                0  \n",
       "51746                0  \n",
       "62237                1  \n",
       "49374                1  "
      ]
     },
     "execution_count": 80,
     "metadata": {},
     "output_type": "execute_result"
    }
   ],
   "source": [
    "df_active.sample(5)"
   ]
  },
  {
   "cell_type": "code",
   "execution_count": 81,
   "id": "1a497d2d",
   "metadata": {},
   "outputs": [
    {
     "data": {
      "text/html": [
       "<div>\n",
       "<style scoped>\n",
       "    .dataframe tbody tr th:only-of-type {\n",
       "        vertical-align: middle;\n",
       "    }\n",
       "\n",
       "    .dataframe tbody tr th {\n",
       "        vertical-align: top;\n",
       "    }\n",
       "\n",
       "    .dataframe thead th {\n",
       "        text-align: right;\n",
       "    }\n",
       "</style>\n",
       "<table border=\"1\" class=\"dataframe\">\n",
       "  <thead>\n",
       "    <tr style=\"text-align: right;\">\n",
       "      <th></th>\n",
       "      <th>event_time</th>\n",
       "      <th>event_name</th>\n",
       "      <th>user_id</th>\n",
       "      <th>source</th>\n",
       "      <th>event_date</th>\n",
       "      <th>event_date_graph</th>\n",
       "      <th>session_id</th>\n",
       "      <th>last_dt</th>\n",
       "      <th>duration</th>\n",
       "      <th>contacts_show</th>\n",
       "      <th>photos_show</th>\n",
       "      <th>tips_show</th>\n",
       "      <th>search</th>\n",
       "      <th>start_dt</th>\n",
       "      <th>active_week</th>\n",
       "      <th>start_week</th>\n",
       "      <th>cohort_lifetime</th>\n",
       "    </tr>\n",
       "  </thead>\n",
       "  <tbody>\n",
       "    <tr>\n",
       "      <th>42120</th>\n",
       "      <td>2019-10-10 13:31:28</td>\n",
       "      <td>tips_show</td>\n",
       "      <td>9abeb321-9092-49c2-b842-71bf73c0f7a1</td>\n",
       "      <td>other</td>\n",
       "      <td>2019-10-10</td>\n",
       "      <td>2019-10-10</td>\n",
       "      <td>5948</td>\n",
       "      <td>2019-10-19</td>\n",
       "      <td>10</td>\n",
       "      <td>0</td>\n",
       "      <td>0</td>\n",
       "      <td>1</td>\n",
       "      <td>0</td>\n",
       "      <td>2019-10-10</td>\n",
       "      <td>2019-10-07</td>\n",
       "      <td>2019-10-07</td>\n",
       "      <td>0</td>\n",
       "    </tr>\n",
       "    <tr>\n",
       "      <th>12735</th>\n",
       "      <td>2019-10-18 07:48:56</td>\n",
       "      <td>tips_show</td>\n",
       "      <td>28fccdf4-7b9e-42f5-bc73-439a265f20e9</td>\n",
       "      <td>google</td>\n",
       "      <td>2019-10-18</td>\n",
       "      <td>2019-10-18</td>\n",
       "      <td>1759</td>\n",
       "      <td>2019-11-03</td>\n",
       "      <td>17</td>\n",
       "      <td>0</td>\n",
       "      <td>0</td>\n",
       "      <td>1</td>\n",
       "      <td>0</td>\n",
       "      <td>2019-10-16</td>\n",
       "      <td>2019-10-14</td>\n",
       "      <td>2019-10-14</td>\n",
       "      <td>0</td>\n",
       "    </tr>\n",
       "    <tr>\n",
       "      <th>35153</th>\n",
       "      <td>2019-10-17 13:58:45</td>\n",
       "      <td>tips_show</td>\n",
       "      <td>81b4f076-741b-405e-a9d0-d12038c16448</td>\n",
       "      <td>other</td>\n",
       "      <td>2019-10-17</td>\n",
       "      <td>2019-10-17</td>\n",
       "      <td>5019</td>\n",
       "      <td>2019-10-25</td>\n",
       "      <td>9</td>\n",
       "      <td>0</td>\n",
       "      <td>0</td>\n",
       "      <td>1</td>\n",
       "      <td>0</td>\n",
       "      <td>2019-10-08</td>\n",
       "      <td>2019-10-14</td>\n",
       "      <td>2019-10-07</td>\n",
       "      <td>1</td>\n",
       "    </tr>\n",
       "    <tr>\n",
       "      <th>31920</th>\n",
       "      <td>2019-10-26 11:46:44</td>\n",
       "      <td>tips_show</td>\n",
       "      <td>759926cd-9076-41ae-a3cd-8d14adcc607b</td>\n",
       "      <td>google</td>\n",
       "      <td>2019-10-26</td>\n",
       "      <td>2019-10-26</td>\n",
       "      <td>4564</td>\n",
       "      <td>2019-10-27</td>\n",
       "      <td>2</td>\n",
       "      <td>0</td>\n",
       "      <td>0</td>\n",
       "      <td>1</td>\n",
       "      <td>0</td>\n",
       "      <td>2019-10-26</td>\n",
       "      <td>2019-10-21</td>\n",
       "      <td>2019-10-21</td>\n",
       "      <td>0</td>\n",
       "    </tr>\n",
       "    <tr>\n",
       "      <th>48913</th>\n",
       "      <td>2019-11-03 13:17:12</td>\n",
       "      <td>advert_open</td>\n",
       "      <td>aec5c5db-21f9-41d3-a228-23ae2816b107</td>\n",
       "      <td>google</td>\n",
       "      <td>2019-11-03</td>\n",
       "      <td>2019-11-03</td>\n",
       "      <td>6756</td>\n",
       "      <td>2019-11-03</td>\n",
       "      <td>1</td>\n",
       "      <td>0</td>\n",
       "      <td>0</td>\n",
       "      <td>0</td>\n",
       "      <td>0</td>\n",
       "      <td>2019-11-03</td>\n",
       "      <td>2019-10-28</td>\n",
       "      <td>2019-10-28</td>\n",
       "      <td>0</td>\n",
       "    </tr>\n",
       "  </tbody>\n",
       "</table>\n",
       "</div>"
      ],
      "text/plain": [
       "               event_time   event_name                               user_id  \\\n",
       "42120 2019-10-10 13:31:28    tips_show  9abeb321-9092-49c2-b842-71bf73c0f7a1   \n",
       "12735 2019-10-18 07:48:56    tips_show  28fccdf4-7b9e-42f5-bc73-439a265f20e9   \n",
       "35153 2019-10-17 13:58:45    tips_show  81b4f076-741b-405e-a9d0-d12038c16448   \n",
       "31920 2019-10-26 11:46:44    tips_show  759926cd-9076-41ae-a3cd-8d14adcc607b   \n",
       "48913 2019-11-03 13:17:12  advert_open  aec5c5db-21f9-41d3-a228-23ae2816b107   \n",
       "\n",
       "       source event_date event_date_graph  session_id    last_dt  duration  \\\n",
       "42120   other 2019-10-10       2019-10-10        5948 2019-10-19        10   \n",
       "12735  google 2019-10-18       2019-10-18        1759 2019-11-03        17   \n",
       "35153   other 2019-10-17       2019-10-17        5019 2019-10-25         9   \n",
       "31920  google 2019-10-26       2019-10-26        4564 2019-10-27         2   \n",
       "48913  google 2019-11-03       2019-11-03        6756 2019-11-03         1   \n",
       "\n",
       "      contacts_show photos_show tips_show search   start_dt active_week  \\\n",
       "42120             0           0         1      0 2019-10-10  2019-10-07   \n",
       "12735             0           0         1      0 2019-10-16  2019-10-14   \n",
       "35153             0           0         1      0 2019-10-08  2019-10-14   \n",
       "31920             0           0         1      0 2019-10-26  2019-10-21   \n",
       "48913             0           0         0      0 2019-11-03  2019-10-28   \n",
       "\n",
       "      start_week  cohort_lifetime  \n",
       "42120 2019-10-07                0  \n",
       "12735 2019-10-14                0  \n",
       "35153 2019-10-07                1  \n",
       "31920 2019-10-21                0  \n",
       "48913 2019-10-28                0  "
      ]
     },
     "execution_count": 81,
     "metadata": {},
     "output_type": "execute_result"
    }
   ],
   "source": [
    "df = df.merge(df_active, how='left')\n",
    "df.sample(5)"
   ]
  },
  {
   "cell_type": "markdown",
   "id": "250ccebf",
   "metadata": {},
   "source": [
    "## RETENTION RATE для ГРУППЫ №1 <a class=\"anchor\" id=\"rr_group1\"></a>"
   ]
  },
  {
   "cell_type": "code",
   "execution_count": 82,
   "id": "dfdf4b14",
   "metadata": {},
   "outputs": [],
   "source": [
    "group_1 = df.query('duration >= 2 and contacts_show >= 1').groupby(['start_week','cohort_lifetime'])\\\n",
    ".agg({'user_id':'nunique'}).reset_index()"
   ]
  },
  {
   "cell_type": "code",
   "execution_count": 83,
   "id": "c262dda9",
   "metadata": {},
   "outputs": [],
   "source": [
    "users_count_1 = group_1[group_1['cohort_lifetime'] == 0][['start_week','user_id']]"
   ]
  },
  {
   "cell_type": "code",
   "execution_count": 84,
   "id": "f2dd2cc4",
   "metadata": {},
   "outputs": [],
   "source": [
    "users_count_1 = users_count_1.rename(columns={'user_id':'cohort_users'})\n",
    "group_1 = group_1.merge(users_count_1, on='start_week')"
   ]
  },
  {
   "cell_type": "code",
   "execution_count": 85,
   "id": "f52d128d",
   "metadata": {},
   "outputs": [],
   "source": [
    "group_1['retention'] = group_1['user_id']/group_1['cohort_users']"
   ]
  },
  {
   "cell_type": "code",
   "execution_count": 86,
   "id": "25dada9e",
   "metadata": {},
   "outputs": [],
   "source": [
    "group_1['start_week'] = group_1['start_week'].dt.date"
   ]
  },
  {
   "cell_type": "code",
   "execution_count": 87,
   "id": "141071d0",
   "metadata": {},
   "outputs": [],
   "source": [
    "retention_pivot_1 = group_1.pivot_table(index='start_week',columns='cohort_lifetime',values='retention',aggfunc='sum')"
   ]
  },
  {
   "cell_type": "code",
   "execution_count": 88,
   "id": "7a0f31b9",
   "metadata": {},
   "outputs": [
    {
     "data": {
      "image/png": "[encoded data removed]",
      "text/plain": [
       "<Figure size 1008x504 with 2 Axes>"
      ]
     },
     "metadata": {},
     "output_type": "display_data"
    }
   ],
   "source": [
    "plt.figure(figsize=(14, 7))\n",
    "plt.title('Retention rate по группе №1')\n",
    "sns.heatmap(retention_pivot_1, annot=True, fmt='.1%', linewidths=0.2, linecolor='black', cmap=\"crest\");"
   ]
  },
  {
   "cell_type": "markdown",
   "id": "f54c9b9c",
   "metadata": {},
   "source": [
    "## RETENTION RATE для ГРУППЫ №2 <a class=\"anchor\" id=\"rr_group2\"></a>"
   ]
  },
  {
   "cell_type": "code",
   "execution_count": 89,
   "id": "029bfee6",
   "metadata": {},
   "outputs": [],
   "source": [
    "group_2 = df.query('duration >= 2 and contacts_show == 0').groupby(['start_week','cohort_lifetime'])\\\n",
    ".agg({'user_id':'nunique'}).reset_index()"
   ]
  },
  {
   "cell_type": "code",
   "execution_count": 90,
   "id": "0187440d",
   "metadata": {},
   "outputs": [],
   "source": [
    "users_count_2 = group_2[group_2['cohort_lifetime'] == 0][['start_week','user_id']]"
   ]
  },
  {
   "cell_type": "code",
   "execution_count": 91,
   "id": "6326ae4a",
   "metadata": {},
   "outputs": [],
   "source": [
    "users_count_2 = users_count_2.rename(columns={'user_id':'cohort_users'})\n",
    "group_2 = group_2.merge(users_count_2, on='start_week')"
   ]
  },
  {
   "cell_type": "code",
   "execution_count": 92,
   "id": "2389d2e4",
   "metadata": {},
   "outputs": [],
   "source": [
    "group_2['retention'] = group_2['user_id']/group_2['cohort_users']"
   ]
  },
  {
   "cell_type": "code",
   "execution_count": 93,
   "id": "91d8f03b",
   "metadata": {},
   "outputs": [],
   "source": [
    "group_2['start_week'] = group_2['start_week'].dt.date"
   ]
  },
  {
   "cell_type": "code",
   "execution_count": 94,
   "id": "e3900b6e",
   "metadata": {},
   "outputs": [],
   "source": [
    "retention_pivot_2 = group_2.pivot_table(index='start_week',columns='cohort_lifetime',values='retention',aggfunc='sum')"
   ]
  },
  {
   "cell_type": "code",
   "execution_count": 95,
   "id": "04b3890d",
   "metadata": {},
   "outputs": [
    {
     "data": {
      "image/png": "[encoded data removed]",
      "text/plain": [
       "<Figure size 1008x504 with 2 Axes>"
      ]
     },
     "metadata": {},
     "output_type": "display_data"
    }
   ],
   "source": [
    "plt.figure(figsize=(14, 7))\n",
    "plt.title('Retention rate по группе №2')\n",
    "sns.heatmap(retention_pivot_2, annot=True, fmt='.1%', linewidths=0.2, linecolor='black', cmap=\"crest\");"
   ]
  },
  {
   "cell_type": "markdown",
   "id": "60149fd4",
   "metadata": {},
   "source": [
    "## RETENTION RATE для ГРУППЫ №3 <a class=\"anchor\" id=\"rr_group3\"></a>"
   ]
  },
  {
   "cell_type": "code",
   "execution_count": 96,
   "id": "f94cfac7",
   "metadata": {},
   "outputs": [],
   "source": [
    "group_3 = df.query('duration < 2 and contacts_show == 0').groupby(['start_week','cohort_lifetime'])\\\n",
    ".agg({'user_id':'nunique'}).reset_index()"
   ]
  },
  {
   "cell_type": "code",
   "execution_count": 97,
   "id": "699e87db",
   "metadata": {},
   "outputs": [],
   "source": [
    "users_count_3 = group_3[group_3['cohort_lifetime'] == 0][['start_week','user_id']]"
   ]
  },
  {
   "cell_type": "code",
   "execution_count": 98,
   "id": "9ce9dd0d",
   "metadata": {},
   "outputs": [],
   "source": [
    "users_count_3 = users_count_3.rename(columns={'user_id':'cohort_users'})\n",
    "group_3 = group_3.merge(users_count_3, on='start_week')"
   ]
  },
  {
   "cell_type": "code",
   "execution_count": 99,
   "id": "ab825896",
   "metadata": {},
   "outputs": [],
   "source": [
    "group_3['retention'] = group_3['user_id']/group_3['cohort_users']"
   ]
  },
  {
   "cell_type": "code",
   "execution_count": 100,
   "id": "20cffa3b",
   "metadata": {},
   "outputs": [],
   "source": [
    "group_3['start_week'] = group_3['start_week'].dt.date"
   ]
  },
  {
   "cell_type": "code",
   "execution_count": 101,
   "id": "c69771d6",
   "metadata": {},
   "outputs": [],
   "source": [
    "retention_pivot_3 = group_3.pivot_table(index='start_week',columns='cohort_lifetime',values='retention',aggfunc='sum')"
   ]
  },
  {
   "cell_type": "code",
   "execution_count": 102,
   "id": "99c1e506",
   "metadata": {},
   "outputs": [
    {
     "data": {
      "image/png": "[encoded data removed]",
      "text/plain": [
       "<Figure size 1008x504 with 2 Axes>"
      ]
     },
     "metadata": {},
     "output_type": "display_data"
    }
   ],
   "source": [
    "plt.figure(figsize=(14, 7))\n",
    "plt.title('Retention rate по группе №3')\n",
    "sns.heatmap(retention_pivot_3, annot=True, fmt='.1%', linewidths=0.2, linecolor='black', cmap=\"crest\");"
   ]
  },
  {
   "cell_type": "markdown",
   "id": "67b88fc4",
   "metadata": {},
   "source": [
    "Глядя на графики, можно предположить, что поведение всех групп очень похоже на ранее построенный график коэффициента удержания по когортам. Retention Rate постепенно убывает с каждой неделей, но времени не досточно для корректного анализа этого показателя"
   ]
  },
  {
   "cell_type": "markdown",
   "id": "5c0cebab",
   "metadata": {},
   "source": [
    "### Промежуточный вывод после сегментации пользователей <a class=\"anchor\" id=\"opinion3\"></a>"
   ]
  },
  {
   "cell_type": "markdown",
   "id": "5c6a5787",
   "metadata": {},
   "source": [
    "Мы разделили пользователей на 3 группы в зависимости от их активности и достижения целевого действия(просмотра контакта):\n",
    "\n",
    "Группа №1. Пользуются и смотрят контакты. В этой группе активные пользователи, достигают целевого действия, она не самая многочисленная, ее конечно необходимо привлекать в приложение и дальше, каким-то акциями или персональными предложениями\n",
    "\n",
    "Группа №2. Пользуются приложением, но не смотрели контакты. Активные пользователи, но не интересуются контактами. Возможно не могут найти то, что им нужно или им недостаточно функционала приложения. Здесь можно было бы провести дополнительное исследование или провести опрос среди этих пользователей, возможно их что-то не устраивает.\n",
    "\n",
    "Группа №3. Почти не пользуются, контакты не смотрели. Нужно найти какой-то способ, чтобы их вернуть в приложение. \n",
    "\n",
    "Глядя на графики, можно предположить, что Retention Rate постепенно убывает с каждой неделей, но времени не досточно для корректного анализа этого показателя, можно лишь увидеть, что от недели к неделе интерес пользователей меняется."
   ]
  },
  {
   "cell_type": "markdown",
   "id": "bba84206",
   "metadata": {},
   "source": [
    "## Проверка статистических гипотез <a class=\"anchor\" id=\"hypo\"></a>"
   ]
  },
  {
   "cell_type": "markdown",
   "id": "7766f82a",
   "metadata": {},
   "source": [
    "### Гипотеза №1. Некоторые пользователи установили приложение по ссылке из yandex, другие — из google. Проверьте гипотезу: две эти группы демонстрируют разную конверсию в просмотры контактов <a class=\"anchor\" id=\"h1\"></a>"
   ]
  },
  {
   "cell_type": "code",
   "execution_count": 103,
   "id": "7bcc450f",
   "metadata": {},
   "outputs": [
    {
     "data": {
      "text/html": [
       "<div>\n",
       "<style scoped>\n",
       "    .dataframe tbody tr th:only-of-type {\n",
       "        vertical-align: middle;\n",
       "    }\n",
       "\n",
       "    .dataframe tbody tr th {\n",
       "        vertical-align: top;\n",
       "    }\n",
       "\n",
       "    .dataframe thead th {\n",
       "        text-align: right;\n",
       "    }\n",
       "</style>\n",
       "<table border=\"1\" class=\"dataframe\">\n",
       "  <thead>\n",
       "    <tr style=\"text-align: right;\">\n",
       "      <th></th>\n",
       "      <th>user_id</th>\n",
       "      <th>duration</th>\n",
       "      <th>session_id</th>\n",
       "      <th>event_name</th>\n",
       "      <th>contacts_show</th>\n",
       "      <th>photos_show</th>\n",
       "      <th>tips_show</th>\n",
       "      <th>search</th>\n",
       "      <th>conversion</th>\n",
       "      <th>source</th>\n",
       "    </tr>\n",
       "  </thead>\n",
       "  <tbody>\n",
       "    <tr>\n",
       "      <th>0</th>\n",
       "      <td>0001b1d5-b74a-4cbf-aeb0-7df5947bf349</td>\n",
       "      <td>6.742857</td>\n",
       "      <td>35</td>\n",
       "      <td>35</td>\n",
       "      <td>0</td>\n",
       "      <td>0</td>\n",
       "      <td>1</td>\n",
       "      <td>0</td>\n",
       "      <td>0.00</td>\n",
       "      <td>other</td>\n",
       "    </tr>\n",
       "    <tr>\n",
       "      <th>1</th>\n",
       "      <td>00157779-810c-4498-9e05-a1e9e3cedf93</td>\n",
       "      <td>9.915493</td>\n",
       "      <td>71</td>\n",
       "      <td>71</td>\n",
       "      <td>11</td>\n",
       "      <td>1</td>\n",
       "      <td>0</td>\n",
       "      <td>1</td>\n",
       "      <td>0.15</td>\n",
       "      <td>yandex</td>\n",
       "    </tr>\n",
       "    <tr>\n",
       "      <th>2</th>\n",
       "      <td>00463033-5717-4bf1-91b4-09183923b9df</td>\n",
       "      <td>1.000000</td>\n",
       "      <td>10</td>\n",
       "      <td>10</td>\n",
       "      <td>0</td>\n",
       "      <td>1</td>\n",
       "      <td>0</td>\n",
       "      <td>0</td>\n",
       "      <td>0.00</td>\n",
       "      <td>yandex</td>\n",
       "    </tr>\n",
       "    <tr>\n",
       "      <th>3</th>\n",
       "      <td>004690c3-5a84-4bb7-a8af-e0c8f8fca64e</td>\n",
       "      <td>6.718750</td>\n",
       "      <td>32</td>\n",
       "      <td>32</td>\n",
       "      <td>0</td>\n",
       "      <td>0</td>\n",
       "      <td>1</td>\n",
       "      <td>1</td>\n",
       "      <td>0.00</td>\n",
       "      <td>google</td>\n",
       "    </tr>\n",
       "    <tr>\n",
       "      <th>4</th>\n",
       "      <td>00551e79-152e-4441-9cf7-565d7eb04090</td>\n",
       "      <td>2.625000</td>\n",
       "      <td>8</td>\n",
       "      <td>8</td>\n",
       "      <td>3</td>\n",
       "      <td>1</td>\n",
       "      <td>0</td>\n",
       "      <td>1</td>\n",
       "      <td>0.38</td>\n",
       "      <td>yandex</td>\n",
       "    </tr>\n",
       "    <tr>\n",
       "      <th>...</th>\n",
       "      <td>...</td>\n",
       "      <td>...</td>\n",
       "      <td>...</td>\n",
       "      <td>...</td>\n",
       "      <td>...</td>\n",
       "      <td>...</td>\n",
       "      <td>...</td>\n",
       "      <td>...</td>\n",
       "      <td>...</td>\n",
       "      <td>...</td>\n",
       "    </tr>\n",
       "    <tr>\n",
       "      <th>4288</th>\n",
       "      <td>ffab8d8a-30bb-424a-a3ab-0b63ebbf7b07</td>\n",
       "      <td>8.647059</td>\n",
       "      <td>17</td>\n",
       "      <td>17</td>\n",
       "      <td>0</td>\n",
       "      <td>0</td>\n",
       "      <td>1</td>\n",
       "      <td>0</td>\n",
       "      <td>0.00</td>\n",
       "      <td>yandex</td>\n",
       "    </tr>\n",
       "    <tr>\n",
       "      <th>4289</th>\n",
       "      <td>ffc01466-fdb1-4460-ae94-e800f52eb136</td>\n",
       "      <td>1.000000</td>\n",
       "      <td>7</td>\n",
       "      <td>7</td>\n",
       "      <td>1</td>\n",
       "      <td>1</td>\n",
       "      <td>0</td>\n",
       "      <td>0</td>\n",
       "      <td>0.14</td>\n",
       "      <td>yandex</td>\n",
       "    </tr>\n",
       "    <tr>\n",
       "      <th>4290</th>\n",
       "      <td>ffcf50d9-293c-4254-8243-4890b030b238</td>\n",
       "      <td>1.000000</td>\n",
       "      <td>2</td>\n",
       "      <td>2</td>\n",
       "      <td>0</td>\n",
       "      <td>0</td>\n",
       "      <td>1</td>\n",
       "      <td>0</td>\n",
       "      <td>0.00</td>\n",
       "      <td>google</td>\n",
       "    </tr>\n",
       "    <tr>\n",
       "      <th>4291</th>\n",
       "      <td>ffe68f10-e48e-470e-be9b-eeb93128ff1a</td>\n",
       "      <td>4.000000</td>\n",
       "      <td>13</td>\n",
       "      <td>13</td>\n",
       "      <td>1</td>\n",
       "      <td>1</td>\n",
       "      <td>0</td>\n",
       "      <td>1</td>\n",
       "      <td>0.08</td>\n",
       "      <td>yandex</td>\n",
       "    </tr>\n",
       "    <tr>\n",
       "      <th>4292</th>\n",
       "      <td>fffb9e79-b927-4dbb-9b48-7fd09b23a62b</td>\n",
       "      <td>12.562914</td>\n",
       "      <td>302</td>\n",
       "      <td>302</td>\n",
       "      <td>68</td>\n",
       "      <td>0</td>\n",
       "      <td>1</td>\n",
       "      <td>0</td>\n",
       "      <td>0.23</td>\n",
       "      <td>google</td>\n",
       "    </tr>\n",
       "  </tbody>\n",
       "</table>\n",
       "<p>4293 rows × 10 columns</p>\n",
       "</div>"
      ],
      "text/plain": [
       "                                   user_id   duration  session_id  event_name  \\\n",
       "0     0001b1d5-b74a-4cbf-aeb0-7df5947bf349   6.742857          35          35   \n",
       "1     00157779-810c-4498-9e05-a1e9e3cedf93   9.915493          71          71   \n",
       "2     00463033-5717-4bf1-91b4-09183923b9df   1.000000          10          10   \n",
       "3     004690c3-5a84-4bb7-a8af-e0c8f8fca64e   6.718750          32          32   \n",
       "4     00551e79-152e-4441-9cf7-565d7eb04090   2.625000           8           8   \n",
       "...                                    ...        ...         ...         ...   \n",
       "4288  ffab8d8a-30bb-424a-a3ab-0b63ebbf7b07   8.647059          17          17   \n",
       "4289  ffc01466-fdb1-4460-ae94-e800f52eb136   1.000000           7           7   \n",
       "4290  ffcf50d9-293c-4254-8243-4890b030b238   1.000000           2           2   \n",
       "4291  ffe68f10-e48e-470e-be9b-eeb93128ff1a   4.000000          13          13   \n",
       "4292  fffb9e79-b927-4dbb-9b48-7fd09b23a62b  12.562914         302         302   \n",
       "\n",
       "      contacts_show  photos_show  tips_show  search  conversion  source  \n",
       "0                 0            0          1       0        0.00   other  \n",
       "1                11            1          0       1        0.15  yandex  \n",
       "2                 0            1          0       0        0.00  yandex  \n",
       "3                 0            0          1       1        0.00  google  \n",
       "4                 3            1          0       1        0.38  yandex  \n",
       "...             ...          ...        ...     ...         ...     ...  \n",
       "4288              0            0          1       0        0.00  yandex  \n",
       "4289              1            1          0       0        0.14  yandex  \n",
       "4290              0            0          1       0        0.00  google  \n",
       "4291              1            1          0       1        0.08  yandex  \n",
       "4292             68            0          1       0        0.23  google  \n",
       "\n",
       "[4293 rows x 10 columns]"
      ]
     },
     "execution_count": 103,
     "metadata": {},
     "output_type": "execute_result"
    }
   ],
   "source": [
    "user_groups = user_groups.merge(mobile_sourсes, on='user_id')\n",
    "user_groups"
   ]
  },
  {
   "cell_type": "code",
   "execution_count": 104,
   "id": "0b7d9906",
   "metadata": {},
   "outputs": [],
   "source": [
    "source_yandex = user_groups.query('source == \"yandex\"')\n",
    "source_google = user_groups.query('source == \"google\"')"
   ]
  },
  {
   "cell_type": "code",
   "execution_count": 105,
   "id": "c8541dad",
   "metadata": {},
   "outputs": [
    {
     "data": {
      "image/png": "[encoded data removed]",
      "text/plain": [
       "<Figure size 1080x720 with 4 Axes>"
      ]
     },
     "metadata": {},
     "output_type": "display_data"
    }
   ],
   "source": [
    "fig = plt.figure(figsize=(15,10))\n",
    "area = fig.add_subplot(2, 2, 1)\n",
    "ax = sns.distplot(source_yandex['event_name'])\n",
    "ax.set_title(\"Установки из yandex\")\n",
    "ax.set_xlabel(\"Количество событий в течении сессии\")\n",
    "\n",
    "area = fig.add_subplot(2, 2, 2)\n",
    "ax = sns.distplot(source_google['event_name'])\n",
    "ax.set_title(\"Установки из google\")\n",
    "ax.set_xlabel(\"Количество событий в течении сессии\")\n",
    "\n",
    "area = fig.add_subplot(2, 2, 3)\n",
    "ax = sns.distplot(source_yandex['conversion'])\n",
    "ax.set_xlabel(\"Конверсии в просмотры\")\n",
    "\n",
    "\n",
    "area = fig.add_subplot(2, 2, 4)\n",
    "ax=sns.distplot(source_google['conversion'])\n",
    "ax.set_xlabel(\"Конверсии в просмотры\");"
   ]
  },
  {
   "cell_type": "markdown",
   "id": "8e0f743d",
   "metadata": {},
   "source": [
    "**Формулировка нулевой гипотезы H0:** конверсии в просмотры контактов между теми пользователями, которые совершили установку приложения, прийдя с источника yandex и пользователями, совершившими установки, из источника google, равны\n",
    "\n",
    "**Альтернативная гипотеза H1:** конверсии пользователей, совершивших установку из разных источников, различаются"
   ]
  },
  {
   "cell_type": "code",
   "execution_count": 106,
   "id": "4a58984a",
   "metadata": {},
   "outputs": [
    {
     "name": "stdout",
     "output_type": "stream",
     "text": [
      "p-значение: 0.8223249874583107\n",
      "Не получилось отвергнуть нулевую гипотезу\n"
     ]
    }
   ],
   "source": [
    "alpha = .05\n",
    "\n",
    "results = st.ttest_ind(\n",
    "    source_yandex['conversion'], \n",
    "    source_google['conversion'])\n",
    "\n",
    "print('p-значение:', results.pvalue)\n",
    "\n",
    "if (results.pvalue < alpha):\n",
    "    print(\"Отвергаем нулевую гипотезу\")\n",
    "else:\n",
    "    print(\"Не получилось отвергнуть нулевую гипотезу\")"
   ]
  },
  {
   "cell_type": "code",
   "execution_count": 107,
   "id": "20dc17c8",
   "metadata": {
    "scrolled": true
   },
   "outputs": [
    {
     "name": "stdout",
     "output_type": "stream",
     "text": [
      "Средняя конверсия в просмотры контактов у пользователей yandex: 6.29%\n",
      "Средняя конверсия в просмотры контактов у пользователей google: 6.42%\n"
     ]
    }
   ],
   "source": [
    "print('Средняя конверсия в просмотры контактов у пользователей yandex: {:.2%}'.format(source_yandex['conversion'].mean()))\n",
    "\n",
    "print('Средняя конверсия в просмотры контактов у пользователей google: {:.2%}'.format(source_google['conversion'].mean()))\n"
   ]
  },
  {
   "cell_type": "markdown",
   "id": "119cf291",
   "metadata": {},
   "source": [
    "<div class=\"alert alert-info\">  Разделили пользователей на группы по источнику установки приложения, сравнили их визуально и затем провели t-test, где определили, что нет оснований отвергать нулевую гипотезу о равенстве конверсий в просмотр контактов пользователей, совершивших установку из разных источников. Яндекс или Гугл - не имеет значения. </div>"
   ]
  },
  {
   "cell_type": "markdown",
   "id": "60e78580",
   "metadata": {},
   "source": [
    "### Гипотеза №2. Насколько хорошо работает система рекомендаций объявлений у приложения (tips_show), чем через обычный поиск (search). Различается ли конверсия этих двух событий в просмотр контакта (contacts_show) <a class=\"anchor\" id=\"h2\"></a>"
   ]
  },
  {
   "cell_type": "code",
   "execution_count": 108,
   "id": "281db70e",
   "metadata": {},
   "outputs": [],
   "source": [
    "tips_recc = user_groups.query('tips_show == 1')\n",
    "search_app = user_groups.query('search == 1')"
   ]
  },
  {
   "cell_type": "code",
   "execution_count": 109,
   "id": "090fc7fd",
   "metadata": {},
   "outputs": [
    {
     "data": {
      "image/png": "[encoded data removed]",
      "text/plain": [
       "<Figure size 1080x720 with 2 Axes>"
      ]
     },
     "metadata": {},
     "output_type": "display_data"
    }
   ],
   "source": [
    "fig = plt.figure(figsize=(15,10))\n",
    "\n",
    "\n",
    "area = fig.add_subplot(2, 1, 1)\n",
    "ax = sns.distplot(tips_recc['conversion'])\n",
    "ax.set_xlabel(\"Конверсии в просмотры\")\n",
    "\n",
    "\n",
    "area = fig.add_subplot(2, 1, 2)\n",
    "ax=sns.distplot(search_app['conversion'])\n",
    "ax.set_xlabel(\"Конверсии в просмотры\");"
   ]
  },
  {
   "cell_type": "markdown",
   "id": "9bf3c0cd",
   "metadata": {},
   "source": [
    "**Формулировка нулевой гипотезы H0:** конверсии в просмотры контактов между теми пользователями, которым объявления предлагает система рекомендаций приложения и теми, кто использует обычный поиск - равны.\n",
    "\n",
    "**Альтернативная гипотеза H1:** конверсии пользователей в просмотры контактов между рекомендациями и поиском - различаются"
   ]
  },
  {
   "cell_type": "code",
   "execution_count": 110,
   "id": "f6add73f",
   "metadata": {},
   "outputs": [
    {
     "name": "stdout",
     "output_type": "stream",
     "text": [
      "p-значение: 0.0008233583593910834\n",
      "Отвергаем нулевую гипотезу\n"
     ]
    }
   ],
   "source": [
    "alpha = .05\n",
    "\n",
    "results = st.ttest_ind(\n",
    "    tips_recc['conversion'], \n",
    "    search_app['conversion'])\n",
    "\n",
    "print('p-значение:', results.pvalue)\n",
    "\n",
    "if (results.pvalue < alpha):\n",
    "    print(\"Отвергаем нулевую гипотезу\")\n",
    "else:\n",
    "    print(\"Не получилось отвергнуть нулевую гипотезу\")"
   ]
  },
  {
   "cell_type": "markdown",
   "id": "b7251355",
   "metadata": {},
   "source": [
    "<div class=\"alert alert-info\">Конверсии пользователей в просмотры контактов между рекомендациями и поиском - различаются и у тех пользователей, которые пользуются поиском она выше</div>"
   ]
  },
  {
   "cell_type": "code",
   "execution_count": 111,
   "id": "715fec60",
   "metadata": {},
   "outputs": [
    {
     "name": "stdout",
     "output_type": "stream",
     "text": [
      "Средняя конверсия в просмотры контактов у пользователей, которые пользуются рекомендациями: 3.37%\n",
      "Средняя конверсия в просмотры контактов у пользователей, которые используют поиск: 4.45%\n"
     ]
    }
   ],
   "source": [
    "print('Средняя конверсия в просмотры контактов у пользователей, которые пользуются рекомендациями: {:.2%}'.format(tips_recc['conversion'].mean()))\n",
    "print('Средняя конверсия в просмотры контактов у пользователей, которые используют поиск: {:.2%}'.format(search_app['conversion'].mean()))"
   ]
  },
  {
   "cell_type": "markdown",
   "id": "5b6c2b04",
   "metadata": {},
   "source": [
    "### Выводы после проверки гипотез <a class=\"anchor\" id=\"opinion4\"></a>"
   ]
  },
  {
   "cell_type": "markdown",
   "id": "00650e21",
   "metadata": {},
   "source": [
    "- №1. Мы приняли нулевую гипотезу о том, что конверсии в просмотры контактов между теми пользователями, которые совершили установку приложения, прийдя с источника Яндекс и пользователями, совершившими установки, из источника Google, нет статистически значимой разницы и сделали вывод, что конверсии групп Google и Яндекс в просмотр контактов не различаются.\n",
    "\n",
    "\n",
    "- №2. По результатам проверки мы отвергаем нулевую гипотезу и принимаем альтернативную о том, что конверсии пользователей в просмотры контактов между рекомендациями и поиском, имеют статистически значимую разницу, и делаем предположение, что конверсия в просмотры контактов у пользователей, которые используют поиск выше, чем у тех, кому помогает приложение с системой рекомендаций."
   ]
  },
  {
   "cell_type": "markdown",
   "id": "f1d56155",
   "metadata": {},
   "source": [
    "## Общие выводы и рекомендации <a class=\"anchor\" id=\"opinion5\"></a>"
   ]
  },
  {
   "cell_type": "markdown",
   "id": "1212862a",
   "metadata": {},
   "source": [
    "- У нас имеются данные с 07 октября по 03 ноября 2019 года, почти 28 дней. 4293 уникальных пользователя. События среди пользователей распределены равномерно по дням исследования;\n",
    "\n",
    "- Поведение покупателей меняется с каждой неделей и retention rate уменьшается, но из-за недостаточного промежутка времени в исследовании, возможна погрешность и выводы поверхностны;\n",
    "\n",
    "- Пользователь тратит где-то 15-16 минут на приложение за сессию. На каждого пользователя приходится от 1 до 5 сессий;\n",
    "\n",
    "- Самые частые события - это tips_show пользователь увидел рекомендованные объявления, photos_show - просмотр фотографий в объявлении, search - поиск по сайту, advert_open - открытие карточки объявления;\n",
    "\n",
    "- По нашим расчетам до события contacts_show доходят ~23% пользователей. 77% - достаточно большой отток от общего количества пришедших к нам пользователей. Возможно управление приложением не достаточно интуитивно и пользователь путается в большом количестве рекомендаций и приложение нужно как-то упростить;\n",
    "\n",
    "- Мы разделили пользователей на 3 группы в зависимости от их активности и достижения целевого действия(просмотра контакта):\n",
    "\n",
    "Группа №1. Пользуются и смотрят контакты. В этой группе активные пользователи, достигают целевого действия, она не самая многочисленная, ее конечно необходимо привлекать в приложение и дальше, каким-то акциями или персональными предложениями\n",
    "\n",
    "Группа №2. Пользуются приложением, но не смотрели контакты. Активные пользователи, но не интересуются контактами. Возможно не могут найти то, что им нужно или им недостаточно функционала приложения. Здесь можно было бы провести дополнительное исследование или провести опрос среди этих пользователей, возможно их что-то не устраивает.\n",
    "\n",
    "Группа №3. Почти не пользуются, контакты не смотрели. Нужно найти какой-то способ, чтобы их вернуть в приложение.\n",
    "\n",
    "Глядя на графики, можно предположить, что Retention Rate постепенно убывает с каждой неделей, но времени не досточно для корректного анализа этого показателя, можно лишь увидеть, что от недели к неделе интерес пользователей меняется.\n",
    "\n",
    "- Проверили гипотезы:\n",
    "- №1. Мы приняли нулевую гипотезу о том, что конверсии в просмотры контактов между теми пользователями, которые совершили установку приложения, прийдя с источника Яндекс и пользователями, совершившими установки, из источника Google, нет статистически значимой разницы и сделали вывод, что конверсии групп Google и Яндекс в просмотр контактов не различаются;\n",
    "\n",
    "\n",
    "- №2. По результатам проверки мы отвергаем нулевую гипотезу и принимаем альтернативную о том, что конверсии пользователей в просмотры контактов между рекомендациями и поиском, имеют статистически значимую разницу, и делаем предположение, что конверсия в просмотры контактов у пользователей, которые используют поиск выше, чем у тех, кому помогает приложение с системой рекомендаций.\n",
    "\n",
    "**Рекомендации**\n",
    "\n",
    "- В целом, в приложение необходимо добавить логи о начале и конце сессии, чтобы было удобнее анализировать действия пользователей;\n",
    "\n",
    "- Возможно управление приложением не достаточно интуитивно понятно и пользователь путается в большом количестве рекомендаций и приложение нужно как-то упростить; \n",
    "\n",
    "- Конверсия в просмотры контактов у пользователей, которые используют поиск выше, чем у тех, кому помогает приложение с системой рекомендаций. Но количество событий по поиску значительно меньше среди пользователей, чем система рекомендаций. Значит нужно как-то привлечь внимание к кнопке поиска, сделать ее более заметной;\n",
    "\n",
    "- Подумать над способами удержания тех пользователей, которые уже пользуются приложением, у нас есть группа №1 активных пользователей, но пользователи все равно уходят. Возможно, нужно разработать какое-то поощрение за пользование приложением или систему премиум-подписки."
   ]
  },
  {
   "cell_type": "markdown",
   "id": "bd685deb",
   "metadata": {},
   "source": [
    "## Презентация <a class=\"anchor\" id=\"pres\"></a>"
   ]
  },
  {
   "cell_type": "markdown",
   "id": "0676db41",
   "metadata": {},
   "source": [
    "### Ссылка на презентацию\n",
    "\n",
    "[Презентация](https://disk.yandex.ru/i/pOIYFoj6YulUSA)"
   ]
  },
  {
   "cell_type": "markdown",
   "id": "de149fb3",
   "metadata": {},
   "source": [
    "## Дашборд <a class=\"anchor\" id=\"dashb\"></a>"
   ]
  },
  {
   "cell_type": "markdown",
   "id": "f9fa92aa",
   "metadata": {},
   "source": [
    "### Ссылка на дашборд\n",
    "\n",
    "[Дашборд](https://public.tableau.com/app/profile/dmitriy2609/viz/mobile_apps_final/Dashboard1?publish=yes)"
   ]
  },
  {
   "cell_type": "code",
   "execution_count": null,
   "id": "06f8bf91",
   "metadata": {},
   "outputs": [],
   "source": []
  }
 ],
 "metadata": {
  "ExecuteTimeLog": [
   {
    "duration": 1193,
    "start_time": "2022-11-13T18:03:28.076Z"
   },
   {
    "duration": 304,
    "start_time": "2022-11-13T18:03:29.271Z"
   },
   {
    "duration": 11,
    "start_time": "2022-11-13T18:03:29.577Z"
   },
   {
    "duration": 12,
    "start_time": "2022-11-13T18:03:29.590Z"
   },
   {
    "duration": 11,
    "start_time": "2022-11-13T18:03:29.603Z"
   },
   {
    "duration": 45,
    "start_time": "2022-11-13T18:03:29.616Z"
   },
   {
    "duration": 3,
    "start_time": "2022-11-13T18:03:29.662Z"
   },
   {
    "duration": 26,
    "start_time": "2022-11-13T18:03:29.667Z"
   },
   {
    "duration": 5,
    "start_time": "2022-11-13T18:03:29.694Z"
   },
   {
    "duration": 12,
    "start_time": "2022-11-13T18:03:29.702Z"
   },
   {
    "duration": 6,
    "start_time": "2022-11-13T18:03:29.715Z"
   },
   {
    "duration": 45,
    "start_time": "2022-11-13T18:03:29.723Z"
   },
   {
    "duration": 26,
    "start_time": "2022-11-13T18:03:29.770Z"
   },
   {
    "duration": 25,
    "start_time": "2022-11-13T18:03:29.798Z"
   },
   {
    "duration": 12,
    "start_time": "2022-11-13T18:03:29.825Z"
   },
   {
    "duration": 13,
    "start_time": "2022-11-13T18:03:29.860Z"
   },
   {
    "duration": 14,
    "start_time": "2022-11-13T18:03:29.875Z"
   },
   {
    "duration": 5,
    "start_time": "2022-11-13T18:03:29.891Z"
   },
   {
    "duration": 23,
    "start_time": "2022-11-13T18:03:29.897Z"
   },
   {
    "duration": 10,
    "start_time": "2022-11-13T18:03:29.921Z"
   },
   {
    "duration": 46,
    "start_time": "2022-11-13T18:03:29.932Z"
   },
   {
    "duration": 2,
    "start_time": "2022-11-13T18:03:29.980Z"
   },
   {
    "duration": 17,
    "start_time": "2022-11-13T18:03:29.983Z"
   },
   {
    "duration": 30,
    "start_time": "2022-11-13T18:03:30.002Z"
   },
   {
    "duration": 33,
    "start_time": "2022-11-13T18:03:30.033Z"
   },
   {
    "duration": 34,
    "start_time": "2022-11-13T18:03:30.068Z"
   },
   {
    "duration": 27,
    "start_time": "2022-11-13T18:03:30.103Z"
   },
   {
    "duration": 38,
    "start_time": "2022-11-13T18:03:30.134Z"
   },
   {
    "duration": 436,
    "start_time": "2022-11-13T18:03:30.173Z"
   },
   {
    "duration": 21,
    "start_time": "2022-11-13T18:03:30.611Z"
   },
   {
    "duration": 26,
    "start_time": "2022-11-13T18:03:30.634Z"
   },
   {
    "duration": 17,
    "start_time": "2022-11-13T18:03:30.661Z"
   },
   {
    "duration": 42,
    "start_time": "2022-11-13T18:03:30.679Z"
   },
   {
    "duration": 7,
    "start_time": "2022-11-13T18:03:30.723Z"
   },
   {
    "duration": 34,
    "start_time": "2022-11-13T18:03:30.732Z"
   },
   {
    "duration": 5,
    "start_time": "2022-11-13T18:03:30.768Z"
   },
   {
    "duration": 10,
    "start_time": "2022-11-13T18:03:30.775Z"
   },
   {
    "duration": 7,
    "start_time": "2022-11-13T18:03:30.786Z"
   },
   {
    "duration": 16,
    "start_time": "2022-11-13T18:03:30.794Z"
   },
   {
    "duration": 16,
    "start_time": "2022-11-13T18:03:30.811Z"
   },
   {
    "duration": 356,
    "start_time": "2022-11-13T18:03:30.829Z"
   },
   {
    "duration": 34,
    "start_time": "2022-11-13T18:03:31.187Z"
   },
   {
    "duration": 702,
    "start_time": "2022-11-13T18:03:31.223Z"
   },
   {
    "duration": 23,
    "start_time": "2022-11-13T18:03:31.927Z"
   },
   {
    "duration": 38,
    "start_time": "2022-11-13T18:03:31.958Z"
   },
   {
    "duration": 13,
    "start_time": "2022-11-13T18:03:31.998Z"
   },
   {
    "duration": 16,
    "start_time": "2022-11-13T18:03:32.013Z"
   },
   {
    "duration": 38,
    "start_time": "2022-11-13T18:03:32.031Z"
   },
   {
    "duration": 12,
    "start_time": "2022-11-13T18:03:32.070Z"
   },
   {
    "duration": 10,
    "start_time": "2022-11-13T18:03:32.083Z"
   },
   {
    "duration": 233,
    "start_time": "2022-11-13T18:03:32.095Z"
   },
   {
    "duration": 31,
    "start_time": "2022-11-13T18:03:32.329Z"
   },
   {
    "duration": 16,
    "start_time": "2022-11-13T18:03:32.361Z"
   },
   {
    "duration": 6,
    "start_time": "2022-11-13T18:03:32.379Z"
   },
   {
    "duration": 25,
    "start_time": "2022-11-13T18:03:32.386Z"
   },
   {
    "duration": 17,
    "start_time": "2022-11-13T18:03:32.413Z"
   },
   {
    "duration": 243,
    "start_time": "2022-11-13T18:03:32.432Z"
   },
   {
    "duration": 7,
    "start_time": "2022-11-13T18:03:32.676Z"
   },
   {
    "duration": 7,
    "start_time": "2022-11-13T18:03:32.684Z"
   },
   {
    "duration": 19,
    "start_time": "2022-11-13T18:03:32.692Z"
   },
   {
    "duration": 13,
    "start_time": "2022-11-13T18:03:32.713Z"
   },
   {
    "duration": 36,
    "start_time": "2022-11-13T18:03:32.728Z"
   },
   {
    "duration": 7,
    "start_time": "2022-11-13T18:03:32.765Z"
   },
   {
    "duration": 4,
    "start_time": "2022-11-13T18:03:32.774Z"
   },
   {
    "duration": 43843,
    "start_time": "2022-11-13T18:03:32.779Z"
   },
   {
    "duration": 42061,
    "start_time": "2022-11-13T18:04:16.624Z"
   },
   {
    "duration": 41774,
    "start_time": "2022-11-13T18:04:58.687Z"
   },
   {
    "duration": 43084,
    "start_time": "2022-11-13T18:05:40.463Z"
   },
   {
    "duration": 40,
    "start_time": "2022-11-13T18:06:23.549Z"
   },
   {
    "duration": 1368,
    "start_time": "2022-11-13T18:06:23.591Z"
   },
   {
    "duration": 15,
    "start_time": "2022-11-13T18:06:24.961Z"
   },
   {
    "duration": 29,
    "start_time": "2022-11-13T18:06:24.978Z"
   },
   {
    "duration": 11,
    "start_time": "2022-11-13T18:06:25.009Z"
   },
   {
    "duration": 58,
    "start_time": "2022-11-13T18:06:25.021Z"
   },
   {
    "duration": 28,
    "start_time": "2022-11-13T18:06:25.080Z"
   },
   {
    "duration": 27,
    "start_time": "2022-11-13T18:06:25.110Z"
   },
   {
    "duration": 33,
    "start_time": "2022-11-13T18:06:25.139Z"
   },
   {
    "duration": 18,
    "start_time": "2022-11-13T18:06:25.174Z"
   },
   {
    "duration": 94,
    "start_time": "2022-11-13T18:06:25.193Z"
   },
   {
    "duration": 19,
    "start_time": "2022-11-13T18:06:25.288Z"
   },
   {
    "duration": 5,
    "start_time": "2022-11-13T18:06:25.308Z"
   },
   {
    "duration": 11,
    "start_time": "2022-11-13T18:06:25.322Z"
   },
   {
    "duration": 25,
    "start_time": "2022-11-13T18:06:25.334Z"
   },
   {
    "duration": 17,
    "start_time": "2022-11-13T18:06:25.361Z"
   },
   {
    "duration": 14,
    "start_time": "2022-11-13T18:06:25.380Z"
   },
   {
    "duration": 411,
    "start_time": "2022-11-13T18:06:25.395Z"
   },
   {
    "duration": 20,
    "start_time": "2022-11-13T18:06:25.808Z"
   },
   {
    "duration": 4,
    "start_time": "2022-11-13T18:06:25.830Z"
   },
   {
    "duration": 9,
    "start_time": "2022-11-13T18:06:25.836Z"
   },
   {
    "duration": 5,
    "start_time": "2022-11-13T18:06:25.860Z"
   },
   {
    "duration": 9,
    "start_time": "2022-11-13T18:06:25.866Z"
   },
   {
    "duration": 17,
    "start_time": "2022-11-13T18:06:25.877Z"
   },
   {
    "duration": 329,
    "start_time": "2022-11-13T18:06:25.895Z"
   },
   {
    "duration": 36,
    "start_time": "2022-11-13T18:06:26.225Z"
   },
   {
    "duration": 5,
    "start_time": "2022-11-13T18:06:26.263Z"
   },
   {
    "duration": 14,
    "start_time": "2022-11-13T18:06:26.270Z"
   },
   {
    "duration": 15,
    "start_time": "2022-11-13T18:06:26.286Z"
   },
   {
    "duration": 12,
    "start_time": "2022-11-13T18:06:26.303Z"
   },
   {
    "duration": 15,
    "start_time": "2022-11-13T18:06:26.317Z"
   },
   {
    "duration": 382,
    "start_time": "2022-11-13T18:06:26.333Z"
   },
   {
    "duration": 21,
    "start_time": "2022-11-13T18:06:26.717Z"
   },
   {
    "duration": 20,
    "start_time": "2022-11-13T18:06:26.739Z"
   },
   {
    "duration": 781,
    "start_time": "2022-11-13T18:06:26.760Z"
   },
   {
    "duration": 16,
    "start_time": "2022-11-13T18:06:27.543Z"
   },
   {
    "duration": 4,
    "start_time": "2022-11-13T18:06:27.560Z"
   },
   {
    "duration": 9,
    "start_time": "2022-11-13T18:06:27.566Z"
   },
   {
    "duration": 396,
    "start_time": "2022-11-13T18:06:27.577Z"
   },
   {
    "duration": 5,
    "start_time": "2022-11-13T18:06:27.975Z"
   },
   {
    "duration": 11,
    "start_time": "2022-11-13T18:06:27.981Z"
   },
   {
    "duration": 14,
    "start_time": "2022-11-13T18:27:10.086Z"
   },
   {
    "duration": 851,
    "start_time": "2022-11-13T18:27:17.309Z"
   },
   {
    "duration": 12,
    "start_time": "2022-11-13T18:27:30.645Z"
   },
   {
    "duration": 9,
    "start_time": "2022-11-13T18:27:55.059Z"
   },
   {
    "duration": 891,
    "start_time": "2022-11-13T18:27:59.935Z"
   },
   {
    "duration": 16,
    "start_time": "2022-11-13T18:28:04.996Z"
   },
   {
    "duration": 6,
    "start_time": "2022-11-13T18:28:11.672Z"
   },
   {
    "duration": 15,
    "start_time": "2022-11-13T18:28:26.688Z"
   },
   {
    "duration": 5,
    "start_time": "2022-11-13T18:28:35.399Z"
   },
   {
    "duration": 13,
    "start_time": "2022-11-13T18:28:52.779Z"
   },
   {
    "duration": 5,
    "start_time": "2022-11-13T18:29:00.080Z"
   },
   {
    "duration": 1168,
    "start_time": "2022-11-15T22:14:36.111Z"
   },
   {
    "duration": 340,
    "start_time": "2022-11-15T22:14:37.281Z"
   },
   {
    "duration": 10,
    "start_time": "2022-11-15T22:14:37.625Z"
   },
   {
    "duration": 10,
    "start_time": "2022-11-15T22:14:37.637Z"
   },
   {
    "duration": 8,
    "start_time": "2022-11-15T22:14:37.649Z"
   },
   {
    "duration": 33,
    "start_time": "2022-11-15T22:14:37.659Z"
   },
   {
    "duration": 3,
    "start_time": "2022-11-15T22:14:37.693Z"
   },
   {
    "duration": 27,
    "start_time": "2022-11-15T22:14:37.698Z"
   },
   {
    "duration": 18,
    "start_time": "2022-11-15T22:14:37.727Z"
   },
   {
    "duration": 17,
    "start_time": "2022-11-15T22:14:37.747Z"
   },
   {
    "duration": 11,
    "start_time": "2022-11-15T22:14:37.766Z"
   },
   {
    "duration": 25,
    "start_time": "2022-11-15T22:14:37.778Z"
   },
   {
    "duration": 26,
    "start_time": "2022-11-15T22:14:37.805Z"
   },
   {
    "duration": 45,
    "start_time": "2022-11-15T22:14:37.833Z"
   },
   {
    "duration": 11,
    "start_time": "2022-11-15T22:14:37.879Z"
   },
   {
    "duration": 18,
    "start_time": "2022-11-15T22:14:37.891Z"
   },
   {
    "duration": 13,
    "start_time": "2022-11-15T22:14:37.910Z"
   },
   {
    "duration": 4,
    "start_time": "2022-11-15T22:14:37.925Z"
   },
   {
    "duration": 14,
    "start_time": "2022-11-15T22:14:37.931Z"
   },
   {
    "duration": 30,
    "start_time": "2022-11-15T22:14:37.947Z"
   },
   {
    "duration": 29,
    "start_time": "2022-11-15T22:14:37.979Z"
   },
   {
    "duration": 2,
    "start_time": "2022-11-15T22:14:38.010Z"
   },
   {
    "duration": 16,
    "start_time": "2022-11-15T22:14:38.013Z"
   },
   {
    "duration": 9,
    "start_time": "2022-11-15T22:14:38.031Z"
   },
   {
    "duration": 45,
    "start_time": "2022-11-15T22:14:38.042Z"
   },
   {
    "duration": 32,
    "start_time": "2022-11-15T22:14:38.088Z"
   },
   {
    "duration": 25,
    "start_time": "2022-11-15T22:14:38.124Z"
   },
   {
    "duration": 34,
    "start_time": "2022-11-15T22:14:38.151Z"
   },
   {
    "duration": 23,
    "start_time": "2022-11-15T22:14:38.187Z"
   },
   {
    "duration": 419,
    "start_time": "2022-11-15T22:14:38.211Z"
   },
   {
    "duration": 23,
    "start_time": "2022-11-15T22:14:38.632Z"
   },
   {
    "duration": 58,
    "start_time": "2022-11-15T22:14:38.656Z"
   },
   {
    "duration": 20,
    "start_time": "2022-11-15T22:14:38.716Z"
   },
   {
    "duration": 39,
    "start_time": "2022-11-15T22:14:38.737Z"
   },
   {
    "duration": 5,
    "start_time": "2022-11-15T22:14:38.778Z"
   },
   {
    "duration": 23,
    "start_time": "2022-11-15T22:14:38.785Z"
   },
   {
    "duration": 5,
    "start_time": "2022-11-15T22:14:38.809Z"
   },
   {
    "duration": 9,
    "start_time": "2022-11-15T22:14:38.815Z"
   },
   {
    "duration": 8,
    "start_time": "2022-11-15T22:14:38.825Z"
   },
   {
    "duration": 5,
    "start_time": "2022-11-15T22:14:38.834Z"
   },
   {
    "duration": 13,
    "start_time": "2022-11-15T22:14:38.840Z"
   },
   {
    "duration": 363,
    "start_time": "2022-11-15T22:14:38.854Z"
   },
   {
    "duration": 35,
    "start_time": "2022-11-15T22:14:39.219Z"
   },
   {
    "duration": 706,
    "start_time": "2022-11-15T22:14:39.255Z"
   },
   {
    "duration": 35,
    "start_time": "2022-11-15T22:14:39.962Z"
   },
   {
    "duration": 37,
    "start_time": "2022-11-15T22:14:39.999Z"
   },
   {
    "duration": 12,
    "start_time": "2022-11-15T22:14:40.038Z"
   },
   {
    "duration": 35,
    "start_time": "2022-11-15T22:14:40.051Z"
   },
   {
    "duration": 214,
    "start_time": "2022-11-15T22:14:40.088Z"
   },
   {
    "duration": 14,
    "start_time": "2022-11-15T22:14:40.304Z"
   },
   {
    "duration": 13,
    "start_time": "2022-11-15T22:14:40.320Z"
   },
   {
    "duration": 12,
    "start_time": "2022-11-15T22:14:40.335Z"
   },
   {
    "duration": 221,
    "start_time": "2022-11-15T22:14:40.377Z"
   },
   {
    "duration": 19,
    "start_time": "2022-11-15T22:14:40.600Z"
   },
   {
    "duration": 18,
    "start_time": "2022-11-15T22:14:40.621Z"
   },
   {
    "duration": 6,
    "start_time": "2022-11-15T22:14:40.641Z"
   },
   {
    "duration": 12,
    "start_time": "2022-11-15T22:14:40.676Z"
   },
   {
    "duration": 5,
    "start_time": "2022-11-15T22:14:40.690Z"
   },
   {
    "duration": 263,
    "start_time": "2022-11-15T22:14:40.697Z"
   },
   {
    "duration": 16,
    "start_time": "2022-11-15T22:14:40.962Z"
   },
   {
    "duration": 7,
    "start_time": "2022-11-15T22:14:40.980Z"
   },
   {
    "duration": 17,
    "start_time": "2022-11-15T22:14:40.989Z"
   },
   {
    "duration": 13,
    "start_time": "2022-11-15T22:14:41.008Z"
   },
   {
    "duration": 24,
    "start_time": "2022-11-15T22:14:41.023Z"
   },
   {
    "duration": 8,
    "start_time": "2022-11-15T22:14:41.075Z"
   },
   {
    "duration": 4,
    "start_time": "2022-11-15T22:14:41.085Z"
   },
   {
    "duration": 44610,
    "start_time": "2022-11-15T22:14:41.091Z"
   },
   {
    "duration": 44520,
    "start_time": "2022-11-15T22:15:25.703Z"
   },
   {
    "duration": 42616,
    "start_time": "2022-11-15T22:16:10.224Z"
   },
   {
    "duration": 43442,
    "start_time": "2022-11-15T22:16:52.842Z"
   },
   {
    "duration": 34,
    "start_time": "2022-11-15T22:17:36.285Z"
   },
   {
    "duration": 1193,
    "start_time": "2022-11-15T22:17:36.321Z"
   },
   {
    "duration": 18,
    "start_time": "2022-11-15T22:17:37.516Z"
   },
   {
    "duration": 45,
    "start_time": "2022-11-15T22:17:37.536Z"
   },
   {
    "duration": 10,
    "start_time": "2022-11-15T22:17:37.583Z"
   },
   {
    "duration": 32,
    "start_time": "2022-11-15T22:17:37.595Z"
   },
   {
    "duration": 25,
    "start_time": "2022-11-15T22:17:37.628Z"
   },
   {
    "duration": 48,
    "start_time": "2022-11-15T22:17:37.654Z"
   },
   {
    "duration": 15,
    "start_time": "2022-11-15T22:17:37.703Z"
   },
   {
    "duration": 20,
    "start_time": "2022-11-15T22:17:37.719Z"
   },
   {
    "duration": 122,
    "start_time": "2022-11-15T22:17:37.744Z"
   },
   {
    "duration": 20,
    "start_time": "2022-11-15T22:17:37.868Z"
   },
   {
    "duration": 4,
    "start_time": "2022-11-15T22:17:37.890Z"
   },
   {
    "duration": 9,
    "start_time": "2022-11-15T22:17:37.896Z"
   },
   {
    "duration": 6,
    "start_time": "2022-11-15T22:17:37.907Z"
   },
   {
    "duration": 6,
    "start_time": "2022-11-15T22:17:37.915Z"
   },
   {
    "duration": 15,
    "start_time": "2022-11-15T22:17:37.922Z"
   },
   {
    "duration": 390,
    "start_time": "2022-11-15T22:17:37.938Z"
   },
   {
    "duration": 22,
    "start_time": "2022-11-15T22:17:38.330Z"
   },
   {
    "duration": 4,
    "start_time": "2022-11-15T22:17:38.354Z"
   },
   {
    "duration": 20,
    "start_time": "2022-11-15T22:17:38.360Z"
   },
   {
    "duration": 9,
    "start_time": "2022-11-15T22:17:38.382Z"
   },
   {
    "duration": 9,
    "start_time": "2022-11-15T22:17:38.393Z"
   },
   {
    "duration": 17,
    "start_time": "2022-11-15T22:17:38.403Z"
   },
   {
    "duration": 344,
    "start_time": "2022-11-15T22:17:38.422Z"
   },
   {
    "duration": 28,
    "start_time": "2022-11-15T22:17:38.767Z"
   },
   {
    "duration": 5,
    "start_time": "2022-11-15T22:17:38.797Z"
   },
   {
    "duration": 11,
    "start_time": "2022-11-15T22:17:38.803Z"
   },
   {
    "duration": 7,
    "start_time": "2022-11-15T22:17:38.815Z"
   },
   {
    "duration": 6,
    "start_time": "2022-11-15T22:17:38.824Z"
   },
   {
    "duration": 16,
    "start_time": "2022-11-15T22:17:38.832Z"
   },
   {
    "duration": 392,
    "start_time": "2022-11-15T22:17:38.849Z"
   },
   {
    "duration": 22,
    "start_time": "2022-11-15T22:17:39.242Z"
   },
   {
    "duration": 16,
    "start_time": "2022-11-15T22:17:39.265Z"
   },
   {
    "duration": 749,
    "start_time": "2022-11-15T22:17:39.283Z"
   },
   {
    "duration": 5,
    "start_time": "2022-11-15T22:17:40.033Z"
   },
   {
    "duration": 14,
    "start_time": "2022-11-15T22:17:40.040Z"
   },
   {
    "duration": 14,
    "start_time": "2022-11-15T22:17:40.055Z"
   },
   {
    "duration": 413,
    "start_time": "2022-11-15T22:17:40.070Z"
   },
   {
    "duration": 5,
    "start_time": "2022-11-15T22:17:40.484Z"
   },
   {
    "duration": 9,
    "start_time": "2022-11-15T22:17:40.491Z"
   }
  ],
  "kernelspec": {
   "display_name": "Python 3 (ipykernel)",
   "language": "python",
   "name": "python3"
  },
  "language_info": {
   "codemirror_mode": {
    "name": "ipython",
    "version": 3
   },
   "file_extension": ".py",
   "mimetype": "text/x-python",
   "name": "python",
   "nbconvert_exporter": "python",
   "pygments_lexer": "ipython3",
   "version": "3.9.12"
  },
  "toc": {
   "base_numbering": 1,
   "nav_menu": {},
   "number_sections": true,
   "sideBar": true,
   "skip_h1_title": true,
   "title_cell": "Table of Contents",
   "title_sidebar": "Contents",
   "toc_cell": false,
   "toc_position": {},
   "toc_section_display": true,
   "toc_window_display": true
  }
 },
 "nbformat": 4,
 "nbformat_minor": 5
}
